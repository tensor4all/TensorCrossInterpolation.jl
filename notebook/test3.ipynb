{
 "cells": [
  {
   "cell_type": "code",
   "execution_count": 1,
   "metadata": {},
   "outputs": [],
   "source": [
    "using Revise\n",
    "\n",
    "using Test\n",
    "import TensorCrossInterpolation as TCI\n",
    "import Random"
   ]
  },
  {
   "cell_type": "code",
   "execution_count": 2,
   "metadata": {},
   "outputs": [],
   "source": [
    "using Test\n",
    "import TensorCrossInterpolation as TCI\n",
    "import TensorCrossInterpolation: rank, linkdims, TensorCI2, MultiIndex, evaluate, crossinterpolate2, pivoterror, tensortrain\n",
    "import Random\n",
    "import QuanticsGrids as QD"
   ]
  },
  {
   "cell_type": "code",
   "execution_count": 3,
   "metadata": {},
   "outputs": [
    {
     "data": {
      "text/plain": [
       "14"
      ]
     },
     "metadata": {},
     "output_type": "display_data"
    }
   ],
   "source": [
    "import TensorCrossInterpolation as TCI\n",
    "using TensorCrossInterpolation\n",
    "using Random\n",
    "using Test\n",
    "using ITensors\n",
    "ITensors.disable_warn_order()"
   ]
  },
  {
   "cell_type": "code",
   "execution_count": 4,
   "metadata": {},
   "outputs": [
    {
     "name": "stdout",
     "output_type": "stream",
     "text": [
      "size(noise) = (2, 2, 2, 2, 2, 2, 2, 2, 2, 2, 2, 2, 2, 2, 2, 2, 2, 2, 2, 2)\n",
      "sum(abs.(noise) .> abstol) = 0\n"
     ]
    }
   ],
   "source": [
    "pivotsearch = :full\n",
    "seed = 1234567\n",
    "\n",
    "Random.seed!(seed)\n",
    "\n",
    "R = 20\n",
    "abstol = 1e-3\n",
    "sites = [Index(2, \"n=$n\") for n in 1:R]\n",
    "localdims = fill(2, R)\n",
    "\n",
    "Ψ = random_mps(sites; linkdims=10)\n",
    "\n",
    "tensor = Array(reduce(*, Ψ), reverse(sites))\n",
    "tensor ./= maximum(abs, tensor)\n",
    "#noise = (0.2 * abstol) .* randn(size(tensor))\n",
    "noise = 0.1 .* abstol .* (2 .* rand(localdims...) .- 1)\n",
    "@show size(noise)\n",
    "@show sum(abs.(noise) .> abstol)\n",
    "tensor .+= noise\n",
    ";"
   ]
  },
  {
   "cell_type": "code",
   "execution_count": 5,
   "metadata": {},
   "outputs": [
    {
     "name": "stdout",
     "output_type": "stream",
     "text": [
      "(bondindex, length(Iset)) = (1, 2)\n",
      "(bondindex, length(Iset)) = (2, 2)\n",
      "(bondindex, length(Iset)) = (3, 2)\n",
      "(bondindex, length(Iset)) = (4, 2)\n",
      "(bondindex, length(Iset)) = (5, 2)\n",
      "(bondindex, length(Iset)) = (6, 2)\n",
      "(bondindex, length(Iset)) = (7, 2)\n",
      "(bondindex, length(Iset)) = (8, 2)\n",
      "(bondindex, length(Iset)) = (9, 2)\n",
      "(bondindex, length(Iset)) = (10, 2)\n",
      "(bondindex, length(Iset)) = (11, 2)\n",
      "(bondindex, length(Iset)) = (12, 2)\n",
      "(bondindex, length(Iset)) = (13, 2)\n",
      "(bondindex, length(Iset)) = (14, 2)\n",
      "(bondindex, length(Iset)) = (15, 2)\n",
      "(bondindex, length(Iset)) = (16, 2)\n",
      "(bondindex, length(Iset)) = (17, 2)\n",
      "(bondindex, length(Iset)) = (18, 2)\n",
      "(bondindex, length(Iset)) = (19, 2)\n",
      "iteration = 1, rank = 22, error= 0.0, maxsamplevalue= 0.17977327913471353, nglobalpivot=0\n",
      "(bondindex, length(Iset)) = (1, 2)\n",
      "(bondindex, length(Iset)) = (2, 4)\n",
      "(bondindex, length(Iset)) = (3, 6)\n",
      "(bondindex, length(Iset)) = (4, 8)\n",
      "(bondindex, length(Iset)) = (5, 10)\n",
      "(bondindex, length(Iset)) = (6, 10)\n",
      "(bondindex, length(Iset)) = (7, 10)\n",
      "(bondindex, length(Iset)) = (8, 10)\n",
      "(bondindex, length(Iset)) = (9, 10)\n",
      "(bondindex, length(Iset)) = (10, 10)\n",
      "(bondindex, length(Iset)) = (11, 10)\n",
      "(bondindex, length(Iset)) = (12, 10)\n",
      "(bondindex, length(Iset)) = (13, 10)\n",
      "(bondindex, length(Iset)) = (14, 10)\n",
      "(bondindex, length(Iset)) = (15, 9)\n",
      "(bondindex, length(Iset)) = (16, 8)\n",
      "(bondindex, length(Iset)) = (17, 6)\n",
      "(bondindex, length(Iset)) = (18, 4)\n",
      "(bondindex, length(Iset)) = (19, 2)\n",
      "iteration = 2, rank = 110, error= 0.000815793088633453, maxsamplevalue= 0.3395285763941544, nglobalpivot=0\n",
      "(bondindex, length(Iset)) = (1, 2)\n",
      "(bondindex, length(Iset)) = (2, 4)\n",
      "(bondindex, length(Iset)) = (3, 8)\n",
      "(bondindex, length(Iset)) = (4, 10)\n",
      "(bondindex, length(Iset)) = (5, 10)\n",
      "(bondindex, length(Iset)) = (6, 10)\n",
      "(bondindex, length(Iset)) = (7, 10)\n",
      "(bondindex, length(Iset)) = (8, 10)\n",
      "(bondindex, length(Iset)) = (9, 10)\n",
      "(bondindex, length(Iset)) = (10, 10)\n",
      "(bondindex, length(Iset)) = (11, 10)\n",
      "(bondindex, length(Iset)) = (12, 10)\n",
      "(bondindex, length(Iset)) = (13, 10)\n",
      "(bondindex, length(Iset)) = (14, 10)\n",
      "(bondindex, length(Iset)) = (15, 10)\n",
      "(bondindex, length(Iset)) = (16, 10)\n",
      "(bondindex, length(Iset)) = (17, 8)\n",
      "(bondindex, length(Iset)) = (18, 4)\n",
      "(bondindex, length(Iset)) = (19, 2)\n",
      "iteration = 3, rank = 129, error= 0.0007831820802034085, maxsamplevalue= 0.6830228650832245, nglobalpivot=0\n",
      "(bondindex, length(Iset)) = (1, 2)\n",
      "(bondindex, length(Iset)) = (2, 4)\n",
      "(bondindex, length(Iset)) = (3, 8)\n",
      "(bondindex, length(Iset)) = (4, 10)\n",
      "(bondindex, length(Iset)) = (5, 10)\n",
      "(bondindex, length(Iset)) = (6, 10)\n",
      "(bondindex, length(Iset)) = (7, 10)\n",
      "(bondindex, length(Iset)) = (8, 10)\n",
      "(bondindex, length(Iset)) = (9, 10)\n",
      "(bondindex, length(Iset)) = (10, 10)\n",
      "(bondindex, length(Iset)) = (11, 10)\n",
      "(bondindex, length(Iset)) = (12, 10)\n",
      "(bondindex, length(Iset)) = (13, 10)\n",
      "(bondindex, length(Iset)) = (14, 10)\n",
      "(bondindex, length(Iset)) = (15, 10)\n",
      "(bondindex, length(Iset)) = (16, 10)\n",
      "(bondindex, length(Iset)) = (17, 8)\n",
      "(bondindex, length(Iset)) = (18, 4)\n",
      "(bondindex, length(Iset)) = (19, 2)\n",
      "iteration = 4, rank = 116, error= 0.0006842514870494948, maxsamplevalue= 0.862913261863512, nglobalpivot=0\n",
      "(bondindex, length(Iset)) = (1, 2)\n",
      "(bondindex, length(Iset)) = (2, 4)\n",
      "(bondindex, length(Iset)) = (3, 8)\n",
      "(bondindex, length(Iset)) = (4, 10)\n",
      "(bondindex, length(Iset)) = (5, 10)\n",
      "(bondindex, length(Iset)) = (6, 10)\n",
      "(bondindex, length(Iset)) = (7, 10)\n",
      "(bondindex, length(Iset)) = (8, 10)\n",
      "(bondindex, length(Iset)) = (9, 10)\n",
      "(bondindex, length(Iset)) = (10, 10)\n",
      "(bondindex, length(Iset)) = (11, 10)\n",
      "(bondindex, length(Iset)) = (12, 10)\n",
      "(bondindex, length(Iset)) = (13, 10)\n",
      "(bondindex, length(Iset)) = (14, 10)\n",
      "(bondindex, length(Iset)) = (15, 10)\n",
      "(bondindex, length(Iset)) = (16, 10)\n",
      "(bondindex, length(Iset)) = (17, 8)\n",
      "(bondindex, length(Iset)) = (18, 4)\n",
      "(bondindex, length(Iset)) = (19, 2)\n",
      "iteration = 5, rank = 109, error= 0.0007002473305444575, maxsamplevalue= 1.000067795233795, nglobalpivot=0\n",
      "abstol = 0.001\n"
     ]
    },
    {
     "data": {
      "text/plain": [
       "0.001"
      ]
     },
     "metadata": {},
     "output_type": "display_data"
    }
   ],
   "source": [
    "\n",
    "f(x) = tensor[x...]\n",
    "\n",
    "firstpivot = ones(Int, R)\n",
    "tci_opt, ranks, errors = crossinterpolate2(\n",
    "    Float64,\n",
    "    f,\n",
    "    localdims,\n",
    "    [firstpivot];\n",
    "    tolerance=abstol,\n",
    "    maxbonddim=typemax(Int),\n",
    "    maxiter=typemax(Int),\n",
    "    loginterval=1,\n",
    "    verbosity=1,\n",
    "    normalizeerror=false,\n",
    "    pivotsearch=pivotsearch,\n",
    ")\n",
    "@show abstol"
   ]
  },
  {
   "cell_type": "code",
   "execution_count": 6,
   "metadata": {},
   "outputs": [
    {
     "data": {
      "text/plain": [
       "TensorCI2{Float64}([[1, 2, 1, 2, 2, 1, 2, 2, 2, 2, 2, 1, 1, 1, 2, 1, 1, 1, 2, 2], [1, 2, 2, 2, 1, 1, 1, 2, 2, 2, 1, 1, 2, 1, 1, 1, 2, 2, 1, 1], [1, 2, 2, 2, 1, 1, 1, 2, 2, 2, 2, 2, 2, 1, 2, 1, 1, 1, 2, 2], [2, 1, 2, 2, 1, 2, 2, 2, 2, 2, 2, 2, 2, 2, 2, 1, 1, 1, 2, 2], [2, 1, 2, 2, 1, 2, 2, 1, 2, 2, 2, 1, 2, 1, 1, 2, 1, 1, 1, 1], [1, 2, 2, 1, 2, 2, 1, 1, 1, 1, 1, 2, 2, 1, 2, 1, 1, 1, 2, 2], [2, 1, 2, 1, 1, 2, 2, 1, 2, 1, 2, 1, 1, 1, 2, 1, 1, 1, 2, 2], [2, 2, 1, 1, 1, 2, 1, 2, 2, 1, 1, 1, 1, 1, 1, 2, 2, 1, 2, 1], [1, 1, 2, 1, 2, 2, 1, 1, 2, 2, 2, 2, 2, 2, 2, 1, 1, 1, 2, 2], [1, 2, 1, 2, 2, 2, 2, 2, 1, 1, 2, 1, 2, 1, 1, 1, 1, 1, 2, 2]  …  [1, 1, 2, 1, 1, 1, 2, 1, 1, 1, 2, 1, 2, 2, 1, 2, 2, 1, 2, 1], [2, 2, 1, 1, 1, 1, 1, 2, 1, 1, 1, 2, 2, 2, 2, 1, 2, 1, 2, 2], [1, 2, 2, 2, 2, 1, 2, 1, 1, 1, 2, 1, 2, 1, 1, 1, 1, 1, 2, 2], [1, 2, 2, 2, 1, 1, 1, 2, 2, 2, 1, 1, 1, 1, 1, 2, 2, 1, 2, 1], [1, 1, 1, 2, 2, 2, 1, 1, 1, 2, 1, 2, 2, 1, 2, 1, 1, 1, 2, 2], [2, 1, 2, 2, 1, 2, 2, 2, 2, 1, 2, 1, 2, 1, 1, 1, 1, 1, 2, 2], [2, 1, 2, 2, 1, 2, 2, 2, 2, 1, 1, 1, 1, 2, 1, 1, 1, 1, 2, 2], [1, 2, 2, 2, 2, 2, 2, 2, 1, 1, 1, 1, 2, 2, 2, 1, 1, 1, 2, 2], [1, 1, 1, 1, 1, 2, 2, 2, 1, 1, 2, 1, 2, 1, 1, 1, 1, 1, 2, 2], [1, 1, 1, 2, 2, 2, 2, 2, 2, 1, 2, 1, 2, 1, 1, 1, 1, 1, 2, 2]], [2, 2, 2, 2, 2, 2, 2, 2, 2, 2, 2, 2, 2, 2, 2, 2, 2, 2, 2, 2], Float64[], [0.0, 0.0, 0.0, 0.0, 0.0, 0.0, 0.0, 0.0, 0.0, 0.0, 0.0, 0.0, 0.0, 0.0, 0.0, 0.0, 0.0, 0.0, 0.0], 1.000067795233795)"
      ]
     },
     "metadata": {},
     "output_type": "display_data"
    }
   ],
   "source": [
    "tci = TensorCI2{Float64}(f, localdims, tci_opt.globalpivots)"
   ]
  },
  {
   "cell_type": "code",
   "execution_count": 26,
   "metadata": {},
   "outputs": [],
   "source": [
    "Iset, Jset = TCI.localpivots(tci, f; reltol=1e-14)\n",
    ";"
   ]
  },
  {
   "cell_type": "code",
   "execution_count": 27,
   "metadata": {},
   "outputs": [
    {
     "data": {
      "text/plain": [
       "20-element Vector{Int64}:\n",
       "  1\n",
       "  2\n",
       "  4\n",
       "  8\n",
       " 11\n",
       " 17\n",
       " 27\n",
       " 33\n",
       " 40\n",
       " 44\n",
       " 51\n",
       " 49\n",
       " 40\n",
       " 32\n",
       " 26\n",
       " 18\n",
       " 12\n",
       "  8\n",
       "  4\n",
       "  2"
      ]
     },
     "metadata": {},
     "output_type": "display_data"
    }
   ],
   "source": [
    "length.(Iset)"
   ]
  },
  {
   "cell_type": "code",
   "execution_count": 28,
   "metadata": {},
   "outputs": [
    {
     "name": "stdout",
     "output_type": "stream",
     "text": [
      "LinearAlgebra.cond(P) = 293697.3729511945\n",
      "LinearAlgebra.cond(P) = 230963.26118808458\n",
      "LinearAlgebra.cond(P) = 156497.20290816677\n",
      "LinearAlgebra.cond(P) = 74179.57564366162\n",
      "LinearAlgebra.cond(P) = 67744.08405187531\n",
      "LinearAlgebra.cond(P) = 57594.420264172295\n",
      "LinearAlgebra.cond(P) = 17332.298085669052\n",
      "LinearAlgebra.cond(P) = 13.709305395298959\n",
      "LinearAlgebra.cond(P) = 4.933871281031624\n",
      "LinearAlgebra.cond(P) = 1.2608265335832596\n"
     ]
    },
    {
     "data": {
      "text/plain": [
       "(::TensorTrain{Float64, 3}) (generic function with 1 method)"
      ]
     },
     "metadata": {},
     "output_type": "display_data"
    }
   ],
   "source": [
    "sitetensors = TCI.sitetensors(Float64, Iset, Jset, f, tci.localdims; orthocenter=length(tci.localdims) ÷ 2)\n",
    "tt = TCI.TensorTrain(sitetensors)"
   ]
  },
  {
   "cell_type": "code",
   "execution_count": 29,
   "metadata": {},
   "outputs": [
    {
     "name": "stdout",
     "output_type": "stream",
     "text": [
      "LinearAlgebra.cond(P) = 1.2285031453517343\n",
      "LinearAlgebra.cond(P) = 2.239248721523473\n",
      "LinearAlgebra.cond(P) = 12.348447868126119\n",
      "LinearAlgebra.cond(P) = 13946.565583169271\n",
      "LinearAlgebra.cond(P) = 38770.451070275565\n",
      "LinearAlgebra.cond(P) = 55038.76085993443\n",
      "LinearAlgebra.cond(P) = 101007.24405076128\n",
      "LinearAlgebra.cond(P) = 185971.3554494272\n",
      "LinearAlgebra.cond(P) = 151176.2681471878\n",
      "LinearAlgebra.cond(P) = 293697.3729511945\n",
      "LinearAlgebra.cond(P) = 230963.26118808458\n",
      "LinearAlgebra.cond(P) = 156497.20290816677\n",
      "LinearAlgebra.cond(P) = 74179.57564366162\n",
      "LinearAlgebra.cond(P) = 67744.08405187531\n",
      "LinearAlgebra.cond(P) = 57594.420264172295\n",
      "LinearAlgebra.cond(P) = 17332.298085669052\n",
      "LinearAlgebra.cond(P) = 13.709305395298959\n",
      "LinearAlgebra.cond(P) = 4.933871281031624\n",
      "LinearAlgebra.cond(P) = 1.2608265335832596\n"
     ]
    }
   ],
   "source": [
    "Atensors = TCI.Atensors(Float64, Iset, Jset, f, tci.localdims)\n",
    "Btensors = TCI.Btensors(Float64, Iset, Jset, f, tci.localdims)\n",
    ";"
   ]
  },
  {
   "cell_type": "code",
   "execution_count": 30,
   "metadata": {},
   "outputs": [
    {
     "data": {
      "text/plain": [
       "isrightnested (generic function with 1 method)"
      ]
     },
     "metadata": {},
     "output_type": "display_data"
    }
   ],
   "source": [
    "function isleftnested(L, Iset, idx::Vector{Int})\n",
    "    for b in 1:length(idx)\n",
    "        if !(idx[1:b] ∈ Iset[b+1])\n",
    "            return false\n",
    "        end\n",
    "    end\n",
    "    return true\n",
    "end\n",
    "\n",
    "function isrightnested(L, Jset, idx::Vector{Int})\n",
    "    for b in 1:length(idx)\n",
    "        if !(idx[b:end] ∈ Jset[L + b - length(idx) - 1])\n",
    "            return false\n",
    "        end\n",
    "    end\n",
    "    return true\n",
    "end"
   ]
  },
  {
   "cell_type": "code",
   "execution_count": 31,
   "metadata": {},
   "outputs": [
    {
     "data": {
      "text/plain": [
       "rightenv (generic function with 1 method)"
      ]
     },
     "metadata": {},
     "output_type": "display_data"
    }
   ],
   "source": [
    "function rightenv(Jset::Vector{MultiIndex}, posinJset, Btensors)\n",
    "    L = length(Btensors) + 1\n",
    "    b = length(Jset[1])\n",
    "    Bs_ = Btensors[L-1-b+1:L-1]\n",
    "    only(reduce(*, [B_[:, σ, :] for (B_, σ) in zip(Bs_, Jset[posinJset])])[posinJset])\n",
    "end"
   ]
  },
  {
   "cell_type": "code",
   "execution_count": 32,
   "metadata": {},
   "outputs": [
    {
     "name": "stdout",
     "output_type": "stream",
     "text": [
      "(b, j, e, n_) = (2, [1, 1, 1, 1, 1, 2, 1, 1, 1, 1, 1, 2, 1, 1, 1, 1, 2, 2], 1.000201183825643, false)\n",
      "(b, j, e, n_) = (3, [2, 1, 1, 1, 2, 2, 2, 1, 1, 2, 1, 1, 2, 1, 1, 1, 1], 1.000020409503036, false)\n",
      "(b, j, e, n_) = (3, [1, 1, 1, 1, 2, 1, 1, 1, 1, 1, 2, 1, 1, 1, 1, 2, 2], 0.9990410415697707, false)\n",
      "(b, j, e, n_) = (3, [1, 1, 1, 2, 2, 2, 2, 1, 1, 1, 1, 2, 1, 1, 1, 2, 2], 1.0010568958917212, false)\n",
      "(b, j, e, n_) = (4, [1, 1, 1, 2, 2, 2, 1, 1, 2, 1, 1, 2, 1, 1, 1, 1], 0.8130238459858606, false)\n",
      "(b, j, e, n_) = (4, [1, 1, 2, 2, 2, 2, 1, 1, 1, 1, 2, 1, 1, 1, 2, 2], 0.8206742331918349, false)\n",
      "(b, j, e, n_) = (4, [2, 1, 2, 2, 2, 2, 2, 1, 1, 1, 2, 1, 1, 1, 2, 2], 0.989030825622508, false)\n",
      "(b, j, e, n_) = (4, [1, 1, 1, 1, 2, 2, 2, 2, 2, 2, 2, 1, 1, 1, 2, 2], 1.5294638742042523, false)\n",
      "(b, j, e, n_) = (4, [1, 1, 1, 2, 2, 2, 2, 1, 2, 1, 2, 1, 1, 1, 2, 2], 0.8509484564015138, false)\n",
      "(b, j, e, n_) = (5, [1, 1, 2, 2, 2, 1, 1, 2, 1, 1, 2, 1, 1, 1, 1], 1.399307874197024, false)\n",
      "(b, j, e, n_) = (5, [1, 2, 2, 2, 2, 1, 1, 1, 1, 2, 1, 1, 1, 2, 2], 0.632728448921462, false)\n",
      "(b, j, e, n_) = (5, [2, 1, 1, 2, 2, 1, 1, 1, 1, 2, 1, 1, 1, 2, 2], 1.4531218500287366, false)\n",
      "(b, j, e, n_) = (5, [2, 1, 2, 2, 1, 2, 1, 2, 1, 1, 1, 1, 1, 2, 2], 1.2563245785132215, false)\n",
      "(b, j, e, n_) = (5, [1, 1, 1, 2, 2, 2, 2, 2, 2, 2, 1, 1, 1, 2, 2], 1.4993955215846435, false)\n",
      "(b, j, e, n_) = (5, [1, 2, 1, 1, 1, 1, 2, 2, 1, 2, 1, 1, 1, 2, 2], 1.005606446821019, false)\n",
      "(b, j, e, n_) = (5, [1, 1, 2, 1, 1, 2, 2, 2, 1, 2, 1, 2, 1, 2, 1], 1.023247137929987, false)\n",
      "(b, j, e, n_) = (5, [2, 1, 2, 2, 1, 1, 1, 1, 1, 1, 2, 2, 1, 2, 1], 0.5332001019697075, false)\n",
      "(b, j, e, n_) = (5, [1, 2, 2, 2, 1, 1, 1, 1, 1, 1, 2, 2, 1, 2, 1], 1.0055069332331381, false)\n",
      "(b, j, e, n_) = (5, [2, 2, 2, 1, 1, 1, 1, 2, 2, 2, 1, 1, 1, 2, 2], 0.49950046406222487, false)\n",
      "(b, j, e, n_) = (5, [2, 2, 2, 1, 1, 2, 2, 2, 1, 2, 1, 2, 1, 2, 1], 0.6377955024005151, false)\n",
      "(b, j, e, n_) = (5, [1, 2, 2, 1, 2, 1, 1, 1, 1, 1, 2, 2, 1, 2, 1], -0.3341185438980804, false)\n",
      "(b, j, e, n_) = (5, [1, 1, 2, 2, 2, 2, 1, 2, 1, 1, 2, 2, 2, 2, 2], -0.6846789556077709, false)\n",
      "(b, j, e, n_) = (6, [1, 2, 2, 2, 1, 1, 2, 1, 1, 2, 1, 1, 1, 1], 1.481585251724986, false)\n",
      "(b, j, e, n_) = (6, [1, 1, 2, 2, 2, 2, 2, 2, 2, 1, 1, 1, 2, 2], 1.504668681200452, false)\n",
      "(b, j, e, n_) = (6, [2, 2, 2, 2, 1, 1, 1, 1, 2, 1, 1, 1, 2, 2], 1.048201134048035, false)\n",
      "(b, j, e, n_) = (6, [2, 1, 2, 2, 1, 2, 2, 2, 1, 2, 2, 1, 2, 1], -0.27016996207038446, false)\n",
      "(b, j, e, n_) = (6, [2, 2, 2, 1, 1, 1, 1, 2, 1, 1, 1, 1, 2, 2], -0.0901883417070436, false)\n",
      "(b, j, e, n_) = (6, [2, 2, 1, 1, 1, 1, 1, 2, 1, 1, 1, 1, 2, 2], 2.176032040477866, false)\n",
      "(b, j, e, n_) = (6, [2, 1, 1, 1, 1, 1, 1, 2, 1, 1, 1, 1, 2, 2], 3.4403636506894446, false)\n",
      "(b, j, e, n_) = (6, [1, 2, 2, 1, 1, 1, 2, 1, 1, 1, 1, 1, 2, 2], 0.5347798987755547, false)\n",
      "(b, j, e, n_) = (6, [2, 2, 2, 1, 2, 2, 2, 1, 1, 1, 1, 1, 2, 2], 5.2899733691542234, false)\n",
      "(b, j, e, n_) = (6, [1, 2, 2, 2, 1, 1, 2, 1, 1, 1, 2, 2, 1, 1], -0.45137570213517325, false)\n",
      "(b, j, e, n_) = (6, [1, 2, 2, 2, 1, 1, 2, 1, 1, 2, 2, 2, 2, 2], 1.707978077820017, false)\n",
      "(b, j, e, n_) = (6, [1, 2, 1, 1, 1, 2, 2, 2, 2, 1, 2, 1, 2, 2], -0.05420222376830338, false)\n",
      "(b, j, e, n_) = (6, [1, 2, 2, 2, 1, 1, 2, 1, 1, 1, 1, 1, 1, 2], -1.2050142496492844, false)\n",
      "(b, j, e, n_) = (6, [2, 2, 2, 2, 2, 1, 1, 1, 2, 1, 1, 1, 2, 2], 0.842807334318399, false)\n",
      "(b, j, e, n_) = (6, [1, 2, 2, 1, 1, 1, 1, 1, 1, 2, 2, 1, 2, 2], 1.7649278385067986, false)\n",
      "(b, j, e, n_) = (6, [2, 2, 2, 1, 1, 2, 2, 1, 1, 2, 1, 2, 2, 2], 0.4085351927345348, false)\n",
      "(b, j, e, n_) = (7, [1, 2, 2, 2, 2, 2, 2, 2, 1, 1, 1, 2, 2], -0.16208302477100078, false)\n",
      "(b, j, e, n_) = (7, [2, 2, 1, 1, 1, 1, 2, 1, 1, 1, 1, 2, 2], 0.22194617874769745, false)\n",
      "(b, j, e, n_) = (7, [2, 2, 2, 2, 1, 2, 2, 2, 2, 1, 1, 2, 2], 0.5443667898794998, false)\n",
      "(b, j, e, n_) = (7, [2, 2, 2, 2, 2, 2, 2, 2, 1, 1, 1, 2, 2], 0.9576744500008155, false)\n",
      "(b, j, e, n_) = (7, [2, 2, 1, 1, 1, 1, 1, 1, 2, 2, 1, 2, 2], -0.04125339814340501, false)\n",
      "(b, j, e, n_) = (7, [1, 2, 2, 1, 1, 2, 1, 1, 1, 2, 2, 2, 2], 2.871430723931899, false)\n",
      "(b, j, e, n_) = (7, [2, 2, 2, 2, 1, 2, 1, 1, 2, 2, 2, 2, 2], 0.9092945414314509, false)\n",
      "(b, j, e, n_) = (7, [2, 1, 1, 1, 1, 1, 2, 1, 1, 1, 1, 2, 2], -0.7213957107388991, false)\n",
      "(b, j, e, n_) = (7, [1, 1, 1, 1, 1, 1, 2, 1, 1, 1, 1, 2, 2], 0.13877805343505226, false)\n",
      "(b, j, e, n_) = (7, [1, 2, 2, 1, 1, 1, 1, 2, 1, 1, 1, 2, 2], 0.5965069052657604, false)\n",
      "(b, j, e, n_) = (7, [1, 1, 2, 1, 1, 1, 1, 1, 1, 1, 1, 2, 2], 1.3986237831538804, false)\n",
      "(b, j, e, n_) = (7, [2, 1, 1, 1, 2, 2, 2, 2, 1, 2, 1, 2, 2], 0.4729376489973189, false)\n",
      "(b, j, e, n_) = (7, [2, 1, 2, 2, 1, 2, 2, 2, 2, 1, 1, 2, 2], 1.6350846823389726, false)\n",
      "(b, j, e, n_) = (7, [2, 2, 2, 1, 1, 2, 1, 2, 2, 1, 1, 1, 1], 0.44062400893425174, false)\n",
      "(b, j, e, n_) = (8, [2, 2, 1, 1, 2, 1, 1, 1, 2, 2, 2, 2], 1.4570320166466046, false)\n",
      "(b, j, e, n_) = (8, [2, 1, 1, 1, 1, 2, 1, 1, 1, 1, 2, 2], 0.6680858408360631, false)\n",
      "(b, j, e, n_) = (8, [1, 1, 1, 2, 1, 1, 2, 1, 1, 1, 2, 2], 0.2932180786789771, false)\n",
      "(b, j, e, n_) = (8, [2, 2, 2, 1, 2, 2, 2, 2, 1, 1, 2, 2], -0.06906999215436994, false)\n",
      "(b, j, e, n_) = (8, [1, 2, 1, 1, 1, 1, 1, 1, 1, 1, 2, 2], 0.2544913766541484, false)\n",
      "(b, j, e, n_) = (8, [2, 2, 2, 1, 2, 2, 1, 1, 1, 1, 2, 2], 0.15576998788181323, false)\n",
      "(b, j, e, n_) = (8, [2, 2, 1, 1, 2, 1, 1, 2, 2, 1, 2, 1], 0.6352915654507844, false)\n",
      "(b, j, e, n_) = (8, [1, 1, 1, 1, 1, 2, 1, 1, 1, 1, 2, 2], 1.7329643885357346, false)\n",
      "(b, j, e, n_) = (8, [1, 1, 2, 1, 1, 2, 1, 2, 2, 1, 2, 1], 1.0937698247665586, false)\n",
      "(b, j, e, n_) = (8, [2, 2, 1, 1, 2, 1, 1, 1, 2, 2, 1, 1], 0.8612489967626782, false)\n",
      "(b, j, e, n_) = (8, [2, 2, 2, 1, 2, 1, 1, 2, 2, 2, 2, 2], -0.026362698965360965, false)\n",
      "(b, j, e, n_) = (8, [2, 2, 1, 1, 1, 1, 2, 1, 1, 1, 2, 1], 0.934281154053772, false)\n",
      "(b, j, e, n_) = (9, [1, 2, 2, 2, 1, 1, 1, 1, 1, 2, 2], 0.7971129539890125, false)\n",
      "(b, j, e, n_) = (9, [2, 2, 1, 2, 2, 2, 1, 2, 1, 1, 1], -0.36881390755527105, false)\n",
      "(b, j, e, n_) = (9, [2, 1, 1, 2, 1, 1, 1, 1, 1, 1, 2], 1.5167142289313618, false)\n"
     ]
    }
   ],
   "source": [
    "for b in 1:R-1\n",
    "    for (j_, j) in enumerate(Jset[b])\n",
    "        n_ = isrightnested(R, Jset, j)\n",
    "        if n_\n",
    "            continue\n",
    "        end\n",
    "        e = rightenv(Jset[b], j_, Btensors)\n",
    "        if abs(e - 1.0) > 1e-10\n",
    "            @show b, j, e, n_\n",
    "        end\n",
    "    end\n",
    "end"
   ]
  },
  {
   "cell_type": "code",
   "execution_count": 33,
   "metadata": {},
   "outputs": [
    {
     "name": "stdout",
     "output_type": "stream",
     "text": [
      "TCI.linkdims(tt) = [2, 4, 8, 11, 17, 27, 33, 40, 44, 51, 49, 40, 32, 26, 18, 12, 8, 4, 2]\n",
      "abstol = 0.001\n",
      "(b, i, j, diff) = (2, [1, 1], [1, 1, 1, 1, 1, 2, 1, 1, 1, 1, 1, 2, 1, 1, 1, 1, 2, 2], 0.0010439812108056917)\n",
      "(b, i, j, diff) = (3, [1, 1, 1], [1, 1, 1, 1, 2, 1, 1, 1, 1, 1, 2, 1, 1, 1, 1, 2, 2], 0.0010439812108056917)\n",
      "(b, i, j, diff) = (6, [1, 1, 2, 1, 2, 2], [2, 2, 2, 1, 2, 2, 2, 1, 1, 1, 1, 1, 2, 2], 0.0011204051181428684)\n",
      "(b, i, j, diff) = (6, [2, 1, 2, 1, 1, 2], [1, 2, 2, 2, 1, 1, 2, 1, 1, 2, 2, 2, 2, 2], 0.001130266615485067)\n",
      "(b, i, j, diff) = (6, [1, 2, 2, 2, 1, 1], [2, 2, 2, 1, 2, 2, 2, 1, 1, 1, 1, 1, 2, 2], 0.0011179510692895037)\n",
      "(b, i, j, diff) = (6, [2, 1, 1, 1, 2, 1], [2, 2, 2, 1, 2, 2, 2, 1, 1, 1, 1, 1, 2, 2], 0.00126236368542142)\n",
      "(b, i, j, diff) = (6, [2, 2, 1, 1, 1, 1], [2, 2, 2, 1, 2, 2, 2, 1, 1, 1, 1, 1, 2, 2], 0.001110060025328402)\n",
      "(b, i, j, diff) = (13, [1, 1, 2, 1, 2, 2, 1, 1, 2, 2, 2, 2, 2], [1, 2, 1, 1, 1, 2, 1], 0.001687763567001871)\n",
      "(b, i, j, diff) = (13, [1, 1, 2, 1, 2, 2, 1, 1, 2, 2, 2, 2, 2], [1, 1, 1, 2, 2, 1, 2], 0.0012004867426229637)\n",
      "(b, i, j, diff) = (14, [1, 2, 2, 2, 1, 2, 1, 2, 2, 1, 2, 1, 2, 1], [2, 2, 1, 1, 1, 2], 0.0010996866860340012)\n",
      "(b, i, j, diff) = (15, [1, 2, 1, 2, 2, 2, 2, 1, 1, 1, 1, 2, 2, 2, 2], [1, 2, 2, 2, 2], 0.0011050693148086377)\n",
      "(b, i, j, diff) = (15, [1, 2, 1, 2, 2, 2, 2, 1, 1, 1, 1, 2, 2, 2, 2], [1, 1, 1, 1, 2], 0.00197194627234272)\n",
      "(b, i, j, diff) = (15, [1, 2, 1, 2, 2, 2, 2, 1, 1, 1, 1, 2, 2, 2, 2], [1, 2, 2, 1, 1], 0.002128969412297066)\n"
     ]
    }
   ],
   "source": [
    "# Interpolation error on pivot matrices\n",
    "#TCI.compress!(tt, :SVD; tolerance=1e-14)\n",
    "@show TCI.linkdims(tt)\n",
    "@show abstol\n",
    "ttc = TCI.TTCache(tt)\n",
    "for b in 1:length(tci)-1\n",
    "    #@show b, length(Iset[b+1]), length(Jset[b])\n",
    "    for i in Iset[b+1], j in Jset[b]\n",
    "        p = vcat(i, j)\n",
    "        diff = abs(TCI.evaluate(ttc, p) - f(p))\n",
    "        #if diff > 1e-10\n",
    "        if diff > abstol\n",
    "            @show b, i, j, diff\n",
    "            #@show abs(TCI.evaluate(tt, p) - f(p))\n",
    "        end\n",
    "    end\n",
    "end"
   ]
  },
  {
   "cell_type": "code",
   "execution_count": 34,
   "metadata": {},
   "outputs": [
    {
     "data": {
      "text/plain": [
       "(773, 7955)"
      ]
     },
     "metadata": {},
     "output_type": "display_data"
    }
   ],
   "source": [
    "ttc = TCI.TTCache(tt)\n",
    "diffs = Float64[]\n",
    "for b in 6:10\n",
    "    for i in Iset[b+1], j in Jset[b]\n",
    "        p = vcat(i, j)\n",
    "        diff = abs(TCI.evaluate(ttc, p) - f(p))\n",
    "        push!(diffs, diff)\n",
    "        if diff > 1e-10\n",
    "            @assert !(isleftnested(R, Iset, i) && isrightnested(R, Jset, j))\n",
    "        end\n",
    "    end\n",
    "end\n",
    "sum(abs.(diffs) .> 1e-10), length(diffs)"
   ]
  },
  {
   "cell_type": "code",
   "execution_count": 16,
   "metadata": {},
   "outputs": [],
   "source": [
    "#println(\"Error on T:\")\n",
    "#for l in 1:length(tci)-1\n",
    "    #diff = [TCI.evaluate(ttc, vcat(i, m, j)) - f(vcat(i, m, j)) for i in Iset[l], j in Jset[l], m in 1:localdims[l]]\n",
    "    #println(l, \"    \", maximum(abs, diff), \" \", maximum(abs, diff) > abstol)\n",
    "#end"
   ]
  },
  {
   "cell_type": "code",
   "execution_count": 17,
   "metadata": {},
   "outputs": [
    {
     "name": "stdout",
     "output_type": "stream",
     "text": [
      "(length(TCI.Iset(tci, b + 1)), length(TCI.Jset(tci, b))) = (2, 109)\n",
      "(length(TCI.Iset(tci, b + 1)), length(TCI.Jset(tci, b))) = (4, 109)\n",
      "(length(TCI.Iset(tci, b + 1)), length(TCI.Jset(tci, b))) = (8, 106)\n",
      "(length(TCI.Iset(tci, b + 1)), length(TCI.Jset(tci, b))) = (11, 103)\n",
      "(length(TCI.Iset(tci, b + 1)), length(TCI.Jset(tci, b))) = (17, 98)\n",
      "(length(TCI.Iset(tci, b + 1)), length(TCI.Jset(tci, b))) = (27, 91)\n",
      "(length(TCI.Iset(tci, b + 1)), length(TCI.Jset(tci, b))) = (33, 81)\n",
      "(length(TCI.Iset(tci, b + 1)), length(TCI.Jset(tci, b))) = (40, 72)\n",
      "(length(TCI.Iset(tci, b + 1)), length(TCI.Jset(tci, b))) = (44, 64)\n",
      "(length(TCI.Iset(tci, b + 1)), length(TCI.Jset(tci, b))) = (51, 56)\n",
      "(length(TCI.Iset(tci, b + 1)), length(TCI.Jset(tci, b))) = (60, 49)\n",
      "(length(TCI.Iset(tci, b + 1)), length(TCI.Jset(tci, b))) = (65, 40)\n",
      "(length(TCI.Iset(tci, b + 1)), length(TCI.Jset(tci, b))) = (74, 32)\n",
      "(length(TCI.Iset(tci, b + 1)), length(TCI.Jset(tci, b))) = (81, 26)\n",
      "(length(TCI.Iset(tci, b + 1)), length(TCI.Jset(tci, b))) = (91, 18)\n",
      "(length(TCI.Iset(tci, b + 1)), length(TCI.Jset(tci, b))) = (98, 12)\n",
      "(length(TCI.Iset(tci, b + 1)), length(TCI.Jset(tci, b))) = (103, 8)\n",
      "(length(TCI.Iset(tci, b + 1)), length(TCI.Jset(tci, b))) = (105, 4)\n",
      "(length(TCI.Iset(tci, b + 1)), length(TCI.Jset(tci, b))) = (108, 2)\n"
     ]
    }
   ],
   "source": [
    "for b in 1:length(tci)-1\n",
    "    @show length(TCI.Iset(tci, b+1)), length(TCI.Jset(tci, b))\n",
    "end"
   ]
  }
 ],
 "metadata": {
  "kernelspec": {
   "display_name": "Julia 1.10.4",
   "language": "julia",
   "name": "julia-1.10"
  },
  "language_info": {
   "file_extension": ".jl",
   "mimetype": "application/julia",
   "name": "julia",
   "version": "1.10.4"
  },
  "orig_nbformat": 4
 },
 "nbformat": 4,
 "nbformat_minor": 2
}
