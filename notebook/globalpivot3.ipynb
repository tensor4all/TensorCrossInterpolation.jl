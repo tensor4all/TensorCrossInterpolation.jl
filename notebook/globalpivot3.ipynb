{
 "cells": [
  {
   "cell_type": "code",
   "execution_count": 1,
   "metadata": {},
   "outputs": [],
   "source": [
    "using Revise\n",
    "\n",
    "using Test\n",
    "import TensorCrossInterpolation as TCI\n",
    "import Random"
   ]
  },
  {
   "cell_type": "code",
   "execution_count": 2,
   "metadata": {},
   "outputs": [],
   "source": [
    "using Test\n",
    "import TensorCrossInterpolation as TCI\n",
    "import TensorCrossInterpolation: rank, linkdims, TensorCI2, MultiIndex, evaluate, crossinterpolate2, pivoterror, tensortrain\n",
    "import Random\n",
    "import QuanticsGrids as QD"
   ]
  },
  {
   "cell_type": "code",
   "execution_count": 3,
   "metadata": {},
   "outputs": [
    {
     "data": {
      "text/plain": [
       "14"
      ]
     },
     "metadata": {},
     "output_type": "display_data"
    }
   ],
   "source": [
    "import TensorCrossInterpolation as TCI\n",
    "using TensorCrossInterpolation\n",
    "using Random\n",
    "using Test\n",
    "using ITensors\n",
    "ITensors.disable_warn_order()"
   ]
  },
  {
   "cell_type": "code",
   "execution_count": 4,
   "metadata": {},
   "outputs": [
    {
     "data": {
      "text/plain": [
       "TensorCI2{Float64}([[1, 1, 2, 2, 2, 1, 1, 1, 2, 2, 2, 2], [2, 1, 2, 2, 1, 1, 2, 1, 2, 2, 1, 1], [1, 1, 1, 2, 2, 1, 1, 2, 1, 2, 2, 1], [2, 1, 1, 1, 2, 1, 2, 1, 2, 2, 1, 1], [1, 2, 2, 1, 1, 2, 2, 1, 1, 1, 1, 2], [2, 2, 2, 1, 2, 1, 1, 1, 1, 2, 1, 1], [2, 1, 1, 1, 2, 2, 2, 1, 2, 1, 1, 1], [1, 2, 1, 1, 1, 1, 1, 1, 1, 2, 2, 2], [1, 1, 2, 2, 2, 1, 1, 2, 1, 2, 1, 1], [1, 2, 2, 2, 2, 2, 2, 2, 2, 1, 2, 2]  …  [1, 1, 1, 2, 1, 2, 2, 1, 1, 2, 2, 1], [1, 1, 2, 2, 1, 2, 1, 2, 2, 2, 2, 1], [2, 1, 1, 2, 1, 1, 2, 2, 2, 2, 1, 2], [2, 2, 1, 2, 2, 1, 2, 1, 1, 2, 2, 2], [1, 2, 2, 1, 2, 1, 1, 1, 2, 2, 2, 2], [1, 1, 2, 2, 2, 1, 2, 1, 1, 1, 1, 2], [1, 2, 2, 2, 1, 1, 2, 1, 1, 1, 1, 2], [2, 1, 2, 2, 1, 1, 1, 1, 1, 1, 1, 1], [1, 1, 2, 2, 2, 2, 1, 1, 2, 1, 1, 1], [2, 2, 1, 1, 1, 1, 1, 1, 2, 2, 1, 1]], [2, 2, 2, 2, 2, 2, 2, 2, 2, 2, 2, 2], Float64[], [0.0, 0.0, 0.0, 0.0, 0.0, 0.0, 0.0, 0.0, 0.0, 0.0, 0.0], 0.3847111302256151)"
      ]
     },
     "metadata": {},
     "output_type": "display_data"
    }
   ],
   "source": [
    "seed = 124567890\n",
    "\n",
    "Random.seed!(seed)\n",
    "\n",
    "R = 12\n",
    "sites = [Index(2, \"n=$n\") for n in 1:R]\n",
    "\n",
    "Ψ = random_mps(sites; linkdims=20)\n",
    "rindex = Set([rand(1:2, R) for _ in 1:20])\n",
    "\n",
    "tensor = Array(reduce(*, Ψ), reverse(sites))\n",
    "tensor = tensor ./ maximum(abs, tensor)\n",
    "\n",
    "f(x) = tensor[x...]\n",
    "\n",
    "localdims = fill(2, R)\n",
    "initialpivots = MultiIndex[]\n",
    "for _ in 1:100\n",
    "    push!(initialpivots, [rand(1:d) for d in localdims])\n",
    "end\n",
    "#push!(initialpivots, [1, 1, 1, 1])\n",
    "#push!(initialpivots, [2, 1, 1, 1])\n",
    "#push!(initialpivots, [2, 1, 1, 1])\n",
    "#push!(initialpivots, [2, 2, 1, 1])\n",
    "\n",
    "tci = TensorCI2{Float64}(f, localdims, initialpivots)"
   ]
  },
  {
   "cell_type": "code",
   "execution_count": 5,
   "metadata": {},
   "outputs": [],
   "source": [
    "Iset, Jset = TCI.localpivots(tci, f; reltol=1e-8)\n",
    ";"
   ]
  },
  {
   "cell_type": "code",
   "execution_count": 6,
   "metadata": {},
   "outputs": [
    {
     "name": "stdout",
     "output_type": "stream",
     "text": [
      "LinearAlgebra.cond(P) = 40.61082562128508\n",
      "LinearAlgebra.cond(P) = 61.11843570587926\n",
      "LinearAlgebra.cond(P) = 66.62779435860001\n",
      "LinearAlgebra.cond(P) = 10.461493486153996\n",
      "LinearAlgebra.cond(P) = 2.9081103013858747\n",
      "LinearAlgebra.cond(P) = 1.3963332840079217\n"
     ]
    },
    {
     "data": {
      "text/plain": [
       "(::TensorTrain{Float64, 3}) (generic function with 1 method)"
      ]
     },
     "metadata": {},
     "output_type": "display_data"
    }
   ],
   "source": [
    "sitetensors = TCI.sitetensors(Float64, Iset, Jset, f, tci.localdims; orthocenter=length(tci.localdims) ÷ 2)\n",
    "tt = TCI.TensorTrain(sitetensors)"
   ]
  },
  {
   "cell_type": "code",
   "execution_count": 7,
   "metadata": {},
   "outputs": [
    {
     "name": "stdout",
     "output_type": "stream",
     "text": [
      "LinearAlgebra.cond(P) = 1.5264099263372237\n",
      "LinearAlgebra.cond(P) = 3.369412275756844\n",
      "LinearAlgebra.cond(P) = 4.7822055225131725\n",
      "LinearAlgebra.cond(P) = 12.00525994957196\n",
      "LinearAlgebra.cond(P) = 35.72420824230781\n",
      "LinearAlgebra.cond(P) = 40.61082562128508\n",
      "LinearAlgebra.cond(P) = 61.11843570587926\n",
      "LinearAlgebra.cond(P) = 66.62779435860001\n",
      "LinearAlgebra.cond(P) = 10.461493486153996\n",
      "LinearAlgebra.cond(P) = 2.9081103013858747\n",
      "LinearAlgebra.cond(P) = 1.3963332840079217\n"
     ]
    }
   ],
   "source": [
    "Atensors = TCI.Atensors(Float64, Iset, Jset, f, tci.localdims)\n",
    "Btensors = TCI.Btensors(Float64, Iset, Jset, f, tci.localdims)\n",
    ";"
   ]
  },
  {
   "cell_type": "code",
   "execution_count": null,
   "metadata": {},
   "outputs": [],
   "source": []
  },
  {
   "cell_type": "code",
   "execution_count": 8,
   "metadata": {},
   "outputs": [
    {
     "data": {
      "text/plain": [
       "isleftnested (generic function with 1 method)"
      ]
     },
     "metadata": {},
     "output_type": "display_data"
    }
   ],
   "source": [
    "function isleftnested(L, Iset, idx::Vector{Int})\n",
    "    for b in 1:length(idx)\n",
    "        if !(idx[1:b] ∈ Iset[b+1])\n",
    "            return false\n",
    "        end\n",
    "    end\n",
    "    return true\n",
    "end"
   ]
  },
  {
   "cell_type": "code",
   "execution_count": 9,
   "metadata": {},
   "outputs": [
    {
     "data": {
      "text/plain": [
       "isrightnested (generic function with 1 method)"
      ]
     },
     "metadata": {},
     "output_type": "display_data"
    }
   ],
   "source": [
    "function isrightnested(L, Jset, idx::Vector{Int})\n",
    "    for b in 1:length(idx)\n",
    "        if !(idx[b:end] ∈ Jset[L + b - length(idx) - 1])\n",
    "            return false\n",
    "        end\n",
    "    end\n",
    "    return true\n",
    "end"
   ]
  },
  {
   "cell_type": "code",
   "execution_count": 10,
   "metadata": {},
   "outputs": [
    {
     "data": {
      "text/plain": [
       "rightenv (generic function with 1 method)"
      ]
     },
     "metadata": {},
     "output_type": "display_data"
    }
   ],
   "source": [
    "function rightenv(Jset::Vector{MultiIndex}, posinJset, Btensors)\n",
    "    L = length(Btensors) + 1\n",
    "    b = length(Jset[1])\n",
    "    Bs_ = Btensors[L-1-b+1:L-1]\n",
    "    only(reduce(*, [B_[:, σ, :] for (B_, σ) in zip(Bs_, Jset[posinJset])])[posinJset])\n",
    "end"
   ]
  },
  {
   "cell_type": "code",
   "execution_count": 11,
   "metadata": {},
   "outputs": [
    {
     "data": {
      "text/plain": [
       "1.0000000000000013"
      ]
     },
     "metadata": {},
     "output_type": "display_data"
    }
   ],
   "source": [
    "rightenv(Jset[1], 1, Btensors)"
   ]
  },
  {
   "cell_type": "code",
   "execution_count": 12,
   "metadata": {},
   "outputs": [
    {
     "name": "stdout",
     "output_type": "stream",
     "text": [
      "(b, j, e) = (1, [2, 2, 2, 2, 1, 1, 1, 2, 2, 1, 1], 0.9999999999999987)\n",
      "(b, j, e) = (2, [1, 2, 1, 2, 2, 1, 1, 2, 2, 1], 1.0000000000000018)\n",
      "(b, j, e) = (2, [1, 1, 2, 1, 1, 2, 1, 1, 1, 2], 1.0000000000000013)\n",
      "(b, j, e) = (2, [2, 2, 2, 2, 1, 1, 2, 1, 1, 1], 1.0)\n",
      "(b, j, e) = (3, [2, 1, 1, 2, 2, 1, 2, 1, 1], 0.9999999999999989)\n",
      "(b, j, e) = (3, [2, 2, 2, 1, 1, 2, 1, 1, 1], 1.0000000000000004)\n",
      "(b, j, e) = (3, [1, 2, 1, 2, 2, 2, 1, 1, 1], 1.0000000000000002)\n",
      "(b, j, e) = (3, [1, 1, 1, 1, 1, 2, 2, 2, 1], 1.0000000000000002)\n",
      "(b, j, e) = (4, [2, 2, 1, 1, 1, 2, 2, 1], 0.9999999999999993)\n",
      "(b, j, e) = (4, [2, 2, 1, 1, 1, 1, 2, 2], 0.9999999999999996)\n",
      "(b, j, e) = (4, [2, 1, 1, 2, 1, 2, 1, 2], 1.000000000000003)\n",
      "(b, j, e) = (4, [1, 2, 1, 2, 2, 1, 1, 1], 1.0)\n",
      "(b, j, e) = (4, [1, 1, 1, 1, 1, 2, 2, 2], 0.9999999999999996)\n",
      "(b, j, e) = (4, [1, 1, 1, 1, 2, 2, 2, 1], 1.0000000000000029)\n",
      "(b, j, e) = (5, [2, 1, 1, 1, 2, 2, 1], 0.9999999999999998)\n",
      "(b, j, e) = (5, [2, 1, 2, 2, 1, 1, 2], 1.0000000000000013)\n",
      "(b, j, e) = (5, [1, 1, 1, 2, 1, 2, 2], 1.0000000000000009)\n",
      "(b, j, e) = (5, [1, 1, 1, 2, 2, 1, 2], 1.000000000000002)\n",
      "(b, j, e) = (5, [1, 1, 2, 1, 1, 2, 1], 0.9999999999999996)\n",
      "(b, j, e) = (6, [1, 1, 2, 1, 2, 2], 1.0000000000000013)\n",
      "(b, j, e) = (6, [2, 1, 1, 2, 2, 2], 1.0000000000000004)\n",
      "(b, j, e) = (6, [1, 2, 2, 1, 2, 1], 1.0000000000000027)\n",
      "(b, j, e) = (6, [1, 2, 1, 2, 2, 1], 0.9999999999999984)\n"
     ]
    }
   ],
   "source": [
    "for b in 1:R-1\n",
    "    for (j_, j) in enumerate(Jset[b])\n",
    "        n_ = isrightnested(R, Jset, j)\n",
    "        if n_\n",
    "            continue\n",
    "        end\n",
    "        e = rightenv(Jset[b], j_, Btensors)\n",
    "        @show b, j, e\n",
    "        if abs(e - 1.0) > 1e-10\n",
    "            @show b, j, e, n_\n",
    "        end\n",
    "    end\n",
    "end"
   ]
  },
  {
   "cell_type": "code",
   "execution_count": 13,
   "metadata": {},
   "outputs": [
    {
     "name": "stdout",
     "output_type": "stream",
     "text": [
      "[2, 2] [2, 1, 1, 1, 1, 1, 1, 2, 1, 1] true true\n",
      "[2, 2] [1, 2, 1, 2, 2, 1, 1, 2, 2, 1] true false\n",
      "[2, 2] [1, 1, 2, 1, 1, 2, 1, 1, 1, 2] true false\n",
      "[2, 2] [2, 2, 2, 2, 1, 1, 2, 1, 1, 1] true false\n",
      "[1, 2] [2, 1, 1, 1, 1, 1, 1, 2, 1, 1] true true\n",
      "[1, 2] [1, 2, 1, 2, 2, 1, 1, 2, 2, 1] true false\n",
      "[1, 2] [1, 1, 2, 1, 1, 2, 1, 1, 1, 2] true false\n",
      "[1, 2] [2, 2, 2, 2, 1, 1, 2, 1, 1, 1] true false\n",
      "[1, 1] [2, 1, 1, 1, 1, 1, 1, 2, 1, 1] true true\n",
      "[1, 1] [1, 2, 1, 2, 2, 1, 1, 2, 2, 1] true false\n",
      "[1, 1] [1, 1, 2, 1, 1, 2, 1, 1, 1, 2] true false\n",
      "[1, 1] [2, 2, 2, 2, 1, 1, 2, 1, 1, 1] true false\n",
      "[2, 1] [2, 1, 1, 1, 1, 1, 1, 2, 1, 1] true true\n",
      "[2, 1] [1, 2, 1, 2, 2, 1, 1, 2, 2, 1] true false\n",
      "[2, 1] [1, 1, 2, 1, 1, 2, 1, 1, 1, 2] true false\n",
      "[2, 1] [2, 2, 2, 2, 1, 1, 2, 1, 1, 1] true false\n"
     ]
    }
   ],
   "source": [
    "for b in 2:2\n",
    "    for i in Iset[b+1], j in Jset[b]\n",
    "        p = vcat(i, j)\n",
    "        l_ = isleftnested(length(p), Iset, i)\n",
    "        r_ = isrightnested(length(p), Jset, j)\n",
    "        println(\"$i $j $(l_) $(r_)\")\n",
    "    end\n",
    "end"
   ]
  },
  {
   "cell_type": "code",
   "execution_count": 14,
   "metadata": {},
   "outputs": [],
   "source": [
    "# Interpolation error on pivot matrices\n",
    "for b in 1:length(tci)-1\n",
    "    for i in Iset[b+1], j in Jset[b]\n",
    "        p = vcat(i, j)\n",
    "        if abs(TCI.evaluate(tt, p) - f(p)) > 1e-10\n",
    "            @show b, i, j\n",
    "        end\n",
    "    end\n",
    "end"
   ]
  },
  {
   "cell_type": "code",
   "execution_count": 15,
   "metadata": {},
   "outputs": [
    {
     "data": {
      "text/plain": [
       "checknesting (generic function with 1 method)"
      ]
     },
     "metadata": {},
     "output_type": "display_data"
    }
   ],
   "source": [
    "function checknesting(L, Iset, Jset, pivot)\n",
    "    leftnested = fill(false, L-1)\n",
    "    rightnested = fill(false, L-1)\n",
    "    for b in 1:L-1\n",
    "        if pivot[1:b] ∈ Iset[b+1]\n",
    "            leftnested[b] = true\n",
    "        else\n",
    "            break\n",
    "        end\n",
    "    end\n",
    "    for b in reverse(1:L-1)\n",
    "        if pivot[b+1:end] ∈ Jset[b]\n",
    "            rightnested[b] = true\n",
    "        else\n",
    "            break\n",
    "        end\n",
    "    end\n",
    "\n",
    "    fullnestedbond = Int[]\n",
    "    for b in 1:L-1\n",
    "        if leftnested[b] && rightnested[b]\n",
    "            push!(fullnestedbond, b)\n",
    "        end\n",
    "    end\n",
    "    return fullnestedbond\n",
    "end"
   ]
  },
  {
   "cell_type": "code",
   "execution_count": 16,
   "metadata": {},
   "outputs": [],
   "source": [
    "for b in 1:length(tci)-1\n",
    "    for i in Iset[b+1], j in Jset[b]\n",
    "        p = vcat(i, j)\n",
    "        if abs(TCI.evaluate(tt, p) - f(p)) > 1e-10\n",
    "            @show b, i, j\n",
    "        end\n",
    "        #res = checknesting(length(tci), Iset, Jset, p)\n",
    "        #if isempty(res)\n",
    "            #@show \"not nested\", b, i, j\n",
    "            #@show abs(TCI.evaluate(tt, p) - f(p))\n",
    "        #end\n",
    "    end\n",
    "end"
   ]
  },
  {
   "cell_type": "code",
   "execution_count": 17,
   "metadata": {},
   "outputs": [
    {
     "data": {
      "text/plain": [
       "checknesting2 (generic function with 1 method)"
      ]
     },
     "metadata": {},
     "output_type": "display_data"
    }
   ],
   "source": [
    "function checknesting2(L, Iset, Jset, pivot)\n",
    "    leftnested = fill(false, L-1)\n",
    "    rightnested = fill(false, L-1)\n",
    "    for b in 1:L-1\n",
    "        if pivot[1:b] ∈ Iset[b+1]\n",
    "            leftnested[b] = true\n",
    "        end\n",
    "    end\n",
    "    for b in reverse(1:L-1)\n",
    "        if pivot[b+1:end] ∈ Jset[b]\n",
    "            rightnested[b] = true\n",
    "        end\n",
    "    end\n",
    "    return leftnested, rightnested\n",
    "end\n",
    "#for i in initialpivots\n",
    "    #@show i, checknesting2(R, Iset, Jset, i)\n",
    "#end"
   ]
  },
  {
   "cell_type": "code",
   "execution_count": 18,
   "metadata": {},
   "outputs": [
    {
     "data": {
      "text/plain": [
       "checknesting (generic function with 1 method)"
      ]
     },
     "metadata": {},
     "output_type": "display_data"
    }
   ],
   "source": [
    "function checknesting(L, Iset, Jset, pivot)\n",
    "    leftnested = fill(false, L-1)\n",
    "    rightnested = fill(false, L-1)\n",
    "    for b in 1:L-1\n",
    "        if pivot[1:b] ∈ Iset[b+1]\n",
    "            leftnested[b] = true\n",
    "        else\n",
    "            break\n",
    "        end\n",
    "    end\n",
    "    for b in reverse(1:L-1)\n",
    "        if pivot[b+1:end] ∈ Jset[b]\n",
    "            rightnested[b] = true\n",
    "        else\n",
    "            break\n",
    "        end\n",
    "    end\n",
    "\n",
    "    fullnestedbond = Int[]\n",
    "    for b in 1:L-1\n",
    "        if leftnested[b] && rightnested[b]\n",
    "            push!(fullnestedbond, b)\n",
    "        end\n",
    "    end\n",
    "    return fullnestedbond\n",
    "end"
   ]
  },
  {
   "cell_type": "code",
   "execution_count": 19,
   "metadata": {},
   "outputs": [
    {
     "name": "stdout",
     "output_type": "stream",
     "text": [
      "orthocenter = 6\n"
     ]
    }
   ],
   "source": [
    "tt = TCI.TensorTrain(TCI.sitetensors(tci, f))\n",
    "\n",
    "for b in 1:length(tci)-1\n",
    "    for i in Iset[b+1], j in Jset[b]\n",
    "        p = vcat(i, j)\n",
    "        if abs(TCI.evaluate(tt, p) - f(p)) > 1e-10\n",
    "            @show b, i, j\n",
    "        end\n",
    "        #res = checknesting(length(tci), Iset, Jset, p)\n",
    "        #if isempty(res)\n",
    "            #@show \"not nested\", b, i, j\n",
    "            #@show abs(TCI.evaluate(tt, p) - f(p))\n",
    "        #end\n",
    "    end\n",
    "end"
   ]
  },
  {
   "cell_type": "code",
   "execution_count": 20,
   "metadata": {},
   "outputs": [
    {
     "name": "stdout",
     "output_type": "stream",
     "text": [
      "[1, 1, 2, 2, 2, 1, 1, 1, 2, 2, 2, 2] Int64[]\n"
     ]
    },
    {
     "name": "stderr",
     "output_type": "stream",
     "text": [
      "┌ Error: [1, 1, 2, 2, 2, 1, 1, 1, 2, 2, 2, 2] is not full nested at any bond!\n",
      "└ @ Main /Users/hiroshi/git/TensorCrossInterpolation.jl/notebook/jl_notebook_cell_df34fa98e69747e1a8f8a730347b8e2f_X25sZmlsZQ==.jl:5\n",
      "┌ Error: [1, 1, 1, 2, 2, 1, 1, 2, 1, 2, 2, 1] is not full nested at any bond!\n",
      "└ @ Main /Users/hiroshi/git/TensorCrossInterpolation.jl/notebook/jl_notebook_cell_df34fa98e69747e1a8f8a730347b8e2f_X25sZmlsZQ==.jl:5\n",
      "┌ Error: [1, 2, 2, 1, 1, 2, 2, 1, 1, 1, 1, 2] is not full nested at any bond!\n",
      "└ @ Main /Users/hiroshi/git/TensorCrossInterpolation.jl/notebook/jl_notebook_cell_df34fa98e69747e1a8f8a730347b8e2f_X25sZmlsZQ==.jl:5\n",
      "┌ Error: [1, 2, 1, 1, 1, 1, 1, 1, 1, 2, 2, 2] is not full nested at any bond!\n",
      "└ @ Main /Users/hiroshi/git/TensorCrossInterpolation.jl/notebook/jl_notebook_cell_df34fa98e69747e1a8f8a730347b8e2f_X25sZmlsZQ==.jl:5\n",
      "┌ Error: [1, 1, 2, 2, 2, 1, 1, 2, 1, 2, 1, 1] is not full nested at any bond!\n",
      "└ @ Main /Users/hiroshi/git/TensorCrossInterpolation.jl/notebook/jl_notebook_cell_df34fa98e69747e1a8f8a730347b8e2f_X25sZmlsZQ==.jl:5\n",
      "┌ Error: [1, 2, 2, 2, 2, 2, 2, 2, 2, 1, 2, 2] is not full nested at any bond!\n",
      "└ @ Main /Users/hiroshi/git/TensorCrossInterpolation.jl/notebook/jl_notebook_cell_df34fa98e69747e1a8f8a730347b8e2f_X25sZmlsZQ==.jl:5\n",
      "┌ Error: [1, 2, 2, 2, 1, 1, 1, 1, 1, 1, 1, 1] is not full nested at any bond!\n",
      "└ @ Main /Users/hiroshi/git/TensorCrossInterpolation.jl/notebook/jl_notebook_cell_df34fa98e69747e1a8f8a730347b8e2f_X25sZmlsZQ==.jl:5\n",
      "┌ Error: [1, 1, 1, 1, 1, 1, 2, 2, 1, 2, 1, 2] is not full nested at any bond!\n",
      "└ @ Main /Users/hiroshi/git/TensorCrossInterpolation.jl/notebook/jl_notebook_cell_df34fa98e69747e1a8f8a730347b8e2f_X25sZmlsZQ==.jl:5\n",
      "┌ Error: [1, 1, 2, 1, 2, 2, 2, 2, 1, 1, 1, 1] is not full nested at any bond!\n",
      "└ @ Main /Users/hiroshi/git/TensorCrossInterpolation.jl/notebook/jl_notebook_cell_df34fa98e69747e1a8f8a730347b8e2f_X25sZmlsZQ==.jl:5\n",
      "┌ Error: [2, 1, 2, 2, 1, 1, 2, 2, 1, 2, 1, 1] is not full nested at any bond!\n",
      "└ @ Main /Users/hiroshi/git/TensorCrossInterpolation.jl/notebook/jl_notebook_cell_df34fa98e69747e1a8f8a730347b8e2f_X25sZmlsZQ==.jl:5\n",
      "┌ Error: [1, 2, 2, 2, 2, 1, 2, 2, 2, 2, 2, 1] is not full nested at any bond!\n",
      "└ @ Main /Users/hiroshi/git/TensorCrossInterpolation.jl/notebook/jl_notebook_cell_df34fa98e69747e1a8f8a730347b8e2f_X25sZmlsZQ==.jl:5\n",
      "┌ Error: [1, 1, 1, 2, 2, 2, 1, 2, 2, 2, 1, 2] is not full nested at any bond!\n",
      "└ @ Main /Users/hiroshi/git/TensorCrossInterpolation.jl/notebook/jl_notebook_cell_df34fa98e69747e1a8f8a730347b8e2f_X25sZmlsZQ==.jl:5\n",
      "┌ Error: [1, 1, 2, 2, 1, 1, 1, 2, 2, 1, 1, 2] is not full nested at any bond!\n",
      "└ @ Main /Users/hiroshi/git/TensorCrossInterpolation.jl/notebook/jl_notebook_cell_df34fa98e69747e1a8f8a730347b8e2f_X25sZmlsZQ==.jl:5\n",
      "┌ Error: [1, 1, 1, 1, 2, 2, 2, 2, 1, 1, 2, 2] is not full nested at any bond!\n",
      "└ @ Main /Users/hiroshi/git/TensorCrossInterpolation.jl/notebook/jl_notebook_cell_df34fa98e69747e1a8f8a730347b8e2f_X25sZmlsZQ==.jl:5\n",
      "┌ Error: [1, 1, 1, 2, 2, 2, 2, 1, 2, 1, 2, 1] is not full nested at any bond!\n",
      "└ @ Main /Users/hiroshi/git/TensorCrossInterpolation.jl/notebook/jl_notebook_cell_df34fa98e69747e1a8f8a730347b8e2f_X25sZmlsZQ==.jl:5\n",
      "┌ Error: [1, 2, 1, 1, 2, 1, 2, 2, 1, 2, 2, 1] is not full nested at any bond!\n",
      "└ @ Main /Users/hiroshi/git/TensorCrossInterpolation.jl/notebook/jl_notebook_cell_df34fa98e69747e1a8f8a730347b8e2f_X25sZmlsZQ==.jl:5\n",
      "┌ Error: [1, 2, 1, 2, 2, 1, 1, 2, 1, 2, 1, 2] is not full nested at any bond!\n",
      "└ @ Main /Users/hiroshi/git/TensorCrossInterpolation.jl/notebook/jl_notebook_cell_df34fa98e69747e1a8f8a730347b8e2f_X25sZmlsZQ==.jl:5\n",
      "┌ Error: [1, 1, 1, 1, 2, 2, 2, 2, 2, 1, 2, 2] is not full nested at any bond!\n",
      "└ @ Main /Users/hiroshi/git/TensorCrossInterpolation.jl/notebook/jl_notebook_cell_df34fa98e69747e1a8f8a730347b8e2f_X25sZmlsZQ==.jl:5\n",
      "┌ Error: [2, 1, 2, 2, 1, 1, 2, 1, 1, 1, 2, 2] is not full nested at any bond!\n",
      "└ @ Main /Users/hiroshi/git/TensorCrossInterpolation.jl/notebook/jl_notebook_cell_df34fa98e69747e1a8f8a730347b8e2f_X25sZmlsZQ==.jl:5\n",
      "┌ Error: [1, 2, 1, 1, 2, 1, 2, 1, 2, 2, 1, 2] is not full nested at any bond!\n",
      "└ @ Main /Users/hiroshi/git/TensorCrossInterpolation.jl/notebook/jl_notebook_cell_df34fa98e69747e1a8f8a730347b8e2f_X25sZmlsZQ==.jl:5\n",
      "┌ Error: [1, 2, 2, 1, 2, 1, 1, 2, 2, 1, 2, 2] is not full nested at any bond!\n",
      "└ @ Main /Users/hiroshi/git/TensorCrossInterpolation.jl/notebook/jl_notebook_cell_df34fa98e69747e1a8f8a730347b8e2f_X25sZmlsZQ==.jl:5\n",
      "┌ Error: [2, 1, 2, 2, 2, 2, 1, 1, 2, 1, 1, 1] is not full nested at any bond!\n",
      "└ @ Main /Users/hiroshi/git/TensorCrossInterpolation.jl/notebook/jl_notebook_cell_df34fa98e69747e1a8f8a730347b8e2f_X25sZmlsZQ==.jl:5\n",
      "┌ Error: [2, 1, 1, 1, 1, 1, 1, 1, 1, 1, 1, 1] is not full nested at any bond!\n",
      "└ @ Main /Users/hiroshi/git/TensorCrossInterpolation.jl/notebook/jl_notebook_cell_df34fa98e69747e1a8f8a730347b8e2f_X25sZmlsZQ==.jl:5\n",
      "┌ Error: [1, 1, 1, 2, 1, 1, 2, 2, 2, 1, 2, 2] is not full nested at any bond!\n",
      "└ @ Main /Users/hiroshi/git/TensorCrossInterpolation.jl/notebook/jl_notebook_cell_df34fa98e69747e1a8f8a730347b8e2f_X25sZmlsZQ==.jl:5\n",
      "┌ Error: [1, 1, 2, 2, 1, 1, 2, 2, 2, 1, 2, 2] is not full nested at any bond!\n",
      "└ @ Main /Users/hiroshi/git/TensorCrossInterpolation.jl/notebook/jl_notebook_cell_df34fa98e69747e1a8f8a730347b8e2f_X25sZmlsZQ==.jl:5\n",
      "┌ Error: [2, 2, 1, 2, 2, 2, 1, 2, 1, 1, 1, 2] is not full nested at any bond!\n",
      "└ @ Main /Users/hiroshi/git/TensorCrossInterpolation.jl/notebook/jl_notebook_cell_df34fa98e69747e1a8f8a730347b8e2f_X25sZmlsZQ==.jl:5\n",
      "┌ Error: [1, 2, 2, 2, 2, 2, 1, 2, 2, 1, 2, 1] is not full nested at any bond!\n",
      "└ @ Main /Users/hiroshi/git/TensorCrossInterpolation.jl/notebook/jl_notebook_cell_df34fa98e69747e1a8f8a730347b8e2f_X25sZmlsZQ==.jl:5\n",
      "┌ Error: [1, 1, 2, 2, 2, 1, 1, 1, 1, 2, 2, 2] is not full nested at any bond!\n",
      "└ @ Main /Users/hiroshi/git/TensorCrossInterpolation.jl/notebook/jl_notebook_cell_df34fa98e69747e1a8f8a730347b8e2f_X25sZmlsZQ==.jl:5\n",
      "┌ Error: [1, 2, 1, 2, 2, 2, 1, 1, 1, 2, 2, 1] is not full nested at any bond!\n",
      "└ @ Main /Users/hiroshi/git/TensorCrossInterpolation.jl/notebook/jl_notebook_cell_df34fa98e69747e1a8f8a730347b8e2f_X25sZmlsZQ==.jl:5\n",
      "┌ Error: [1, 1, 2, 2, 2, 1, 1, 2, 1, 1, 1, 2] is not full nested at any bond!\n",
      "└ @ Main /Users/hiroshi/git/TensorCrossInterpolation.jl/notebook/jl_notebook_cell_df34fa98e69747e1a8f8a730347b8e2f_X25sZmlsZQ==.jl:5\n",
      "┌ Error: [2, 1, 2, 2, 1, 2, 1, 2, 2, 2, 1, 2] is not full nested at any bond!\n",
      "└ @ Main /Users/hiroshi/git/TensorCrossInterpolation.jl/notebook/jl_notebook_cell_df34fa98e69747e1a8f8a730347b8e2f_X25sZmlsZQ==.jl:5\n",
      "┌ Error: [1, 2, 2, 2, 1, 1, 2, 2, 1, 1, 2, 1] is not full nested at any bond!\n",
      "└ @ Main /Users/hiroshi/git/TensorCrossInterpolation.jl/notebook/jl_notebook_cell_df34fa98e69747e1a8f8a730347b8e2f_X25sZmlsZQ==.jl:5\n",
      "┌ Error: [2, 2, 1, 1, 1, 2, 1, 2, 2, 1, 1, 1] is not full nested at any bond!\n",
      "└ @ Main /Users/hiroshi/git/TensorCrossInterpolation.jl/notebook/jl_notebook_cell_df34fa98e69747e1a8f8a730347b8e2f_X25sZmlsZQ==.jl:5\n",
      "┌ Error: [2, 2, 2, 2, 1, 2, 2, 2, 1, 1, 1, 1] is not full nested at any bond!\n",
      "└ @ Main /Users/hiroshi/git/TensorCrossInterpolation.jl/notebook/jl_notebook_cell_df34fa98e69747e1a8f8a730347b8e2f_X25sZmlsZQ==.jl:5\n",
      "┌ Error: [2, 1, 1, 2, 2, 2, 1, 1, 2, 2, 2, 1] is not full nested at any bond!\n",
      "└ @ Main /Users/hiroshi/git/TensorCrossInterpolation.jl/notebook/jl_notebook_cell_df34fa98e69747e1a8f8a730347b8e2f_X25sZmlsZQ==.jl:5\n",
      "┌ Error: [2, 2, 2, 2, 1, 2, 1, 1, 1, 2, 1, 2] is not full nested at any bond!\n",
      "└ @ Main /Users/hiroshi/git/TensorCrossInterpolation.jl/notebook/jl_notebook_cell_df34fa98e69747e1a8f8a730347b8e2f_X25sZmlsZQ==.jl:5\n",
      "┌ Error: [2, 1, 2, 2, 1, 2, 2, 2, 1, 1, 2, 2] is not full nested at any bond!\n",
      "└ @ Main /Users/hiroshi/git/TensorCrossInterpolation.jl/notebook/jl_notebook_cell_df34fa98e69747e1a8f8a730347b8e2f_X25sZmlsZQ==.jl:5\n",
      "┌ Error: [2, 2, 1, 1, 2, 1, 2, 1, 2, 2, 2, 2] is not full nested at any bond!\n",
      "└ @ Main /Users/hiroshi/git/TensorCrossInterpolation.jl/notebook/jl_notebook_cell_df34fa98e69747e1a8f8a730347b8e2f_X25sZmlsZQ==.jl:5\n",
      "┌ Error: [1, 2, 2, 1, 1, 1, 1, 1, 2, 2, 1, 2] is not full nested at any bond!\n",
      "└ @ Main /Users/hiroshi/git/TensorCrossInterpolation.jl/notebook/jl_notebook_cell_df34fa98e69747e1a8f8a730347b8e2f_X25sZmlsZQ==.jl:5\n",
      "┌ Error: [1, 2, 2, 1, 1, 1, 2, 1, 1, 1, 1, 2] is not full nested at any bond!\n",
      "└ @ Main /Users/hiroshi/git/TensorCrossInterpolation.jl/notebook/jl_notebook_cell_df34fa98e69747e1a8f8a730347b8e2f_X25sZmlsZQ==.jl:5\n",
      "┌ Error: [1, 1, 2, 2, 2, 1, 1, 1, 1, 2, 2, 2] is not full nested at any bond!\n",
      "└ @ Main /Users/hiroshi/git/TensorCrossInterpolation.jl/notebook/jl_notebook_cell_df34fa98e69747e1a8f8a730347b8e2f_X25sZmlsZQ==.jl:5\n",
      "┌ Error: [2, 1, 2, 2, 2, 2, 2, 2, 2, 1, 1, 1] is not full nested at any bond!\n",
      "└ @ Main /Users/hiroshi/git/TensorCrossInterpolation.jl/notebook/jl_notebook_cell_df34fa98e69747e1a8f8a730347b8e2f_X25sZmlsZQ==.jl:5\n",
      "┌ Error: [2, 1, 2, 2, 1, 2, 1, 2, 2, 2, 1, 2] is not full nested at any bond!\n",
      "└ @ Main /Users/hiroshi/git/TensorCrossInterpolation.jl/notebook/jl_notebook_cell_df34fa98e69747e1a8f8a730347b8e2f_X25sZmlsZQ==.jl:5\n",
      "┌ Error: [1, 2, 2, 1, 2, 2, 2, 2, 1, 2, 2, 2] is not full nested at any bond!\n",
      "└ @ Main /Users/hiroshi/git/TensorCrossInterpolation.jl/notebook/jl_notebook_cell_df34fa98e69747e1a8f8a730347b8e2f_X25sZmlsZQ==.jl:5\n",
      "┌ Error: [1, 2, 1, 1, 1, 1, 1, 2, 1, 1, 1, 1] is not full nested at any bond!\n",
      "└ @ Main /Users/hiroshi/git/TensorCrossInterpolation.jl/notebook/jl_notebook_cell_df34fa98e69747e1a8f8a730347b8e2f_X25sZmlsZQ==.jl:5\n",
      "┌ Error: [1, 1, 1, 1, 1, 1, 1, 2, 1, 1, 2, 1] is not full nested at any bond!\n",
      "└ @ Main /Users/hiroshi/git/TensorCrossInterpolation.jl/notebook/jl_notebook_cell_df34fa98e69747e1a8f8a730347b8e2f_X25sZmlsZQ==.jl:5\n",
      "┌ Error: [2, 2, 1, 2, 2, 1, 1, 2, 2, 1, 1, 2] is not full nested at any bond!\n",
      "└ @ Main /Users/hiroshi/git/TensorCrossInterpolation.jl/notebook/jl_notebook_cell_df34fa98e69747e1a8f8a730347b8e2f_X25sZmlsZQ==.jl:5\n",
      "┌ Error: [2, 2, 2, 1, 2, 2, 1, 2, 2, 1, 1, 2] is not full nested at any bond!\n",
      "└ @ Main /Users/hiroshi/git/TensorCrossInterpolation.jl/notebook/jl_notebook_cell_df34fa98e69747e1a8f8a730347b8e2f_X25sZmlsZQ==.jl:5\n"
     ]
    },
    {
     "name": "stdout",
     "output_type": "stream",
     "text": [
      "[2, 1, 2, 2, 1, 1, 2, 1, 2, 2, 1, 1] [4]\n",
      "[1, 1, 1, 2, 2, 1, 1, 2, 1, 2, 2, 1] Int64[]\n",
      "[2, 1, 1, 1, 2, 1, 2, 1, 2, 2, 1, 1] [5]\n",
      "[1, 2, 2, 1, 1, 2, 2, 1, 1, 1, 1, 2] Int64[]\n",
      "[2, 2, 2, 1, 2, 1, 1, 1, 1, 2, 1, 1] [3, 4, 5, 6]\n",
      "[2, 1, 1, 1, 2, 2, 2, 1, 2, 1, 1, 1] [3, 4, 5]\n",
      "[1, 2, 1, 1, 1, 1, 1, 1, 1, 2, 2, 2] Int64[]\n",
      "[1, 1, 2, 2, 2, 1, 1, 2, 1, 2, 1, 1] Int64[]\n",
      "[1, 2, 2, 2, 2, 2, 2, 2, 2, 1, 2, 2] Int64[]\n",
      "[1, 2, 2, 2, 1, 1, 1, 1, 1, 1, 1, 1] Int64[]\n",
      "[1, 1, 1, 1, 1, 1, 2, 2, 1, 2, 1, 2] Int64[]\n",
      "[1, 1, 2, 1, 2, 2, 2, 2, 1, 1, 1, 1] Int64[]\n",
      "[2, 1, 2, 2, 1, 1, 2, 2, 1, 2, 1, 1] Int64[]\n",
      "[1, 2, 2, 2, 2, 1, 2, 2, 2, 2, 2, 1] Int64[]\n",
      "[1, 1, 1, 2, 2, 2, 1, 2, 2, 2, 1, 2] Int64[]\n",
      "[1, 1, 2, 2, 1, 1, 1, 2, 2, 1, 1, 2] Int64[]\n",
      "[1, 1, 1, 1, 2, 2, 2, 2, 1, 1, 2, 2] Int64[]\n",
      "[1, 1, 1, 2, 2, 2, 2, 1, 2, 1, 2, 1] Int64[]\n",
      "[1, 2, 1, 2, 1, 2, 2, 1, 1, 2, 1, 2] [7]\n",
      "[2, 1, 2, 1, 1, 2, 1, 1, 2, 1, 1, 1] [4, 5]\n",
      "[1, 2, 1, 1, 2, 1, 2, 2, 1, 2, 2, 1] Int64[]\n",
      "[1, 2, 2, 2, 2, 1, 1, 1, 2, 2, 1, 1] [4]\n",
      "[1, 2, 1, 2, 2, 1, 1, 2, 1, 2, 1, 2] Int64[]\n",
      "[1, 1, 1, 1, 2, 2, 2, 2, 2, 1, 2, 2] Int64[]\n",
      "[2, 1, 2, 2, 1, 1, 2, 1, 1, 1, 2, 2] Int64[]\n",
      "[1, 2, 1, 1, 2, 1, 2, 1, 2, 2, 1, 2] Int64[]\n",
      "[1, 2, 2, 1, 2, 1, 1, 2, 2, 1, 2, 2] Int64[]\n",
      "[2, 1, 2, 2, 2, 2, 1, 1, 2, 1, 1, 1] Int64[]\n",
      "[2, 1, 1, 1, 1, 1, 1, 1, 1, 1, 1, 1] Int64[]\n",
      "[1, 1, 1, 2, 1, 1, 2, 2, 2, 1, 2, 2] Int64[]\n",
      "[1, 1, 2, 2, 1, 1, 2, 2, 2, 1, 2, 2] Int64[]\n",
      "[2, 2, 1, 2, 2, 2, 1, 2, 1, 1, 1, 2] Int64[]\n",
      "[1, 2, 2, 2, 2, 2, 1, 2, 2, 1, 2, 1] Int64[]\n",
      "[1, 1, 2, 2, 2, 1, 1, 1, 1, 2, 2, 2] Int64[]\n",
      "[1, 2, 1, 2, 2, 2, 1, 1, 1, 2, 2, 1] Int64[]\n",
      "[1, 1, 2, 2, 2, 1, 1, 2, 1, 1, 1, 2] Int64[]\n",
      "[2, 2, 2, 2, 1, 1, 1, 2, 1, 2, 1, 1] [6, 7, 8]\n",
      "[2, 1, 1, 1, 1, 2, 2, 2, 1, 1, 2, 2] [7, 8, 9]\n",
      "[2, 2, 2, 1, 2, 2, 1, 1, 1, 2, 2, 1] [7, 8]\n",
      "[2, 1, 2, 2, 1, 2, 1, 2, 2, 2, 1, 2] Int64[]\n",
      "[1, 2, 2, 2, 1, 1, 2, 2, 1, 1, 2, 1] Int64[]\n",
      "[1, 2, 1, 1, 1, 1, 1, 1, 2, 2, 2, 1] [7]\n",
      "[1, 1, 1, 1, 1, 1, 1, 2, 2, 2, 2, 1] [4, 5, 6]\n",
      "[2, 2, 1, 1, 1, 2, 1, 2, 2, 1, 1, 1] Int64[]\n",
      "[1, 2, 1, 1, 2, 1, 2, 2, 2, 1, 1, 1] [5, 6]\n",
      "[2, 2, 2, 2, 1, 2, 2, 2, 1, 1, 1, 1] Int64[]\n",
      "[2, 2, 1, 2, 1, 1, 2, 1, 1, 2, 2, 1] [5, 6]\n",
      "[2, 1, 1, 2, 2, 2, 1, 1, 2, 2, 2, 1] Int64[]\n",
      "[2, 2, 2, 2, 2, 1, 1, 2, 2, 1, 1, 1] [7, 8]\n",
      "[2, 2, 2, 2, 1, 2, 1, 1, 1, 2, 1, 2] Int64[]\n",
      "[2, 1, 2, 2, 1, 2, 2, 2, 1, 1, 2, 2] Int64[]\n",
      "[2, 2, 1, 1, 2, 1, 2, 1, 2, 2, 2, 2] Int64[]\n",
      "[1, 2, 2, 1, 1, 1, 1, 1, 2, 2, 1, 2] Int64[]\n",
      "[1, 2, 2, 1, 1, 1, 2, 1, 1, 1, 1, 2] Int64[]\n",
      "[2, 2, 2, 1, 1, 1, 2, 1, 1, 2, 1, 1] [4, 5, 6, 7, 8, 9]\n",
      "[1, 1, 2, 2, 2, 1, 1, 1, 1, 2, 2, 2] Int64[]\n",
      "[2, 1, 2, 2, 2, 2, 2, 2, 2, 1, 1, 1] Int64[]\n",
      "[2, 1, 2, 2, 1, 2, 1, 2, 2, 2, 1, 2] Int64[]\n",
      "[1, 2, 2, 1, 2, 2, 2, 2, 1, 2, 2, 2] Int64[]\n",
      "[2, 1, 1, 1, 2, 1, 2, 1, 1, 2, 1, 1] [5]\n",
      "[1, 2, 1, 1, 1, 1, 1, 2, 1, 1, 1, 1] Int64[]\n",
      "[1, 1, 1, 1, 1, 1, 1, 2, 1, 1, 2, 1] Int64[]\n",
      "[2, 2, 1, 2, 2, 1, 1, 2, 2, 1, 1, 2] Int64[]\n",
      "[2, 2, 2, 1, 2, 2, 1, 2, 2, 1, 1, 2] Int64[]\n",
      "[2, 1, 1, 2, 1, 2, 1, 2, 2, 2, 1, 2] [7]\n",
      "[1, 1, 1, 1, 2, 1, 1, 2, 2, 1, 1, 2] Int64[]\n",
      "[2, 2, 2, 2, 2, 1, 2, 1, 2, 2, 2, 2] Int64[]\n",
      "[1, 2, 1, 2, 2, 1, 2, 1, 1, 2, 2, 2] Int64[]\n",
      "[1, 2, 2, 1, 1, 1, 1, 1, 1, 2, 1, 1] [1, 2, 3, 4]\n",
      "[1, 2, 2, 1, 2, 1, 2, 1, 2, 2, 1, 2] Int64[]\n",
      "[1, 2, 1, 1, 2, 2, 2, 2, 1, 1, 1, 2] [5, 6]\n",
      "[1, 1, 1, 2, 1, 1, 2, 1, 1, 1, 2, 2] Int64[]\n",
      "[2, 2, 1, 2, 1, 1, 2, 1, 1, 1, 1, 2] Int64[]\n",
      "[1, 1, 2, 1, 2, 1, 1, 1, 1, 1, 1, 1] Int64[]\n",
      "[1, 1, 1, 1, 1, 1, 1, 1, 2, 1, 2, 2] Int64[]\n",
      "[2, 2, 1, 1, 2, 1, 1, 2, 1, 1, 1, 2] Int64[]\n",
      "[1, 1, 1, 2, 2, 2, 2, 2, 1, 1, 1, 1] Int64[]\n",
      "[2, 2, 1, 1, 2, 1, 1, 2, 2, 2, 2, 2] [5]\n",
      "[1, 2, 2, 1, 1, 1, 2, 2, 2, 1, 1, 1] [4]\n",
      "[2, 2, 2, 2, 2, 2, 1, 1, 1, 1, 2, 2] Int64[]\n",
      "[2, 2, 2, 1, 2, 1, 1, 2, 2, 2, 1, 2] Int64[]\n",
      "[2, 1, 1, 1, 1, 1, 1, 1, 1, 2, 1, 2] Int64[]\n",
      "[2, 2, 1, 2, 2, 2, 2, 2, 2, 2, 1, 1] [3, 4, 5]\n",
      "[1, 1, 1, 1, 2, 2, 2, 2, 1, 1, 2, 1] Int64[]\n",
      "[1, 1, 1, 2, 1, 2, 1, 2, 2, 2, 1, 2] Int64[]\n",
      "[2, 1, 2, 1, 2, 1, 1, 2, 1, 1, 1, 2] Int64[]\n",
      "[1, 2, 1, 1, 2, 2, 2, 1, 1, 1, 2, 1] Int64[]\n",
      "[1, 2, 2, 2, 1, 1, 2, 2, 1, 1, 2, 1] Int64[]\n",
      "[1, 1, 1, 1, 2, 2, 2, 2, 1, 1, 1, 1] Int64[]\n",
      "[1, 1, 1, 2, 1, 2, 2, 1, 1, 2, 2, 1] Int64[]\n",
      "[1, 1, 2, 2, 1, 2, 1, 2, 2, 2, 2, 1] Int64[]\n",
      "[2, 1, 1, 2, 1, 1, 2, 2, 2, 2, 1, 2] Int64[]\n",
      "[2, 2, 1, 2, 2, 1, 2, 1, 1, 2, 2, 2] Int64[]\n",
      "[1, 2, 2, 1, 2, 1, 1, 1, 2, 2, 2, 2] Int64[]\n",
      "[1, 1, 2, 2, 2, 1, 2, 1, 1, 1, 1, 2] Int64[]\n",
      "[1, 2, 2, 2, 1, 1, 2, 1, 1, 1, 1, 2] Int64[]\n",
      "[2, 1, 2, 2, 1, 1, 1, 1, 1, 1, 1, 1] Int64[]\n",
      "[1, 1, 2, 2, 2, 2, 1, 1, 2, 1, 1, 1] [5]\n",
      "[2, 2, 1, 1, 1, 1, 1, 1, 2, 2, 1, 1] Int64[]\n"
     ]
    },
    {
     "name": "stderr",
     "output_type": "stream",
     "text": [
      "┌ Error: [1, 1, 1, 1, 2, 1, 1, 2, 2, 1, 1, 2] is not full nested at any bond!\n",
      "└ @ Main /Users/hiroshi/git/TensorCrossInterpolation.jl/notebook/jl_notebook_cell_df34fa98e69747e1a8f8a730347b8e2f_X25sZmlsZQ==.jl:5\n",
      "┌ Error: [2, 2, 2, 2, 2, 1, 2, 1, 2, 2, 2, 2] is not full nested at any bond!\n",
      "└ @ Main /Users/hiroshi/git/TensorCrossInterpolation.jl/notebook/jl_notebook_cell_df34fa98e69747e1a8f8a730347b8e2f_X25sZmlsZQ==.jl:5\n",
      "┌ Error: [1, 2, 1, 2, 2, 1, 2, 1, 1, 2, 2, 2] is not full nested at any bond!\n",
      "└ @ Main /Users/hiroshi/git/TensorCrossInterpolation.jl/notebook/jl_notebook_cell_df34fa98e69747e1a8f8a730347b8e2f_X25sZmlsZQ==.jl:5\n",
      "┌ Error: [1, 2, 2, 1, 2, 1, 2, 1, 2, 2, 1, 2] is not full nested at any bond!\n",
      "└ @ Main /Users/hiroshi/git/TensorCrossInterpolation.jl/notebook/jl_notebook_cell_df34fa98e69747e1a8f8a730347b8e2f_X25sZmlsZQ==.jl:5\n",
      "┌ Error: [1, 1, 1, 2, 1, 1, 2, 1, 1, 1, 2, 2] is not full nested at any bond!\n",
      "└ @ Main /Users/hiroshi/git/TensorCrossInterpolation.jl/notebook/jl_notebook_cell_df34fa98e69747e1a8f8a730347b8e2f_X25sZmlsZQ==.jl:5\n",
      "┌ Error: [2, 2, 1, 2, 1, 1, 2, 1, 1, 1, 1, 2] is not full nested at any bond!\n",
      "└ @ Main /Users/hiroshi/git/TensorCrossInterpolation.jl/notebook/jl_notebook_cell_df34fa98e69747e1a8f8a730347b8e2f_X25sZmlsZQ==.jl:5\n",
      "┌ Error: [1, 1, 2, 1, 2, 1, 1, 1, 1, 1, 1, 1] is not full nested at any bond!\n",
      "└ @ Main /Users/hiroshi/git/TensorCrossInterpolation.jl/notebook/jl_notebook_cell_df34fa98e69747e1a8f8a730347b8e2f_X25sZmlsZQ==.jl:5\n",
      "┌ Error: [1, 1, 1, 1, 1, 1, 1, 1, 2, 1, 2, 2] is not full nested at any bond!\n",
      "└ @ Main /Users/hiroshi/git/TensorCrossInterpolation.jl/notebook/jl_notebook_cell_df34fa98e69747e1a8f8a730347b8e2f_X25sZmlsZQ==.jl:5\n",
      "┌ Error: [2, 2, 1, 1, 2, 1, 1, 2, 1, 1, 1, 2] is not full nested at any bond!\n",
      "└ @ Main /Users/hiroshi/git/TensorCrossInterpolation.jl/notebook/jl_notebook_cell_df34fa98e69747e1a8f8a730347b8e2f_X25sZmlsZQ==.jl:5\n",
      "┌ Error: [1, 1, 1, 2, 2, 2, 2, 2, 1, 1, 1, 1] is not full nested at any bond!\n",
      "└ @ Main /Users/hiroshi/git/TensorCrossInterpolation.jl/notebook/jl_notebook_cell_df34fa98e69747e1a8f8a730347b8e2f_X25sZmlsZQ==.jl:5\n",
      "┌ Error: [2, 2, 2, 2, 2, 2, 1, 1, 1, 1, 2, 2] is not full nested at any bond!\n",
      "└ @ Main /Users/hiroshi/git/TensorCrossInterpolation.jl/notebook/jl_notebook_cell_df34fa98e69747e1a8f8a730347b8e2f_X25sZmlsZQ==.jl:5\n",
      "┌ Error: [2, 2, 2, 1, 2, 1, 1, 2, 2, 2, 1, 2] is not full nested at any bond!\n",
      "└ @ Main /Users/hiroshi/git/TensorCrossInterpolation.jl/notebook/jl_notebook_cell_df34fa98e69747e1a8f8a730347b8e2f_X25sZmlsZQ==.jl:5\n",
      "┌ Error: [2, 1, 1, 1, 1, 1, 1, 1, 1, 2, 1, 2] is not full nested at any bond!\n",
      "└ @ Main /Users/hiroshi/git/TensorCrossInterpolation.jl/notebook/jl_notebook_cell_df34fa98e69747e1a8f8a730347b8e2f_X25sZmlsZQ==.jl:5\n",
      "┌ Error: [1, 1, 1, 1, 2, 2, 2, 2, 1, 1, 2, 1] is not full nested at any bond!\n",
      "└ @ Main /Users/hiroshi/git/TensorCrossInterpolation.jl/notebook/jl_notebook_cell_df34fa98e69747e1a8f8a730347b8e2f_X25sZmlsZQ==.jl:5\n",
      "┌ Error: [1, 1, 1, 2, 1, 2, 1, 2, 2, 2, 1, 2] is not full nested at any bond!\n",
      "└ @ Main /Users/hiroshi/git/TensorCrossInterpolation.jl/notebook/jl_notebook_cell_df34fa98e69747e1a8f8a730347b8e2f_X25sZmlsZQ==.jl:5\n",
      "┌ Error: [2, 1, 2, 1, 2, 1, 1, 2, 1, 1, 1, 2] is not full nested at any bond!\n",
      "└ @ Main /Users/hiroshi/git/TensorCrossInterpolation.jl/notebook/jl_notebook_cell_df34fa98e69747e1a8f8a730347b8e2f_X25sZmlsZQ==.jl:5\n",
      "┌ Error: [1, 2, 1, 1, 2, 2, 2, 1, 1, 1, 2, 1] is not full nested at any bond!\n",
      "└ @ Main /Users/hiroshi/git/TensorCrossInterpolation.jl/notebook/jl_notebook_cell_df34fa98e69747e1a8f8a730347b8e2f_X25sZmlsZQ==.jl:5\n",
      "┌ Error: [1, 2, 2, 2, 1, 1, 2, 2, 1, 1, 2, 1] is not full nested at any bond!\n",
      "└ @ Main /Users/hiroshi/git/TensorCrossInterpolation.jl/notebook/jl_notebook_cell_df34fa98e69747e1a8f8a730347b8e2f_X25sZmlsZQ==.jl:5\n",
      "┌ Error: [1, 1, 1, 1, 2, 2, 2, 2, 1, 1, 1, 1] is not full nested at any bond!\n",
      "└ @ Main /Users/hiroshi/git/TensorCrossInterpolation.jl/notebook/jl_notebook_cell_df34fa98e69747e1a8f8a730347b8e2f_X25sZmlsZQ==.jl:5\n",
      "┌ Error: [1, 1, 1, 2, 1, 2, 2, 1, 1, 2, 2, 1] is not full nested at any bond!\n",
      "└ @ Main /Users/hiroshi/git/TensorCrossInterpolation.jl/notebook/jl_notebook_cell_df34fa98e69747e1a8f8a730347b8e2f_X25sZmlsZQ==.jl:5\n",
      "┌ Error: [1, 1, 2, 2, 1, 2, 1, 2, 2, 2, 2, 1] is not full nested at any bond!\n",
      "└ @ Main /Users/hiroshi/git/TensorCrossInterpolation.jl/notebook/jl_notebook_cell_df34fa98e69747e1a8f8a730347b8e2f_X25sZmlsZQ==.jl:5\n",
      "┌ Error: [2, 1, 1, 2, 1, 1, 2, 2, 2, 2, 1, 2] is not full nested at any bond!\n",
      "└ @ Main /Users/hiroshi/git/TensorCrossInterpolation.jl/notebook/jl_notebook_cell_df34fa98e69747e1a8f8a730347b8e2f_X25sZmlsZQ==.jl:5\n",
      "┌ Error: [2, 2, 1, 2, 2, 1, 2, 1, 1, 2, 2, 2] is not full nested at any bond!\n",
      "└ @ Main /Users/hiroshi/git/TensorCrossInterpolation.jl/notebook/jl_notebook_cell_df34fa98e69747e1a8f8a730347b8e2f_X25sZmlsZQ==.jl:5\n",
      "┌ Error: [1, 2, 2, 1, 2, 1, 1, 1, 2, 2, 2, 2] is not full nested at any bond!\n",
      "└ @ Main /Users/hiroshi/git/TensorCrossInterpolation.jl/notebook/jl_notebook_cell_df34fa98e69747e1a8f8a730347b8e2f_X25sZmlsZQ==.jl:5\n",
      "┌ Error: [1, 1, 2, 2, 2, 1, 2, 1, 1, 1, 1, 2] is not full nested at any bond!\n",
      "└ @ Main /Users/hiroshi/git/TensorCrossInterpolation.jl/notebook/jl_notebook_cell_df34fa98e69747e1a8f8a730347b8e2f_X25sZmlsZQ==.jl:5\n",
      "┌ Error: [1, 2, 2, 2, 1, 1, 2, 1, 1, 1, 1, 2] is not full nested at any bond!\n",
      "└ @ Main /Users/hiroshi/git/TensorCrossInterpolation.jl/notebook/jl_notebook_cell_df34fa98e69747e1a8f8a730347b8e2f_X25sZmlsZQ==.jl:5\n",
      "┌ Error: [2, 1, 2, 2, 1, 1, 1, 1, 1, 1, 1, 1] is not full nested at any bond!\n",
      "└ @ Main /Users/hiroshi/git/TensorCrossInterpolation.jl/notebook/jl_notebook_cell_df34fa98e69747e1a8f8a730347b8e2f_X25sZmlsZQ==.jl:5\n",
      "┌ Error: [2, 2, 1, 1, 1, 1, 1, 1, 2, 2, 1, 1] is not full nested at any bond!\n",
      "└ @ Main /Users/hiroshi/git/TensorCrossInterpolation.jl/notebook/jl_notebook_cell_df34fa98e69747e1a8f8a730347b8e2f_X25sZmlsZQ==.jl:5\n"
     ]
    }
   ],
   "source": [
    "for p in initialpivots\n",
    "    bs = checknesting(R, Iset, Jset, p)\n",
    "    println(\"$p $bs\")\n",
    "    if isempty(bs)\n",
    "        @error \"$p is not full nested at any bond!\"\n",
    "    end\n",
    "end"
   ]
  },
  {
   "cell_type": "code",
   "execution_count": 21,
   "metadata": {},
   "outputs": [
    {
     "name": "stdout",
     "output_type": "stream",
     "text": [
      "b = 1\n",
      "Iset[b + 1] = [[2], [1]]\n",
      "Jset[b] = [[2, 2, 1, 1, 1, 1, 1, 1, 2, 1, 1], [2, 2, 2, 2, 1, 1, 1, 2, 2, 1, 1]]\n",
      "\n",
      "b = 2\n",
      "Iset[b + 1] = [[2, 2], [1, 2], [1, 1], [2, 1]]\n",
      "Jset[b] = [[2, 1, 1, 1, 1, 1, 1, 2, 1, 1], [1, 2, 1, 2, 2, 1, 1, 2, 2, 1], [1, 1, 2, 1, 1, 2, 1, 1, 1, 2], [2, 2, 2, 2, 1, 1, 2, 1, 1, 1]]\n",
      "\n",
      "b = 3\n",
      "Iset[b + 1] = [[1, 1, 1], [1, 2, 1], [2, 2, 2], [1, 1, 2], [1, 2, 2], [2, 1, 2], [2, 1, 1], [2, 2, 1]]\n",
      "Jset[b] = [[1, 2, 1, 1, 1, 1, 2, 1, 1], [1, 1, 1, 1, 1, 1, 2, 1, 1], [2, 1, 1, 2, 2, 1, 2, 1, 1], [2, 2, 2, 2, 2, 2, 2, 1, 1], [1, 2, 2, 2, 1, 2, 1, 1, 1], [2, 2, 2, 1, 1, 2, 1, 1, 1], [1, 2, 1, 2, 2, 2, 1, 1, 1], [1, 1, 1, 1, 1, 2, 2, 2, 1]]\n",
      "\n",
      "b = 4\n",
      "Iset[b + 1] = [[1, 1, 1, 1], [1, 1, 2, 2], [2, 2, 1, 1], [1, 2, 1, 1], [2, 1, 2, 1], [2, 2, 2, 2], [2, 2, 2, 1], [2, 1, 2, 2], [1, 2, 2, 2], [2, 1, 1, 1], [1, 1, 1, 2], [2, 1, 1, 2], [1, 1, 2, 1], [1, 2, 1, 2], [2, 2, 1, 2], [1, 2, 2, 1]]\n",
      "Jset[b] = [[2, 1, 1, 1, 1, 2, 1, 1], [2, 2, 1, 1, 1, 2, 2, 1], [2, 2, 2, 2, 2, 2, 1, 1], [1, 1, 1, 1, 1, 2, 1, 1], [1, 1, 2, 1, 1, 2, 1, 1], [1, 1, 2, 2, 2, 1, 1, 1], [1, 2, 1, 1, 2, 1, 1, 1], [2, 2, 2, 1, 2, 1, 1, 1], [2, 1, 1, 1, 2, 2, 1, 1], [2, 2, 1, 1, 1, 1, 2, 2], [1, 1, 1, 2, 2, 2, 2, 1], [2, 1, 1, 2, 1, 2, 1, 2], [1, 2, 1, 2, 2, 1, 1, 1], [1, 1, 2, 1, 2, 2, 1, 1], [1, 1, 1, 1, 1, 2, 2, 2], [1, 1, 1, 1, 2, 2, 2, 1]]\n",
      "\n",
      "b = 5\n",
      "Iset[b + 1] = [[2, 2, 1, 1, 2], [1, 1, 2, 2, 2], [1, 1, 1, 1, 2], [2, 1, 2, 1, 1], [2, 2, 2, 2, 1], [1, 2, 1, 1, 1], [1, 2, 2, 1, 2], [2, 2, 2, 1, 1], [2, 2, 2, 2, 2], [2, 1, 1, 1, 2], [1, 2, 1, 2, 1], [2, 1, 1, 1, 1], [1, 1, 1, 2, 1], [1, 2, 1, 2, 2], [2, 2, 1, 2, 1], [2, 2, 1, 2, 2], [2, 2, 2, 1, 2], [1, 2, 1, 1, 2], [2, 1, 1, 2, 1], [1, 1, 1, 1, 1]]\n",
      "Jset[b] = [[1, 2, 1, 1, 2, 2, 1], [2, 1, 1, 1, 2, 2, 1], [1, 1, 1, 1, 2, 1, 1], [2, 2, 2, 2, 2, 1, 1], [1, 1, 2, 2, 2, 2, 2], [1, 2, 2, 1, 2, 1, 1], [2, 2, 1, 2, 1, 1, 1], [2, 1, 2, 2, 1, 1, 2], [1, 1, 1, 2, 1, 2, 2], [1, 2, 2, 2, 1, 1, 1], [2, 2, 2, 2, 1, 1, 1], [2, 1, 2, 2, 2, 2, 1], [1, 1, 2, 2, 2, 2, 1], [2, 1, 1, 2, 1, 1, 1], [1, 1, 1, 2, 2, 1, 2], [1, 2, 1, 1, 2, 1, 1], [1, 2, 1, 2, 2, 1, 1], [1, 1, 2, 1, 1, 2, 1], [2, 2, 2, 1, 1, 1, 2], [1, 1, 1, 2, 2, 1, 1]]\n",
      "\n",
      "b = 6\n",
      "Iset[b + 1] = [[1, 2, 1, 2, 1, 2], [1, 2, 1, 1, 1, 1], [1, 1, 1, 1, 2, 1], [2, 1, 1, 1, 1, 2], [2, 2, 2, 2, 1, 1], [2, 2, 2, 1, 2, 2], [2, 1, 1, 2, 1, 2], [1, 2, 2, 1, 1, 2], [1, 1, 1, 2, 1, 1], [2, 2, 2, 2, 2, 1], [2, 2, 1, 2, 1, 1], [1, 1, 1, 1, 1, 1], [2, 2, 2, 1, 1, 1], [1, 2, 2, 2, 2, 1], [1, 2, 1, 1, 2, 1], [2, 1, 2, 2, 1, 2], [2, 2, 2, 2, 1, 2], [1, 2, 1, 1, 2, 2], [1, 2, 2, 2, 1, 1], [2, 2, 2, 1, 2, 1]]\n",
      "Jset[b] = [[2, 2, 1, 2, 1, 1], [2, 2, 2, 2, 1, 1], [1, 1, 1, 2, 1, 1], [2, 1, 1, 2, 1, 1], [1, 2, 2, 2, 2, 2], [1, 1, 2, 2, 1, 1], [1, 2, 1, 1, 1, 2], [2, 1, 2, 1, 1, 1], [1, 2, 2, 2, 2, 1], [1, 1, 2, 1, 2, 2], [1, 1, 2, 1, 1, 1], [2, 2, 2, 1, 1, 1], [2, 1, 1, 2, 2, 2], [2, 1, 2, 2, 1, 1], [2, 2, 1, 1, 1, 2], [2, 2, 1, 1, 2, 1], [1, 2, 2, 1, 2, 1], [1, 2, 1, 2, 1, 1], [1, 2, 1, 2, 2, 1], [2, 1, 1, 2, 2, 1]]\n",
      "\n",
      "b = 7\n",
      "Iset[b + 1] = [[1, 2, 1, 2, 1, 2, 2], [2, 2, 2, 2, 1, 1, 1], [2, 1, 1, 1, 1, 2, 2], [2, 1, 2, 2, 1, 2, 2], [2, 2, 2, 1, 2, 2, 1], [1, 1, 1, 2, 2, 1, 1], [2, 1, 1, 2, 1, 2, 1], [1, 1, 2, 2, 2, 2, 1], [2, 1, 2, 2, 1, 1, 2], [1, 2, 1, 1, 1, 1, 1], [2, 2, 2, 2, 2, 1, 1], [1, 2, 2, 2, 2, 2, 1], [2, 1, 1, 1, 2, 2, 2], [1, 2, 2, 1, 2, 2, 2], [1, 2, 2, 2, 1, 1, 2], [2, 2, 2, 2, 2, 2, 1], [2, 2, 2, 2, 1, 2, 2], [2, 2, 1, 1, 2, 1, 2], [2, 2, 2, 1, 1, 1, 2], [2, 1, 1, 2, 1, 1, 2]]\n",
      "Jset[b] = [[2, 1, 2, 1, 1], [2, 2, 2, 1, 1], [1, 1, 1, 2, 2], [2, 1, 1, 2, 1], [1, 1, 1, 1, 2], [1, 2, 2, 1, 1], [2, 1, 1, 1, 2], [1, 1, 2, 2, 1], [1, 2, 2, 2, 1], [1, 2, 1, 1, 1], [1, 2, 2, 1, 2], [1, 1, 2, 1, 1], [2, 2, 1, 1, 1], [1, 2, 2, 2, 2], [1, 1, 1, 1, 1], [2, 2, 2, 2, 2], [1, 1, 2, 1, 2], [2, 1, 1, 2, 2], [2, 2, 2, 2, 1], [2, 2, 2, 1, 2]]\n",
      "\n",
      "b = 8\n",
      "Iset[b + 1] = [[2, 1, 1, 1, 1, 2, 2, 2], [2, 2, 2, 2, 1, 1, 1, 2], [1, 2, 2, 1, 1, 2, 2, 1], [2, 1, 2, 2, 1, 2, 2, 2], [1, 1, 2, 2, 2, 2, 1, 1], [2, 2, 2, 2, 1, 2, 1, 1], [1, 1, 2, 1, 2, 1, 1, 1], [2, 2, 1, 1, 2, 1, 2, 1], [2, 2, 1, 2, 2, 2, 1, 2], [2, 2, 2, 1, 2, 2, 1, 1], [2, 1, 2, 2, 1, 1, 2, 1], [1, 1, 2, 2, 2, 1, 1, 2], [2, 1, 2, 2, 1, 1, 1, 1], [2, 2, 2, 1, 1, 1, 2, 1], [1, 1, 1, 2, 1, 1, 2, 1], [2, 2, 2, 2, 2, 1, 1, 2]]\n",
      "Jset[b] = [[1, 2, 1, 1], [2, 2, 1, 1], [1, 1, 2, 2], [1, 1, 1, 2], [2, 1, 1, 2], [1, 2, 2, 1], [2, 2, 2, 1], [2, 2, 2, 2], [1, 2, 1, 2], [1, 2, 2, 2], [2, 1, 1, 1], [1, 1, 1, 1], [2, 1, 2, 2], [2, 2, 1, 2], [1, 1, 2, 1], [2, 1, 2, 1]]\n",
      "\n",
      "b = 9\n",
      "Iset[b + 1] = [[2, 1, 1, 1, 1, 2, 2, 2, 1], [2, 1, 2, 2, 1, 2, 2, 2, 1], [1, 2, 2, 1, 2, 1, 1, 1, 2], [2, 1, 1, 1, 2, 1, 2, 1, 1], [2, 2, 2, 1, 1, 1, 2, 1, 1], [2, 1, 1, 2, 1, 2, 1, 2, 2], [1, 1, 1, 1, 1, 1, 1, 2, 2], [2, 2, 1, 2, 2, 2, 1, 2, 1]]\n",
      "Jset[b] = [[2, 1, 1], [1, 1, 2], [1, 2, 1], [1, 1, 1], [2, 2, 1], [2, 2, 2], [2, 1, 2], [1, 2, 2]]\n",
      "\n",
      "b = 10\n",
      "Iset[b + 1] = [[2, 1, 2, 2, 1, 2, 2, 2, 1, 1], [1, 2, 1, 1, 1, 1, 1, 1, 1, 2], [1, 1, 2, 1, 2, 1, 1, 1, 1, 1], [2, 2, 2, 1, 2, 2, 1, 1, 1, 2]]\n",
      "Jset[b] = [[1, 2], [1, 1], [2, 1], [2, 2]]\n",
      "\n",
      "b = 11\n",
      "Iset[b + 1] = [[1, 2, 2, 2, 1, 1, 1, 1, 1, 1, 1], [2, 1, 2, 2, 1, 2, 2, 2, 1, 1, 2]]\n",
      "Jset[b] = [[2], [1]]\n",
      "\n"
     ]
    }
   ],
   "source": [
    "for b in 1:length(tci)-1\n",
    "    @show b\n",
    "    @show Iset[b+1]\n",
    "    @show Jset[b]\n",
    "    println(\"\")\n",
    "end"
   ]
  },
  {
   "cell_type": "code",
   "execution_count": 22,
   "metadata": {},
   "outputs": [
    {
     "name": "stdout",
     "output_type": "stream",
     "text": [
      "size(t) = (1, 2)\n",
      "size(t) = (2, 4)\n",
      "size(t) = (4, 8)\n",
      "size(t) = (8, 16)\n"
     ]
    }
   ],
   "source": [
    "#pivot = [2, 2, 1, 1]\n",
    "pivot = [1, 1, 1, 1]\n",
    "sitetensors_p = [t[:, p, :] for (p, t) in zip(pivot, tt)]\n",
    "for t in sitetensors_p\n",
    "    @show size(t)\n",
    "end"
   ]
  }
 ],
 "metadata": {
  "kernelspec": {
   "display_name": "Julia 1.10.4",
   "language": "julia",
   "name": "julia-1.10"
  },
  "language_info": {
   "file_extension": ".jl",
   "mimetype": "application/julia",
   "name": "julia",
   "version": "1.10.4"
  },
  "orig_nbformat": 4
 },
 "nbformat": 4,
 "nbformat_minor": 2
}
