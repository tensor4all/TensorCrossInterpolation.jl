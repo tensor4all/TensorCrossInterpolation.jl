{
 "cells": [
  {
   "cell_type": "code",
   "execution_count": null,
   "metadata": {},
   "outputs": [],
   "source": [
    "import Maxvol\n",
    "import Random\n",
    "import StatsBase\n",
    "import LinearAlgebra as LA"
   ]
  },
  {
   "cell_type": "code",
   "execution_count": null,
   "metadata": {},
   "outputs": [],
   "source": [
    "function _maxvol(A)\n",
    "    m, n = size(A)\n",
    "    @assert size(A, 1) >= size(A, 2)\n",
    "    A_ = copy(A)\n",
    "    piv, niters = Maxvol.maxvol!(A_)\n",
    "    return sort(piv)\n",
    "end\n",
    "\n",
    "function pseudoskelton(A::Matrix{T}, k::Int; niter=10) where T\n",
    "    m, n = size(A)\n",
    "\n",
    "    # Selected columns\n",
    "    J = sort(StatsBase.sample(1:n, k, replace=false))\n",
    "\n",
    "    C = Matrix{T}(undef, m, k)\n",
    "    M = Matrix{T}(undef, k, k)\n",
    "    R = Matrix{T}(undef, k, n)\n",
    "\n",
    "    det_prev = nothing\n",
    "    for iter in 1:niter\n",
    "        C = A[:, J]\n",
    "\n",
    "        # Select rows by maxvol\n",
    "        I = _maxvol(C);\n",
    "\n",
    "        M .= A[I, J]\n",
    "        R .= A[I, :]\n",
    "\n",
    "        det_M = abs(LA.det(M))\n",
    "        if !isnothing(det_prev) && abs(det_M - det_prev) < 1e-5 * abs(det_prev)\n",
    "            break\n",
    "        end\n",
    "        det_prev = det_M\n",
    "\n",
    "        # Reselect columns by maxvol\n",
    "        J = _maxvol(transpose(R))\n",
    "    end\n",
    "\n",
    "    F = LA.svd(M)\n",
    "\n",
    "    L = C * F.V * LA.Diagonal(1 ./ F.S) * F.U'\n",
    "\n",
    "    return L, R\n",
    "end"
   ]
  },
  {
   "cell_type": "code",
   "execution_count": null,
   "metadata": {},
   "outputs": [],
   "source": [
    "m, n = 20, 20\n",
    "k = 2\n",
    "\n",
    "x = LinRange(0, 1, m)\n",
    "y = LinRange(0, 1, n)\n",
    "\n",
    "A = Array{Float64,2}(undef, m, n)\n",
    "for j in 1:n, i in 1:m\n",
    "    A[i, j] = x[i]^2 + y[j]^2 \n",
    "end\n",
    "\n",
    "L, R = pseudoskelton(A, k)\n",
    ";"
   ]
  },
  {
   "cell_type": "code",
   "execution_count": null,
   "metadata": {},
   "outputs": [],
   "source": [
    "LA.norm(A - L * R)/LA.norm(A)"
   ]
  }
 ],
 "metadata": {
  "kernelspec": {
   "display_name": "Julia 1.8.3",
   "language": "julia",
   "name": "julia-1.8"
  },
  "language_info": {
   "file_extension": ".jl",
   "mimetype": "application/julia",
   "name": "julia",
   "version": "1.8.3"
  },
  "orig_nbformat": 4
 },
 "nbformat": 4,
 "nbformat_minor": 2
}
