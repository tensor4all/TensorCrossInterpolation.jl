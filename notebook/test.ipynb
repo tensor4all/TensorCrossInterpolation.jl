{
 "cells": [
  {
   "cell_type": "code",
   "execution_count": 1,
   "metadata": {},
   "outputs": [],
   "source": [
    "using Revise\n",
    "\n",
    "using Test\n",
    "import TensorCrossInterpolation as TCI\n",
    "import Random"
   ]
  },
  {
   "cell_type": "code",
   "execution_count": 2,
   "metadata": {},
   "outputs": [],
   "source": [
    "using Test\n",
    "import TensorCrossInterpolation as TCI\n",
    "import TensorCrossInterpolation: rank, linkdims, TensorCI2, MultiIndex, evaluate, crossinterpolate2, pivoterror, tensortrain\n",
    "import Random\n",
    "import QuanticsGrids as QD"
   ]
  },
  {
   "cell_type": "code",
   "execution_count": 3,
   "metadata": {},
   "outputs": [
    {
     "data": {
      "text/plain": [
       "14"
      ]
     },
     "metadata": {},
     "output_type": "display_data"
    }
   ],
   "source": [
    "import TensorCrossInterpolation as TCI\n",
    "using TensorCrossInterpolation\n",
    "using Random\n",
    "using Test\n",
    "using ITensors\n",
    "ITensors.disable_warn_order()"
   ]
  },
  {
   "cell_type": "code",
   "execution_count": 4,
   "metadata": {},
   "outputs": [
    {
     "name": "stdout",
     "output_type": "stream",
     "text": [
      "(length(extraouterIset), length(extraouterJset)) = (0, 1)\n",
      "(length(extraouterIset), length(extraouterJset)) = (1, 1)\n",
      "(length(extraouterIset), length(extraouterJset)) = (1, 1)\n",
      "(length(extraouterIset), length(extraouterJset)) = (1, 1)\n",
      "(length(extraouterIset), length(extraouterJset)) = (1, 1)\n",
      "(length(extraouterIset), length(extraouterJset)) = (1, 1)\n",
      "(length(extraouterIset), length(extraouterJset)) = (1, 1)\n",
      "(length(extraouterIset), length(extraouterJset)) = (1, 1)\n",
      "(length(extraouterIset), length(extraouterJset)) = (1, 1)\n",
      "(length(extraouterIset), length(extraouterJset)) = (1, 1)\n",
      "(length(extraouterIset), length(extraouterJset)) = (1, 1)\n",
      "(length(extraouterIset), length(extraouterJset)) = (1, 1)\n",
      "(length(extraouterIset), length(extraouterJset)) = (1, 1)\n",
      "(length(extraouterIset), length(extraouterJset)) = (1, 1)\n",
      "(length(extraouterIset), length(extraouterJset)) = (1, 1)\n",
      "(length(extraouterIset), length(extraouterJset)) = (1, 1)\n",
      "(length(extraouterIset), length(extraouterJset)) = (1, 1)\n",
      "(length(extraouterIset), length(extraouterJset)) = (1, 1)\n",
      "(length(extraouterIset), length(extraouterJset)) = (1, 0)\n",
      "iteration = 1, rank = 1, error= 1.1102230246251565e-16, maxsamplevalue= 1.0, nglobalpivot=0\n",
      "(length(extraouterIset), length(extraouterJset)) = (0, 1)\n",
      "(length(extraouterIset), length(extraouterJset)) = (1, 1)\n",
      "(length(extraouterIset), length(extraouterJset)) = (1, 1)\n",
      "(length(extraouterIset), length(extraouterJset)) = (1, 1)\n",
      "(length(extraouterIset), length(extraouterJset)) = (1, 1)\n",
      "(length(extraouterIset), length(extraouterJset)) = (1, 1)\n",
      "(length(extraouterIset), length(extraouterJset)) = (1, 1)\n",
      "(length(extraouterIset), length(extraouterJset)) = (1, 1)\n",
      "(length(extraouterIset), length(extraouterJset)) = (1, 1)\n",
      "(length(extraouterIset), length(extraouterJset)) = (1, 1)\n",
      "(length(extraouterIset), length(extraouterJset)) = (1, 1)\n",
      "(length(extraouterIset), length(extraouterJset)) = (1, 1)\n",
      "(length(extraouterIset), length(extraouterJset)) = (1, 1)\n",
      "(length(extraouterIset), length(extraouterJset)) = (1, 1)\n",
      "(length(extraouterIset), length(extraouterJset)) = (1, 1)\n",
      "(length(extraouterIset), length(extraouterJset)) = (1, 1)\n",
      "(length(extraouterIset), length(extraouterJset)) = (1, 1)\n",
      "(length(extraouterIset), length(extraouterJset)) = (1, 1)\n",
      "(length(extraouterIset), length(extraouterJset)) = (1, 0)\n",
      "iteration = 2, rank = 1, error= 1.1102230246251565e-16, maxsamplevalue= 1.0, nglobalpivot=0\n",
      "(length(extraouterIset), length(extraouterJset)) = (0, 1)\n",
      "(length(extraouterIset), length(extraouterJset)) = (1, 1)\n",
      "(length(extraouterIset), length(extraouterJset)) = (1, 1)\n",
      "(length(extraouterIset), length(extraouterJset)) = (1, 1)\n",
      "(length(extraouterIset), length(extraouterJset)) = (1, 1)\n",
      "(length(extraouterIset), length(extraouterJset)) = (1, 1)\n",
      "(length(extraouterIset), length(extraouterJset)) = (1, 1)\n",
      "(length(extraouterIset), length(extraouterJset)) = (1, 1)\n",
      "(length(extraouterIset), length(extraouterJset)) = (1, 1)\n",
      "(length(extraouterIset), length(extraouterJset)) = (1, 1)\n",
      "(length(extraouterIset), length(extraouterJset)) = (1, 1)\n",
      "(length(extraouterIset), length(extraouterJset)) = (1, 1)\n",
      "(length(extraouterIset), length(extraouterJset)) = (1, 1)\n",
      "(length(extraouterIset), length(extraouterJset)) = (1, 1)\n",
      "(length(extraouterIset), length(extraouterJset)) = (1, 1)\n",
      "(length(extraouterIset), length(extraouterJset)) = (1, 1)\n",
      "(length(extraouterIset), length(extraouterJset)) = (1, 1)\n",
      "(length(extraouterIset), length(extraouterJset)) = (1, 1)\n",
      "(length(extraouterIset), length(extraouterJset)) = (1, 0)\n",
      "iteration = 3, rank = 1, error= 1.1102230246251565e-16, maxsamplevalue= 1.0, nglobalpivot=0\n",
      "abstol = 0.0001\n"
     ]
    },
    {
     "data": {
      "text/plain": [
       "0.0001"
      ]
     },
     "metadata": {},
     "output_type": "display_data"
    }
   ],
   "source": [
    "pivotsearch = :full\n",
    "seed = 124\n",
    "\n",
    "Random.seed!(seed)\n",
    "\n",
    "R = 20\n",
    "abstol = 1e-4\n",
    "δ = 10.0 / 2^R # Peaks are wider than 1/2^R.\n",
    "grid = QD.DiscretizedGrid{1}(R, (0.0,), (1.0,))\n",
    "\n",
    "rindex = [rand(1:2, R) for _ in 1:100]\n",
    "\n",
    "f(bitlist) = fx(QD.quantics_to_origcoord(grid, bitlist)[1])\n",
    "rpoint = Float64[QD.quantics_to_origcoord(grid, r)[1] for r in rindex]\n",
    "\n",
    "function fx(x)\n",
    "    res = exp(-10 * x)\n",
    "    for r in rpoint\n",
    "        res += abs(x - r) < δ ? 2 * abstol : 0.0\n",
    "    end\n",
    "    res\n",
    "end\n",
    "\n",
    "localdims = fill(2, R)\n",
    "firstpivot = ones(Int, R)\n",
    "tci, ranks, errors = crossinterpolate2(\n",
    "    Float64,\n",
    "    f,\n",
    "    localdims,\n",
    "    [firstpivot];\n",
    "    tolerance=abstol,\n",
    "    maxbonddim=1000,\n",
    "    maxiter=20,\n",
    "    loginterval=1,\n",
    "    verbosity=1,\n",
    "    normalizeerror=false,\n",
    "    pivotsearch=pivotsearch,\n",
    ")\n",
    "@show abstol"
   ]
  },
  {
   "cell_type": "code",
   "execution_count": 5,
   "metadata": {},
   "outputs": [
    {
     "name": "stdout",
     "output_type": "stream",
     "text": [
      "(length(extraouterIset), length(extraouterJset)) = (0, 544)\n",
      "(length(extraouterIset), length(extraouterJset)) = (2, 531)\n",
      "(length(extraouterIset), length(extraouterJset)) = (4, 511)\n",
      "(length(extraouterIset), length(extraouterJset)) = (8, 481)\n",
      "(length(extraouterIset), length(extraouterJset)) = (16, 440)\n",
      "(length(extraouterIset), length(extraouterJset)) = (30, 400)\n",
      "(length(extraouterIset), length(extraouterJset)) = (55, 360)\n",
      "(length(extraouterIset), length(extraouterJset)) = (88, 312)\n",
      "(length(extraouterIset), length(extraouterJset)) = (130, 265)\n",
      "(length(extraouterIset), length(extraouterJset)) = (186, 197)\n",
      "(length(extraouterIset), length(extraouterJset)) = (233, 136)\n",
      "(length(extraouterIset), length(extraouterJset)) = (279, 97)\n",
      "(length(extraouterIset), length(extraouterJset)) = (326, 62)\n",
      "(length(extraouterIset), length(extraouterJset)) = (375, 32)\n",
      "(length(extraouterIset), length(extraouterJset)) = (427, 16)\n",
      "(length(extraouterIset), length(extraouterJset)) = (469, 8)\n",
      "(length(extraouterIset), length(extraouterJset)) = (505, 4)\n",
      "(length(extraouterIset), length(extraouterJset)) = (531, 2)\n",
      "(length(extraouterIset), length(extraouterJset)) = (545, 0)\n",
      "(length(extraouterIset), length(extraouterJset)) = (0, 544)\n",
      "(length(extraouterIset), length(extraouterJset)) = (2, 531)\n",
      "(length(extraouterIset), length(extraouterJset)) = (4, 511)\n",
      "(length(extraouterIset), length(extraouterJset)) = (8, 481)\n",
      "(length(extraouterIset), length(extraouterJset)) = (16, 440)\n",
      "(length(extraouterIset), length(extraouterJset)) = (30, 400)\n",
      "(length(extraouterIset), length(extraouterJset)) = (55, 360)\n",
      "(length(extraouterIset), length(extraouterJset)) = (88, 312)\n",
      "(length(extraouterIset), length(extraouterJset)) = (130, 265)\n",
      "(length(extraouterIset), length(extraouterJset)) = (186, 197)\n",
      "(length(extraouterIset), length(extraouterJset)) = (233, 136)\n",
      "(length(extraouterIset), length(extraouterJset)) = (279, 97)\n",
      "(length(extraouterIset), length(extraouterJset)) = (326, 62)\n",
      "(length(extraouterIset), length(extraouterJset)) = (375, 32)\n",
      "(length(extraouterIset), length(extraouterJset)) = (427, 16)\n",
      "(length(extraouterIset), length(extraouterJset)) = (469, 8)\n",
      "(length(extraouterIset), length(extraouterJset)) = (505, 4)\n",
      "(length(extraouterIset), length(extraouterJset)) = (531, 2)\n",
      "(length(extraouterIset), length(extraouterJset)) = (545, 0)\n",
      "Trying to add 100 global pivots, 0 still remain.\n"
     ]
    },
    {
     "data": {
      "text/plain": [
       "0"
      ]
     },
     "metadata": {},
     "output_type": "display_data"
    }
   ],
   "source": [
    "TCI.addglobalpivots2sitesweep!(\n",
    "    tci, f, rindex,\n",
    "    tolerance=abstol,\n",
    "    normalizeerror=false,\n",
    "    maxbonddim=1000,\n",
    "    pivotsearch=:full,\n",
    "    verbosity=1\n",
    ")"
   ]
  },
  {
   "cell_type": "code",
   "execution_count": 10,
   "metadata": {},
   "outputs": [
    {
     "name": "stdout",
     "output_type": "stream",
     "text": [
      "(length.(Iset_), length.(Jset_)) = ([1, 2, 4, 8, 16, 28, 47, 66, 76, 87, 93, 91, 86, 78, 59, 32, 16, 8, 4, 2], [2, 4, 8, 16, 28, 47, 66, 76, 87, 93, 91, 86, 78, 59, 32, 16, 8, 4, 2, 1])\n",
      "(length.(Iset_), length.(Jset_)) = ([1, 2, 4, 8, 16, 29, 48, 69, 81, 89, 96, 97, 95, 89, 67, 34, 16, 8, 4, 2], [2, 5, 9, 18, 33, 59, 87, 121, 149, 181, 188, 171, 121, 64, 32, 16, 8, 4, 2, 1])\n",
      "Nesting info: Iset\n",
      "  Nested: 1 < 2\n",
      "  Nested: 2 < 3\n",
      "  Nested: 3 < 4\n",
      "  Nested: 4 < 5\n",
      "  Nested: 5 < 6\n",
      "  Nested: 6 < 7\n",
      "  Nested: 7 < 8\n",
      "  Nested: 8 < 9\n",
      "  Nested: 9 < 10\n",
      "  Nested: 10 < 11\n",
      "  Nested: 11 < 12\n",
      "  Nested: 12 < 13\n",
      "  Nested: 13 < 14\n",
      "  Nested: 14 < 15\n",
      "  Nested: 15 < 16\n",
      "  Nested: 16 < 17\n",
      "  Nested: 17 < 18\n",
      "  Nested: 18 < 19\n",
      "  Nested: 19 < 20\n",
      "\n",
      "Nesting info: Jset\n",
      "  Nested: 2 < 1\n",
      "  Nested: 3 < 2\n",
      "  Nested: 4 < 3\n",
      "  Nested: 5 < 4\n",
      "  Nested: 6 < 5\n",
      "  Nested: 7 < 6\n",
      "  Nested: 8 < 7\n",
      "  Nested: 9 < 8\n",
      "  Nested: 10 < 9\n",
      "  Nested: 11 < 10\n",
      "  Nested: 12 < 11\n",
      "  Nested: 13 < 12\n",
      "  Nested: 14 < 13\n",
      "  Nested: 15 < 14\n",
      "  Nested: 16 < 15\n",
      "  Nested: 17 < 16\n",
      "  Nested: 18 < 17\n",
      "  Nested: 19 < 18\n",
      "  Nested: 20 < 19\n",
      "TCI.linkdims(tt) = "
     ]
    },
    {
     "name": "stderr",
     "output_type": "stream",
     "text": [
      "WARNING: method definition for printnestinginfo at /Users/hiroshi/git/TensorCrossInterpolation.jl/src/tensorci2.jl:773 declares type variable T but does not use it.\n",
      "WARNING: method definition for printnestinginfo at /Users/hiroshi/git/TensorCrossInterpolation.jl/src/tensorci2.jl:778 declares type variable T but does not use it.\n"
     ]
    },
    {
     "name": "stdout",
     "output_type": "stream",
     "text": [
      "[2, 4, 8, 16, 28, 47, 66, 76, 87, 93, 91, 86, 78, 59, 32, 16, 8, 4, 2]\n",
      "Error on pivots:\n",
      "1    1.1102230246251565e-15 false\n",
      "2    3.3306690738754696e-16 false\n",
      "3    7.771561172376096e-16 false\n",
      "4    7.771561172376096e-16 false\n",
      "5    1.3322676295501878e-15 false\n",
      "6    5.367687421142797e-5 false\n",
      "7    5.367687421142797e-5 false\n",
      "8    5.367687421142797e-5 false\n",
      "9    0.00020000000000012716 true\n",
      "10    0.00020000000000012716 true\n",
      "11    0.00020000000000012716 true\n",
      "12    0.00020000000000014863 true\n",
      "13    0.00020000000000007544 true\n",
      "14    0.00020000000000014863 true\n",
      "15    0.00020000000000007544 true\n",
      "16    2.7755575615628914e-16 false\n",
      "17    1.6653345369377348e-16 false\n",
      "18    2.7755575615628914e-17 false\n",
      "19    8.673617379884035e-18 false\n",
      "Error on T:\n",
      "1    1.1102230246251565e-15 false\n",
      "2    3.3306690738754696e-16 false\n",
      "3    7.771561172376096e-16 false\n",
      "4    7.771561172376096e-16 false\n",
      "5    1.3322676295501878e-15 false\n",
      "6    1.3322676295501878e-15 false\n",
      "7    5.367687421142797e-5 false\n",
      "8    5.367687421142797e-5 false\n",
      "9    5.367687421142797e-5 false\n"
     ]
    }
   ],
   "source": [
    "    tt = TCI.TensorTrain(TCI.sitetensors(tci, f))\n",
    "    @show TCI.linkdims(tt)\n",
    "    println(\"Error on pivots:\")\n",
    "    for b in 1:length(tci)-1\n",
    "        Iset = TCI.Iset(tci, b+1)\n",
    "        Jset = TCI.Jset(tci, b)\n",
    "        diff = maximum(abs, [TCI.evaluate(tt, vcat(i, j)) - f(vcat(i, j)) for i in Iset, j in Jset])\n",
    "        println(b, \"    \", diff, \" \", diff > abstol)\n",
    "    end\n",
    "    println(\"Error on T:\")\n",
    "    for l in 1:length(tci)-1\n",
    "        diff = [TCI.evaluate(tt, vcat(i, m, j)) - f(vcat(i, m, j)) for i in TCI.Iset(tci, l), j in TCI.Jset(tci, l), m in 1:localdims[l]]\n",
    "        println(l, \"    \", maximum(abs, diff), \" \", maximum(abs, diff) > abstol)\n",
    "    end\n",
    "\n",
    "    println(\"Error on Π:\")\n",
    "    for b in 1:length(tci)-1\n",
    "        Iset_b = TCI.Iset(tci, b)\n",
    "        Jset_bp1 = TCI.Jset(tci, b+1)\n",
    "        diff = [\n",
    "            TCI.evaluate(tt, vcat(i, i1, i2, j)) - f(vcat(i, i1, i2, j)) for i in Iset_b, j in Jset_bp1, i1 in 1:localdims[b], i2 in 1:localdims[b+1]]\n",
    "        println(b, \"    \", maximum(abs, diff), \" \", maximum(abs, diff) > abstol)\n",
    "    end"
   ]
  },
  {
   "cell_type": "code",
   "execution_count": 7,
   "metadata": {},
   "outputs": [
    {
     "name": "stdout",
     "output_type": "stream",
     "text": [
      "\u001b[91m\u001b[1mError During Test\u001b[22m\u001b[39m at \u001b[39m\u001b[1m/Users/hiroshi/git/TensorCrossInterpolation.jl/notebook/jl_notebook_cell_df34fa98e69747e1a8f8a730347b8e2f_X15sZmlsZQ==.jl:1\u001b[22m\n",
      "  Test threw exception\n",
      "  Expression: sum(abs.([TCI.evaluate(tci, r) - f(r) for r = rindex]) .> abstol) == 0\n",
      "  MethodError: no method matching evaluate(::TensorCI2{Float64}, ::Vector{Int64})\n",
      "  \n",
      "  \u001b[0mClosest candidates are:\n",
      "  \u001b[0m  evaluate(\u001b[91m::TensorCrossInterpolation.Contraction{T}\u001b[39m, ::AbstractVector{Int64}) where T\n",
      "  \u001b[0m\u001b[90m   @\u001b[39m \u001b[35mTensorCrossInterpolation\u001b[39m \u001b[90m~/git/TensorCrossInterpolation.jl/src/\u001b[39m\u001b[90m\u001b[4mcontraction.jl:179\u001b[24m\u001b[39m\n",
      "  \u001b[0m  evaluate(\u001b[91m::TensorCrossInterpolation.TTCache{V}\u001b[39m, ::AbstractVector{Int64}; usecache, midpoint) where V\n",
      "  \u001b[0m\u001b[90m   @\u001b[39m \u001b[35mTensorCrossInterpolation\u001b[39m \u001b[90m~/git/TensorCrossInterpolation.jl/src/\u001b[39m\u001b[90m\u001b[4mcachedtensortrain.jl:130\u001b[24m\u001b[39m\n",
      "  \u001b[0m  evaluate(\u001b[91m::TensorCrossInterpolation.AbstractTensorTrain{V}\u001b[39m, ::Union{Tuple{Vararg{Int64, N}}, AbstractVector{Int64}}) where {N, V}\n",
      "  \u001b[0m\u001b[90m   @\u001b[39m \u001b[35mTensorCrossInterpolation\u001b[39m \u001b[90m~/git/TensorCrossInterpolation.jl/src/\u001b[39m\u001b[90m\u001b[4mabstracttensortrain.jl:124\u001b[24m\u001b[39m\n",
      "  \u001b[0m  ...\n",
      "  \n",
      "  Stacktrace:\n",
      "   [1] \u001b[0m\u001b[1m(::var\"#19#20\")\u001b[22m\u001b[0m\u001b[1m(\u001b[22m\u001b[90mr\u001b[39m::\u001b[0mVector\u001b[90m{Int64}\u001b[39m\u001b[0m\u001b[1m)\u001b[22m\n",
      "  \u001b[90m   @\u001b[39m \u001b[36mMain\u001b[39m \u001b[90m./\u001b[39m\u001b[90m\u001b[4mnone:0\u001b[24m\u001b[39m\n",
      "   [2] \u001b[0m\u001b[1miterate\u001b[22m\n",
      "  \u001b[90m   @\u001b[39m \u001b[90m./\u001b[39m\u001b[90m\u001b[4mgenerator.jl:47\u001b[24m\u001b[39m\u001b[90m [inlined]\u001b[39m\n",
      "   [3] \u001b[0m\u001b[1mcollect\u001b[22m\u001b[0m\u001b[1m(\u001b[22m\u001b[90mitr\u001b[39m::\u001b[0mBase.Generator\u001b[90m{Vector{Vector{Int64}}, var\"#19#20\"}\u001b[39m\u001b[0m\u001b[1m)\u001b[22m\n",
      "  \u001b[90m   @\u001b[39m \u001b[90mBase\u001b[39m \u001b[90m./\u001b[39m\u001b[90m\u001b[4marray.jl:834\u001b[24m\u001b[39m\n",
      "   [4] \u001b[0m\u001b[1mmacro expansion\u001b[22m\n",
      "  \u001b[90m   @\u001b[39m \u001b[90m~/.julia/juliaup/julia-1.10.4+0.aarch64.apple.darwin14/share/julia/stdlib/v1.10/Test/src/\u001b[39m\u001b[90m\u001b[4mTest.jl:669\u001b[24m\u001b[39m\u001b[90m [inlined]\u001b[39m\n",
      "   [5] top-level scope\n",
      "  \u001b[90m   @\u001b[39m \u001b[90m~/git/TensorCrossInterpolation.jl/notebook/\u001b[39m\u001b[90m\u001b[4mjl_notebook_cell_df34fa98e69747e1a8f8a730347b8e2f_X15sZmlsZQ==.jl:1\u001b[24m\u001b[39m\n"
     ]
    },
    {
     "ename": "Test.FallbackTestSetException",
     "evalue": "Test.FallbackTestSetException(\"There was an error during testing\")",
     "output_type": "error",
     "traceback": [
      "Test.FallbackTestSetException(\"There was an error during testing\")\n",
      "\n",
      "Stacktrace:\n",
      " [1] record(ts::Test.FallbackTestSet, t::Union{Test.Error, Test.Fail})\n",
      "   @ Test ~/.julia/juliaup/julia-1.10.4+0.aarch64.apple.darwin14/share/julia/stdlib/v1.10/Test/src/Test.jl:1000\n",
      " [2] do_test(result::Test.ExecutionResult, orig_expr::Any)\n",
      "   @ Test ~/.julia/juliaup/julia-1.10.4+0.aarch64.apple.darwin14/share/julia/stdlib/v1.10/Test/src/Test.jl:705\n",
      " [3] macro expansion\n",
      "   @ ~/.julia/juliaup/julia-1.10.4+0.aarch64.apple.darwin14/share/julia/stdlib/v1.10/Test/src/Test.jl:672 [inlined]\n",
      " [4] top-level scope\n",
      "   @ ~/git/TensorCrossInterpolation.jl/notebook/jl_notebook_cell_df34fa98e69747e1a8f8a730347b8e2f_X15sZmlsZQ==.jl:1"
     ]
    }
   ],
   "source": [
    "@test sum(abs.([TCI.evaluate(tci, r) - f(r) for r in rindex]) .> abstol) == 0"
   ]
  },
  {
   "cell_type": "code",
   "execution_count": 8,
   "metadata": {},
   "outputs": [],
   "source": []
  }
 ],
 "metadata": {
  "kernelspec": {
   "display_name": "Julia 1.10.4",
   "language": "julia",
   "name": "julia-1.10"
  },
  "language_info": {
   "file_extension": ".jl",
   "mimetype": "application/julia",
   "name": "julia",
   "version": "1.10.4"
  },
  "orig_nbformat": 4
 },
 "nbformat": 4,
 "nbformat_minor": 2
}
