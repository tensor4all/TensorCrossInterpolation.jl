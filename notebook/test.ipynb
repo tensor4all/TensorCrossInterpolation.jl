{
 "cells": [
  {
   "cell_type": "code",
   "execution_count": 1,
   "metadata": {},
   "outputs": [],
   "source": [
    "using Revise\n",
    "\n",
    "using Test\n",
    "import TensorCrossInterpolation as TCI\n",
    "import Random"
   ]
  },
  {
   "cell_type": "code",
   "execution_count": 2,
   "metadata": {},
   "outputs": [
    {
     "name": "stderr",
     "output_type": "stream",
     "text": [
      "WARNING: could not import TensorCrossInterpolation.updatepivots! into Main\n",
      "WARNING: could not import TensorCrossInterpolation.addglobalpivots1sitesweep! into Main\n"
     ]
    }
   ],
   "source": [
    "using Test\n",
    "import TensorCrossInterpolation as TCI\n",
    "import TensorCrossInterpolation: rank, linkdims, TensorCI2, updatepivots!, addglobalpivots1sitesweep!, MultiIndex, evaluate, crossinterpolate2, pivoterror, tensortrain\n",
    "import Random\n",
    "import QuanticsGrids as QD"
   ]
  },
  {
   "cell_type": "code",
   "execution_count": 3,
   "metadata": {},
   "outputs": [],
   "source": [
    "import TensorCrossInterpolation as TCI\n",
    "using TensorCrossInterpolation\n",
    "using Random\n",
    "using Test"
   ]
  },
  {
   "cell_type": "code",
   "execution_count": 4,
   "metadata": {},
   "outputs": [
    {
     "name": "stdout",
     "output_type": "stream",
     "text": [
      "iteration = 1, rank = 1, error= 1.1102230246251565e-16, maxsamplevalue= 1.0, nglobalpivot=0\n",
      "iteration = 2, rank = 1, error= 1.1102230246251565e-16, maxsamplevalue= 1.0, nglobalpivot=0\n",
      "iteration = 3, rank = 1, error= 1.1102230246251565e-16, maxsamplevalue= 1.0, nglobalpivot=0\n"
     ]
    },
    {
     "data": {
      "text/plain": [
       "(TensorCI2{Float64} with rank 1, [1, 1, 1], [1.1102230246251565e-16, 1.1102230246251565e-16, 1.1102230246251565e-16])"
      ]
     },
     "metadata": {},
     "output_type": "display_data"
    }
   ],
   "source": [
    "pivotsearch = :full\n",
    "seed = 123\n",
    "strictlynested = false\n",
    "\n",
    "Random.seed!(seed)\n",
    "\n",
    "R = 20\n",
    "abstol = 1e-4\n",
    "δ = 10.0 / 2^R # Peaks are wider than 1/2^R.\n",
    "grid = QD.DiscretizedGrid{1}(R, (0.0,), (1.0,))\n",
    "\n",
    "rindex = [rand(1:2, R) for _ in 1:100]\n",
    "\n",
    "f(bitlist) = any(bitlist .> 2) ? 0.0 : fx(QD.quantics_to_origcoord(grid, bitlist)[1])\n",
    "rpoint = Float64[QD.quantics_to_origcoord(grid, r)[1] for r in rindex]\n",
    "\n",
    "function fx(x)\n",
    "    #res = exp(-10 * x) + 1.0/(x+1.0)\n",
    "    res = exp(-10 * x)\n",
    "    for r in rpoint\n",
    "        res += abs(x - r) < δ ? 2 * abstol : 0.0\n",
    "    end\n",
    "    res\n",
    "end\n",
    "\n",
    "localdims = fill(2, R)\n",
    "firstpivot = ones(Int, R)\n",
    "tci, ranks, errors = crossinterpolate2(\n",
    "    Float64,\n",
    "    f,\n",
    "    localdims,\n",
    "    [firstpivot];\n",
    "    tolerance=abstol,\n",
    "    maxbonddim=1000,\n",
    "    maxiter=20,\n",
    "    loginterval=1,\n",
    "    verbosity=1,\n",
    "    normalizeerror=false,\n",
    "    pivotsearch=pivotsearch,\n",
    "    nsearchglobalpivot=0\n",
    ")"
   ]
  },
  {
   "cell_type": "code",
   "execution_count": 5,
   "metadata": {},
   "outputs": [
    {
     "name": "stdout",
     "output_type": "stream",
     "text": [
      "    Computing Pi (2 x 202) at bond 1: 0.008157917 sec, LU: 2.6083e-5 sec\n",
      "    Computing Pi (4 x 202) at bond 2: 0.010070834 sec, LU: 1.7583e-5 sec\n",
      "    Computing Pi (8 x 202) at bond 3: 0.024280625 sec, LU: 3.3959000000000005e-5 sec\n",
      "    Computing Pi (16 x 202) at bond 4: 0.042002709 sec, LU: 7.6458e-5 sec\n",
      "    Computing Pi (32 x 202) at bond 5: 0.076999833 sec, LU: 0.00022300000000000003 sec\n",
      "    Computing Pi (60 x 202) at bond 6: 0.146345459 sec, LU: 0.000620333 sec\n",
      "    Computing Pi (100 x 202) at bond 7: 0.24564337500000002 sec, LU: 0.001463916 sec\n",
      "    Computing Pi (134 x 196) at bond 8: 0.31744841700000004 sec, LU: 0.0022136250000000003 sec\n",
      "    Computing Pi (164 x 194) at bond 9: 0.384104208 sec, LU: 0.0027101250000000003 sec\n",
      "    Computing Pi (182 x 176) at bond 10: 0.390656875 sec, LU: 0.002784917 sec\n",
      "    Computing Pi (188 x 162) at bond 11: 0.370063833 sec, LU: 0.002666958 sec\n",
      "    Computing Pi (196 x 138) at bond 12: 0.32654225000000003 sec, LU: 0.002283292 sec\n",
      "    Computing Pi (198 x 98) at bond 13: 0.23734379100000003 sec, LU: 0.00142125 sec\n",
      "    Computing Pi (200 x 64) at bond 14: 0.15709166700000002 sec, LU: 0.000721541 sec\n",
      "    Computing Pi (200 x 32) at bond 15: 0.076816459 sec, LU: 0.0020929160000000002 sec\n",
      "    Computing Pi (202 x 16) at bond 16: 0.037595542 sec, LU: 8.1167e-5 sec\n",
      "    Computing Pi (202 x 8) at bond 17: 0.02066275 sec, LU: 3.3583e-5 sec\n",
      "    Computing Pi (202 x 4) at bond 18: 0.009357209 sec, LU: 1.0166e-5 sec\n",
      "    Computing Pi (202 x 2) at bond 19: 0.004704833 sec, LU: 6.25e-6 sec\n",
      "    Computing Pi (782 x 2) at bond 19: 0.018151083000000002 sec, LU: 1.9583000000000002e-5 sec\n",
      "    Computing Pi (668 x 4) at bond 18: 0.033736958000000004 sec, LU: 3.1917e-5 sec\n",
      "    Computing Pi (504 x 8) at bond 17: 0.049129209 sec, LU: 5.7375000000000005e-5 sec\n",
      "    Computing Pi (378 x 16) at bond 16: 0.072509791 sec, LU: 0.000125959 sec\n",
      "    Computing Pi (300 x 32) at bond 15: 0.11576154200000001 sec, LU: 0.000308583 sec\n",
      "    Computing Pi (256 x 64) at bond 14: 0.19935312500000002 sec, LU: 0.000928208 sec\n",
      "    Computing Pi (236 x 126) at bond 13: 0.359161917 sec, LU: 0.002418833 sec\n",
      "    Computing Pi (230 x 210) at bond 12: 0.5844042500000001 sec, LU: 0.004649042 sec\n",
      "    Computing Pi (212 x 334) at bond 11: 0.8728634580000001 sec, LU: 0.007508542000000001 sec\n",
      "    Computing Pi (202 x 478) at bond 10: 1.170651917 sec, LU: 0.010622542 sec\n",
      "    Computing Pi (172 x 618) at bond 9: 1.285609916 sec, LU: 0.011467709000000001 sec\n",
      "    Computing Pi (140 x 704) at bond 8: 1.1861040840000001 sec, LU: 0.011451875 sec\n",
      "    Computing Pi (104 x 782) at bond 7: 0.985415625 sec, LU: 0.006349042 sec\n",
      "    Computing Pi (62 x 846) at bond 6: 0.6329582920000001 sec, LU: 0.0029625000000000003 sec\n",
      "    Computing Pi (32 x 874) at bond 5: 0.336458542 sec, LU: 0.0009811660000000001 sec\n",
      "    Computing Pi (16 x 892) at bond 4: 0.175229459 sec, LU: 0.0003645 sec\n",
      "    Computing Pi (8 x 900) at bond 3: 0.088505708 sec, LU: 0.000121458 sec\n",
      "    Computing Pi (4 x 902) at bond 2: 0.044867083 sec, LU: 5.2917e-5 sec\n",
      "    Computing Pi (2 x 904) at bond 1: 0.021797625 sec, LU: 2.7083e-5 sec\n"
     ]
    }
   ],
   "source": [
    "TCI.addglobalpivots2sitesweep!(tci, f, rindex; fillsitetensors=false, verbosity=4)"
   ]
  },
  {
   "cell_type": "code",
   "execution_count": 6,
   "metadata": {},
   "outputs": [
    {
     "name": "stdout",
     "output_type": "stream",
     "text": [
      "(length(tci.Iset[b + 1]), length(tci.Jset[b])) = (2, 485)\n",
      "(length(tci.Iset[b + 1]), length(tci.Jset[b])) = (4, 485)\n",
      "(length(tci.Iset[b + 1]), length(tci.Jset[b])) = (8, 484)\n",
      "(length(tci.Iset[b + 1]), length(tci.Jset[b])) = (16, 483)\n",
      "(length(tci.Iset[b + 1]), length(tci.Jset[b])) = (31, 477)\n",
      "(length(tci.Iset[b + 1]), length(tci.Jset[b])) = (51, 473)\n",
      "(length(tci.Iset[b + 1]), length(tci.Jset[b])) = (69, 463)\n",
      "(length(tci.Iset[b + 1]), length(tci.Jset[b])) = (85, 441)\n",
      "(length(tci.Iset[b + 1]), length(tci.Jset[b])) = (97, 398)\n",
      "(length(tci.Iset[b + 1]), length(tci.Jset[b])) = (101, 351)\n",
      "(length(tci.Iset[b + 1]), length(tci.Jset[b])) = (109, 277)\n",
      "(length(tci.Iset[b + 1]), length(tci.Jset[b])) = (112, 188)\n",
      "(length(tci.Iset[b + 1]), length(tci.Jset[b])) = (122, 113)\n",
      "(length(tci.Iset[b + 1]), length(tci.Jset[b])) = (146, 63)\n",
      "(length(tci.Iset[b + 1]), length(tci.Jset[b])) = (191, 32)\n",
      "(length(tci.Iset[b + 1]), length(tci.Jset[b])) = (258, 16)\n",
      "(length(tci.Iset[b + 1]), length(tci.Jset[b])) = (332, 8)\n",
      "(length(tci.Iset[b + 1]), length(tci.Jset[b])) = (395, 4)\n",
      "(length(tci.Iset[b + 1]), length(tci.Jset[b])) = (446, 2)\n"
     ]
    }
   ],
   "source": [
    "for b in 1:length(tci)-1\n",
    "    @show length(tci.Iset[b+1]), length(tci.Jset[b])\n",
    "end"
   ]
  },
  {
   "cell_type": "code",
   "execution_count": 7,
   "metadata": {},
   "outputs": [],
   "source": [
    "TCI.fillsitetensors!(tci, f)"
   ]
  },
  {
   "cell_type": "code",
   "execution_count": 8,
   "metadata": {},
   "outputs": [
    {
     "data": {
      "text/plain": [
       "715"
      ]
     },
     "metadata": {},
     "output_type": "display_data"
    }
   ],
   "source": [
    "length(tci.globalpivots)"
   ]
  },
  {
   "cell_type": "code",
   "execution_count": 9,
   "metadata": {},
   "outputs": [
    {
     "name": "stdout",
     "output_type": "stream",
     "text": [
      "TCI.linkdims(tt) = [2, 4, 8, 16, 31, 51, 69, 85, 97, 101, 109, 112, 122, 146, 191, 258, 332, 395, 446]\n",
      "TCI.linkdims(tt) = [2, 4, 8, 16, 31, 51, 68, 82, 91, 93, 90, 85, 78, 60, 32, 16, 8, 4, 2]\n"
     ]
    },
    {
     "data": {
      "text/plain": [
       "19-element Vector{Int64}:\n",
       "  2\n",
       "  4\n",
       "  8\n",
       " 16\n",
       " 31\n",
       " 51\n",
       " 68\n",
       " 82\n",
       " 91\n",
       " 93\n",
       " 90\n",
       " 85\n",
       " 78\n",
       " 60\n",
       " 32\n",
       " 16\n",
       "  8\n",
       "  4\n",
       "  2"
      ]
     },
     "metadata": {},
     "output_type": "display_data"
    }
   ],
   "source": [
    "tt = TCI.TensorTrain(tci)\n",
    "@show TCI.linkdims(tt)\n",
    "TCI.compress!(tt, :SVD; tolerance=1e-14)\n",
    "@show TCI.linkdims(tt)"
   ]
  },
  {
   "cell_type": "code",
   "execution_count": 10,
   "metadata": {},
   "outputs": [
    {
     "data": {
      "text/plain": [
       "\u001b[32m\u001b[1mTest Passed\u001b[22m\u001b[39m"
      ]
     },
     "metadata": {},
     "output_type": "display_data"
    }
   ],
   "source": [
    "@test sum(abs.([TCI.evaluate(tci, r) - f(r) for r in rindex]) .> abstol) == 0\n",
    "\n",
    "rindex_test = [rand(1:2, R) for _ in 1:100]\n",
    "\n",
    "@test sum(abs.([TCI.evaluate(tci, r) - f(r) for r in rindex_test]) .> abstol) == 0"
   ]
  },
  {
   "cell_type": "code",
   "execution_count": 11,
   "metadata": {},
   "outputs": [],
   "source": []
  }
 ],
 "metadata": {
  "kernelspec": {
   "display_name": "Julia 1.10.4",
   "language": "julia",
   "name": "julia-1.10"
  },
  "language_info": {
   "file_extension": ".jl",
   "mimetype": "application/julia",
   "name": "julia",
   "version": "1.10.4"
  },
  "orig_nbformat": 4
 },
 "nbformat": 4,
 "nbformat_minor": 2
}
