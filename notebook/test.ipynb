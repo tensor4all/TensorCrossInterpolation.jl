{
 "cells": [
  {
   "cell_type": "code",
   "execution_count": null,
   "metadata": {},
   "outputs": [],
   "source": [
    "using Revise\n",
    "\n",
    "using Test\n",
    "import TensorCrossInterpolation as TCI\n",
    "import Random"
   ]
  },
  {
   "cell_type": "code",
   "execution_count": null,
   "metadata": {},
   "outputs": [],
   "source": [
    "using Test\n",
    "import TensorCrossInterpolation as TCI\n",
    "import TensorCrossInterpolation: rank, linkdims, TensorCI2, MultiIndex, evaluate, crossinterpolate2, pivoterror, tensortrain\n",
    "import Random\n",
    "import QuanticsGrids as QD"
   ]
  },
  {
   "cell_type": "code",
   "execution_count": null,
   "metadata": {},
   "outputs": [],
   "source": [
    "import TensorCrossInterpolation as TCI\n",
    "using TensorCrossInterpolation\n",
    "using Random\n",
    "using Test\n",
    "using ITensors\n",
    "ITensors.disable_warn_order()"
   ]
  },
  {
   "cell_type": "code",
   "execution_count": null,
   "metadata": {},
   "outputs": [],
   "source": [
    "pivotsearch = :full\n",
    "seed = 124\n",
    "\n",
    "Random.seed!(seed)\n",
    "\n",
    "#==\n",
    "R = 30\n",
    "abstol = 1e-1\n",
    "grid = QD.DiscretizedGrid{1}(R, (0.0,), (1.0,))\n",
    "\n",
    "f(bitlist) = fx(QD.quantics_to_origcoord(grid, bitlist)[1])\n",
    "\n",
    "B = 2^(-30) # global variable\n",
    "\n",
    "nc = 1000\n",
    "coeffs = [randn() for _ in 1:nc]\n",
    "exps = 10 .* rand(nc)\n",
    "\n",
    "function fx(x)\n",
    "    #return cos(x / B) * cos(x / (4 * sqrt(5) * B)) * exp(-x^2) + 2 * exp(-x)\n",
    "    #cos(x^2) + exp(-x^2) + 2 * exp(-x)\n",
    "    sum(c * exp(- e * x^2) for (c, e) in zip(coeffs, exps))\n",
    "end\n",
    "==#\n",
    "\n",
    "R = 20\n",
    "abstol = 1e-3\n",
    "sites = [Index(2, \"n=$n\") for n in 1:R]\n",
    "\n",
    "Ψ = random_mps(sites; linkdims=20)\n",
    "\n",
    "tensor = Array(reduce(*, Ψ), reverse(sites))\n",
    "tensor .+= (0.1 * abstol) .* randn(size(tensor))\n",
    "\n",
    "f(x) = tensor[x...]\n",
    "\n",
    "localdims = fill(2, R)\n",
    "firstpivot = ones(Int, R)\n",
    "tci, ranks, errors = crossinterpolate2(\n",
    "    Float64,\n",
    "    f,\n",
    "    localdims,\n",
    "    [firstpivot];\n",
    "    tolerance=abstol,\n",
    "    maxbonddim=1000,\n",
    "    maxiter=20,\n",
    "    loginterval=1,\n",
    "    verbosity=1,\n",
    "    normalizeerror=false,\n",
    "    pivotsearch=pivotsearch,\n",
    ")\n",
    "@show abstol"
   ]
  },
  {
   "cell_type": "code",
   "execution_count": null,
   "metadata": {},
   "outputs": [],
   "source": [
    "#@show length(tci.globalpivots)\n",
    "#@show length(TCI.reducedglobalpivots(tci.globalpivots))\n",
    "#@show length(TCI.fullglobalpivots(TCI.reducedglobalpivots(tci.globalpivots)))"
   ]
  },
  {
   "cell_type": "code",
   "execution_count": null,
   "metadata": {},
   "outputs": [],
   "source": [
    "for b in 1:length(tci)-1\n",
    "    @show length(TCI.Iset(tci, b+1)), length(TCI.Jset(tci, b))\n",
    "end"
   ]
  },
  {
   "cell_type": "code",
   "execution_count": null,
   "metadata": {},
   "outputs": [],
   "source": [
    "#for orthocenter in [1, length(tci), length(tci) ÷ 2]\n",
    "for orthocenter in [1]\n",
    "    tt = TCI.TensorTrain(TCI.sitetensors(tci, f; orthocenter=orthocenter))\n",
    "    TCI.compress!(tt, :SVD; tolerance=1e-8)\n",
    "    println(\"Orthocenter: \", orthocenter)\n",
    "    @show TCI.linkdims(tt)\n",
    "    println(\"Error on pivots:\")\n",
    "    for b in 1:length(tci)-1\n",
    "        Iset = TCI.Iset(tci, b+1)\n",
    "        Jset = TCI.Jset(tci, b)\n",
    "        diff = maximum(abs, [TCI.evaluate(tt, vcat(i, j)) - f(vcat(i, j)) for i in Iset, j in Jset])\n",
    "        println(b, \"    \", diff, \" \", diff > abstol)\n",
    "    end\n",
    "    println(\"Error on T:\")\n",
    "    for l in 1:length(tci)-1\n",
    "        diff = [TCI.evaluate(tt, vcat(i, m, j)) - f(vcat(i, m, j)) for i in TCI.Iset(tci, l), j in TCI.Jset(tci, l), m in 1:localdims[l]]\n",
    "        println(l, \"    \", maximum(abs, diff), \" \", maximum(abs, diff) > abstol)\n",
    "    end\n",
    "\n",
    "    println(\"Error on Π:\")\n",
    "    for b in 1:length(tci)-1\n",
    "        Iset_b = TCI.Iset(tci, b)\n",
    "        Jset_bp1 = TCI.Jset(tci, b+1)\n",
    "        diff = [\n",
    "            TCI.evaluate(tt, vcat(i, i1, i2, j)) - f(vcat(i, i1, i2, j)) for i in Iset_b, j in Jset_bp1, i1 in 1:localdims[b], i2 in 1:localdims[b+1]]\n",
    "        println(b, \"    \", maximum(abs, diff), \" \", maximum(abs, diff) > abstol)\n",
    "    end\n",
    "\n",
    "    println(\"error on global pivots: \", maximum([abs(TCI.evaluate(tt, p) - f(p)) for p in tci.globalpivots]))\n",
    "end"
   ]
  },
  {
   "cell_type": "code",
   "execution_count": null,
   "metadata": {},
   "outputs": [],
   "source": [
    "tt = TCI.TensorTrain(TCI.sitetensors(tci, f))\n",
    "tt_old = TCI.TensorTrain(TCI.sitetensors_site0update(tci, f))\n",
    "\n",
    "@show TCI.linkdims(tt)\n",
    "@show TCI.linkdims(tt_old)"
   ]
  },
  {
   "cell_type": "code",
   "execution_count": null,
   "metadata": {},
   "outputs": [],
   "source": [
    "for l in 1:length(tci)\n",
    "    Iset = TCI.Iset(tci, l)\n",
    "    Jset = TCI.Jset(tci, l)\n",
    "    println(l, \"    \", maximum(abs, [TCI.evaluate(tt, vcat(i, l, j)) - f(vcat(i, l, j)) for i in Iset, j in Jset, l in 1:localdims[l]]))\n",
    "end"
   ]
  },
  {
   "cell_type": "code",
   "execution_count": null,
   "metadata": {},
   "outputs": [],
   "source": [
    "maximum([abs(TCI.evaluate(tt, p) - f(p)) for p in tci.globalpivots])"
   ]
  },
  {
   "cell_type": "code",
   "execution_count": null,
   "metadata": {},
   "outputs": [],
   "source": [
    "for b in 1:length(tci)-1\n",
    "    Iset = TCI.Iset(tci, b+1)\n",
    "    Jset = TCI.Jset(tci, b)\n",
    "    println(b, \"    \", maximum(abs, [TCI.evaluate(tt_old, vcat(i, j)) - f(vcat(i, j)) for i in Iset, j in Jset]))\n",
    "end\n",
    "\n",
    "maximum([abs(TCI.evaluate(tt_old, p) - f(p)) for p in tci.globalpivots])"
   ]
  },
  {
   "cell_type": "code",
   "execution_count": null,
   "metadata": {},
   "outputs": [],
   "source": [
    "using Plots\n",
    "\n",
    "p = plot(ylims=(0, 2))\n",
    "b = 5\n",
    "plot!(p, sort(vec(abs.(tt[b]))))\n",
    "plot!(p, sort(vec(abs.(tt_old[b]))))"
   ]
  },
  {
   "cell_type": "code",
   "execution_count": null,
   "metadata": {},
   "outputs": [],
   "source": [
    "length(tci.globalpivots)"
   ]
  },
  {
   "cell_type": "code",
   "execution_count": null,
   "metadata": {},
   "outputs": [],
   "source": []
  }
 ],
 "metadata": {
  "kernelspec": {
   "display_name": "Julia 1.10.4",
   "language": "julia",
   "name": "julia-1.10"
  },
  "language_info": {
   "file_extension": ".jl",
   "mimetype": "application/julia",
   "name": "julia",
   "version": "1.10.4"
  },
  "orig_nbformat": 4
 },
 "nbformat": 4,
 "nbformat_minor": 2
}
