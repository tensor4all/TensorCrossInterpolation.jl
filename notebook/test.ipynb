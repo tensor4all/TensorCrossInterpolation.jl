{
 "cells": [
  {
   "cell_type": "code",
   "execution_count": 1,
   "metadata": {},
   "outputs": [],
   "source": [
    "using Revise\n",
    "\n",
    "using Test\n",
    "import TensorCrossInterpolation as TCI\n",
    "import Random"
   ]
  },
  {
   "cell_type": "code",
   "execution_count": 2,
   "metadata": {},
   "outputs": [
    {
     "name": "stderr",
     "output_type": "stream",
     "text": [
      "WARNING: could not import TensorCrossInterpolation.updatepivots! into Main\n",
      "WARNING: could not import TensorCrossInterpolation.addglobalpivots1sitesweep! into Main\n"
     ]
    }
   ],
   "source": [
    "using Test\n",
    "import TensorCrossInterpolation as TCI\n",
    "import TensorCrossInterpolation: rank, linkdims, TensorCI2, updatepivots!, addglobalpivots1sitesweep!, MultiIndex, evaluate, crossinterpolate2, pivoterror, tensortrain\n",
    "import Random\n",
    "import QuanticsGrids as QD"
   ]
  },
  {
   "cell_type": "code",
   "execution_count": 3,
   "metadata": {},
   "outputs": [],
   "source": [
    "import TensorCrossInterpolation as TCI\n",
    "using TensorCrossInterpolation\n",
    "using Random\n",
    "using Test"
   ]
  },
  {
   "cell_type": "code",
   "execution_count": 17,
   "metadata": {},
   "outputs": [
    {
     "name": "stdout",
     "output_type": "stream",
     "text": [
      "iteration = 1, rank = 1, error= 1.1102230246251565e-16, maxsamplevalue= 1.0, nglobalpivot=0\n",
      "iteration = 2, rank = 1, error= 1.1102230246251565e-16, maxsamplevalue= 1.0, nglobalpivot=0\n",
      "iteration = 3, rank = 1, error= 1.1102230246251565e-16, maxsamplevalue= 1.0, nglobalpivot=0\n"
     ]
    },
    {
     "data": {
      "text/plain": [
       "(TensorCI2{Float64} with rank 1, [1, 1, 1], [1.1102230246251565e-16, 1.1102230246251565e-16, 1.1102230246251565e-16])"
      ]
     },
     "metadata": {},
     "output_type": "display_data"
    }
   ],
   "source": [
    "pivotsearch = :full\n",
    "seed = 123\n",
    "strictlynested = false\n",
    "\n",
    "Random.seed!(seed)\n",
    "\n",
    "R = 20\n",
    "abstol = 1e-4\n",
    "δ = 10.0 / 2^R # Peaks are wider than 1/2^R.\n",
    "grid = QD.DiscretizedGrid{1}(R, (0.0,), (1.0,))\n",
    "\n",
    "rindex = [rand(1:2, R) for _ in 1:100]\n",
    "\n",
    "f(bitlist) = any(bitlist .> 2) ? 0.0 : fx(QD.quantics_to_origcoord(grid, bitlist)[1])\n",
    "rpoint = Float64[QD.quantics_to_origcoord(grid, r)[1] for r in rindex]\n",
    "\n",
    "function fx(x)\n",
    "    # res = 0.5 * (exp(-10 * x) + exp(-x)) For this function, two-site update finds all the pivots!\n",
    "    res = exp(-10 * x)\n",
    "    for r in rpoint\n",
    "        res += abs(x - r) < δ ? 2 * abstol : 0.0\n",
    "    end\n",
    "    res\n",
    "end\n",
    "\n",
    "localdims = fill(2, R)\n",
    "firstpivot = ones(Int, R)\n",
    "tci, ranks, errors = crossinterpolate2(\n",
    "    Float64,\n",
    "    f,\n",
    "    localdims,\n",
    "    [firstpivot];\n",
    "    tolerance=abstol,\n",
    "    maxbonddim=1000,\n",
    "    maxiter=20,\n",
    "    loginterval=1,\n",
    "    verbosity=1,\n",
    "    normalizeerror=false,\n",
    "    pivotsearch=pivotsearch,\n",
    "    nsearchglobalpivot=0\n",
    ")"
   ]
  },
  {
   "cell_type": "code",
   "execution_count": 18,
   "metadata": {},
   "outputs": [],
   "source": [
    "#==\n",
    "@show sum(abs.([TCI.evaluate(tci, r) - f(r) for r in rindex]) .> abstol) == 0\n",
    "\n",
    "rindex_test = [rand(1:2, R) for _ in 1:100]\n",
    "\n",
    "@show sum(abs.([TCI.evaluate(tci, r) - f(r) for r in rindex_test]) .> abstol) == 0\n",
    "==#"
   ]
  },
  {
   "cell_type": "code",
   "execution_count": 19,
   "metadata": {},
   "outputs": [
    {
     "name": "stdout",
     "output_type": "stream",
     "text": [
      "    Computing Pi (2 x 202) at bond 1: 0.005940333000000001 sec, LU: 1.8500000000000002e-5 sec\n",
      "    Computing Pi (4 x 202) at bond 2: 0.009684042 sec, LU: 2.2791000000000003e-5 sec\n",
      "    Computing Pi (8 x 202) at bond 3: 0.018295375000000003 sec, LU: 3.55e-5 sec\n",
      "    Computing Pi (16 x 202) at bond 4: 0.038490125 sec, LU: 8.1333e-5 sec\n",
      "    Computing Pi (32 x 202) at bond 5: 0.072866083 sec, LU: 0.000218292 sec\n",
      "    Computing Pi (60 x 202) at bond 6: 0.14582166700000002 sec, LU: 0.000608666 sec\n",
      "    Computing Pi (100 x 202) at bond 7: 0.23077970800000003 sec, LU: 0.001445667 sec\n",
      "    Computing Pi (134 x 196) at bond 8: 0.304207875 sec, LU: 0.002841625 sec\n",
      "    Computing Pi (164 x 194) at bond 9: 0.5454979590000001 sec, LU: 0.00364175 sec\n",
      "    Computing Pi (182 x 176) at bond 10: 0.378462625 sec, LU: 0.0034240420000000004 sec\n",
      "    Computing Pi (188 x 162) at bond 11: 0.35548683400000003 sec, LU: 0.002676583 sec\n",
      "    Computing Pi (196 x 138) at bond 12: 0.303163625 sec, LU: 0.0022522500000000003 sec\n",
      "    Computing Pi (198 x 98) at bond 13: 0.229883041 sec, LU: 0.0018617920000000001 sec\n",
      "    Computing Pi (200 x 64) at bond 14: 0.14825358400000002 sec, LU: 0.000705125 sec\n",
      "    Computing Pi (200 x 32) at bond 15: 0.072412791 sec, LU: 0.00022491700000000002 sec\n",
      "    Computing Pi (202 x 16) at bond 16: 0.036828958 sec, LU: 0.00011266700000000001 sec\n",
      "    Computing Pi (202 x 8) at bond 17: 0.018651416 sec, LU: 3.7334000000000005e-5 sec\n",
      "    Computing Pi (202 x 4) at bond 18: 0.010104292 sec, LU: 1.1083e-5 sec\n",
      "    Computing Pi (202 x 2) at bond 19: 0.0051155 sec, LU: 1.2291000000000001e-5 sec\n",
      "    Computing Pi (804 x 2) at bond 19: 0.018880583000000003 sec, LU: 2.3042e-5 sec\n",
      "    Computing Pi (686 x 4) at bond 18: 0.031140667 sec, LU: 3.3083e-5 sec\n",
      "    Computing Pi (514 x 8) at bond 17: 0.046235709 sec, LU: 6.0041e-5 sec\n",
      "    Computing Pi (390 x 16) at bond 16: 0.070476334 sec, LU: 0.00012925 sec\n",
      "    Computing Pi (300 x 32) at bond 15: 0.119360375 sec, LU: 0.000335458 sec\n",
      "    Computing Pi (254 x 64) at bond 14: 0.198002709 sec, LU: 0.000939625 sec\n",
      "    Computing Pi (234 x 128) at bond 13: 0.417817708 sec, LU: 0.0032115000000000004 sec\n",
      "    Computing Pi (228 x 220) at bond 12: 0.577644292 sec, LU: 0.006291875000000001 sec\n",
      "    Computing Pi (210 x 328) at bond 11: 0.8308016250000001 sec, LU: 0.007437167000000001 sec\n",
      "    Computing Pi (200 x 470) at bond 10: 1.1327982920000002 sec, LU: 0.011067 sec\n",
      "    Computing Pi (172 x 616) at bond 9: 1.2181990420000002 sec, LU: 0.011356833 sec\n",
      "    Computing Pi (140 x 708) at bond 8: 1.1484929160000001 sec, LU: 0.009405584 sec\n",
      "    Computing Pi (104 x 792) at bond 7: 1.0177852920000001 sec, LU: 0.008476792 sec\n",
      "    Computing Pi (62 x 860) at bond 6: 0.664359417 sec, LU: 0.0029360830000000004 sec\n",
      "    Computing Pi (32 x 892) at bond 5: 0.438909625 sec, LU: 0.001141 sec\n",
      "    Computing Pi (16 x 912) at bond 4: 0.189780417 sec, LU: 0.000348083 sec\n",
      "    Computing Pi (8 x 930) at bond 3: 0.098931666 sec, LU: 0.000124167 sec\n",
      "    Computing Pi (4 x 932) at bond 2: 0.047359625 sec, LU: 5.55e-5 sec\n",
      "    Computing Pi (2 x 934) at bond 1: 0.024704167000000003 sec, LU: 3.0250000000000003e-5 sec\n"
     ]
    }
   ],
   "source": [
    "TCI.addglobalpivots2sitesweep!(tci, f, rindex; fillsitetensors=false, verbosity=4)"
   ]
  },
  {
   "cell_type": "code",
   "execution_count": 20,
   "metadata": {},
   "outputs": [
    {
     "name": "stdout",
     "output_type": "stream",
     "text": [
      "(length(TCI.Iset(tci, b + 1)), length(TCI.Jset(tci, b))) = (2, 746)\n",
      "(length(TCI.Iset(tci, b + 1)), length(TCI.Jset(tci, b))) = (4, 745)\n",
      "(length(TCI.Iset(tci, b + 1)), length(TCI.Jset(tci, b))) = (8, 743)\n",
      "(length(TCI.Iset(tci, b + 1)), length(TCI.Jset(tci, b))) = (16, 738)\n",
      "(length(TCI.Iset(tci, b + 1)), length(TCI.Jset(tci, b))) = (31, 720)\n",
      "(length(TCI.Iset(tci, b + 1)), length(TCI.Jset(tci, b))) = (52, 704)\n",
      "(length(TCI.Iset(tci, b + 1)), length(TCI.Jset(tci, b))) = (71, 671)\n",
      "(length(TCI.Iset(tci, b + 1)), length(TCI.Jset(tci, b))) = (87, 600)\n",
      "(length(TCI.Iset(tci, b + 1)), length(TCI.Jset(tci, b))) = (103, 521)\n",
      "(length(TCI.Iset(tci, b + 1)), length(TCI.Jset(tci, b))) = (110, 440)\n",
      "(length(TCI.Iset(tci, b + 1)), length(TCI.Jset(tci, b))) = (122, 318)\n",
      "(length(TCI.Iset(tci, b + 1)), length(TCI.Jset(tci, b))) = (126, 204)\n",
      "(length(TCI.Iset(tci, b + 1)), length(TCI.Jset(tci, b))) = (139, 120)\n",
      "(length(TCI.Iset(tci, b + 1)), length(TCI.Jset(tci, b))) = (172, 64)\n",
      "(length(TCI.Iset(tci, b + 1)), length(TCI.Jset(tci, b))) = (229, 32)\n",
      "(length(TCI.Iset(tci, b + 1)), length(TCI.Jset(tci, b))) = (321, 16)\n",
      "(length(TCI.Iset(tci, b + 1)), length(TCI.Jset(tci, b))) = (438, 8)\n",
      "(length(TCI.Iset(tci, b + 1)), length(TCI.Jset(tci, b))) = (566, 4)\n",
      "(length(TCI.Iset(tci, b + 1)), length(TCI.Jset(tci, b))) = (657, 2)\n"
     ]
    }
   ],
   "source": [
    "for b in 1:length(tci)-1\n",
    "    @show length(TCI.Iset(tci, b+1)), length(TCI.Jset(tci, b))\n",
    "end"
   ]
  },
  {
   "cell_type": "code",
   "execution_count": 21,
   "metadata": {},
   "outputs": [
    {
     "data": {
      "text/plain": [
       "19-element Vector{Int64}:\n",
       "   2\n",
       "   4\n",
       "   8\n",
       "  16\n",
       "  31\n",
       "  52\n",
       "  71\n",
       "  87\n",
       " 103\n",
       " 110\n",
       " 122\n",
       " 126\n",
       " 120\n",
       "  64\n",
       "  32\n",
       "  16\n",
       "   8\n",
       "   4\n",
       "   2"
      ]
     },
     "metadata": {},
     "output_type": "display_data"
    }
   ],
   "source": [
    "TCI.linkdims(tci)"
   ]
  },
  {
   "cell_type": "code",
   "execution_count": 22,
   "metadata": {},
   "outputs": [],
   "source": [
    "TCI.fillsitetensors!(tci, f)"
   ]
  },
  {
   "cell_type": "code",
   "execution_count": 23,
   "metadata": {},
   "outputs": [
    {
     "data": {
      "text/plain": [
       "746"
      ]
     },
     "metadata": {},
     "output_type": "display_data"
    }
   ],
   "source": [
    "length(tci.globalpivots)"
   ]
  },
  {
   "cell_type": "code",
   "execution_count": 25,
   "metadata": {},
   "outputs": [
    {
     "name": "stdout",
     "output_type": "stream",
     "text": [
      "TCI.linkdims(tt) = [2, 4, 8, 16, 31, 51, 68, 82, 91, 93, 90, 85, 79, 60, 32, 16, 8, 4, 2]\n",
      "TCI.linkdims(tt) = [2, 4, 8, 16, 31, 51, 68, 82, 91, 93, 90, 85, 79, 60, 32, 16, 8, 4, 2]\n"
     ]
    },
    {
     "data": {
      "text/plain": [
       "19-element Vector{Int64}:\n",
       "  2\n",
       "  4\n",
       "  8\n",
       " 16\n",
       " 31\n",
       " 51\n",
       " 68\n",
       " 82\n",
       " 91\n",
       " 93\n",
       " 90\n",
       " 85\n",
       " 79\n",
       " 60\n",
       " 32\n",
       " 16\n",
       "  8\n",
       "  4\n",
       "  2"
      ]
     },
     "metadata": {},
     "output_type": "display_data"
    }
   ],
   "source": [
    "tt = TCI.TensorTrain(tci)\n",
    "@show TCI.linkdims(tt)\n",
    "TCI.compress!(tt, :SVD; tolerance=1e-14)\n",
    "@show TCI.linkdims(tt)"
   ]
  },
  {
   "cell_type": "code",
   "execution_count": 26,
   "metadata": {},
   "outputs": [
    {
     "data": {
      "text/plain": [
       "\u001b[32m\u001b[1mTest Passed\u001b[22m\u001b[39m"
      ]
     },
     "metadata": {},
     "output_type": "display_data"
    }
   ],
   "source": [
    "@test sum(abs.([TCI.evaluate(tci, r) - f(r) for r in rindex]) .> abstol) == 0\n",
    "\n",
    "rindex_test = [rand(1:2, R) for _ in 1:100]\n",
    "\n",
    "@test sum(abs.([TCI.evaluate(tci, r) - f(r) for r in rindex_test]) .> abstol) == 0"
   ]
  },
  {
   "cell_type": "code",
   "execution_count": 12,
   "metadata": {},
   "outputs": [],
   "source": []
  },
  {
   "cell_type": "code",
   "execution_count": 13,
   "metadata": {},
   "outputs": [],
   "source": []
  }
 ],
 "metadata": {
  "kernelspec": {
   "display_name": "Julia 1.10.4",
   "language": "julia",
   "name": "julia-1.10"
  },
  "language_info": {
   "file_extension": ".jl",
   "mimetype": "application/julia",
   "name": "julia",
   "version": "1.10.4"
  },
  "orig_nbformat": 4
 },
 "nbformat": 4,
 "nbformat_minor": 2
}
