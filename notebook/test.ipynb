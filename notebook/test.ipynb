{
 "cells": [
  {
   "cell_type": "code",
   "execution_count": 1,
   "metadata": {},
   "outputs": [],
   "source": [
    "using Revise\n",
    "\n",
    "using Test\n",
    "import TensorCrossInterpolation as TCI\n",
    "import Random"
   ]
  },
  {
   "cell_type": "code",
   "execution_count": null,
   "metadata": {},
   "outputs": [],
   "source": [
    "using Test\n",
    "import TensorCrossInterpolation as TCI\n",
    "import TensorCrossInterpolation: rank, linkdims, TensorCI2, updatepivots!, addglobalpivots1sitesweep!, MultiIndex, evaluate, crossinterpolate2, pivoterror, tensortrain\n",
    "import Random\n",
    "import QuanticsGrids as QD"
   ]
  },
  {
   "cell_type": "code",
   "execution_count": null,
   "metadata": {},
   "outputs": [],
   "source": [
    "import TensorCrossInterpolation as TCI\n",
    "using TensorCrossInterpolation\n",
    "using Random\n",
    "using Test"
   ]
  },
  {
   "cell_type": "code",
   "execution_count": null,
   "metadata": {},
   "outputs": [],
   "source": [
    "pivotsearch = :full\n",
    "seed = 123\n",
    "strictlynested = false\n",
    "\n",
    "Random.seed!(seed)\n",
    "\n",
    "R = 20\n",
    "abstol = 1e-4\n",
    "δ = 10.0 / 2^R # Peaks are wider than 1/2^R.\n",
    "grid = QD.DiscretizedGrid{1}(R, (0.0,), (1.0,))\n",
    "\n",
    "rindex = [rand(1:2, R) for _ in 1:10]\n",
    "\n",
    "f(bitlist) = any(bitlist .> 2) ? 0.0 : fx(QD.quantics_to_origcoord(grid, bitlist)[1])\n",
    "rpoint = Float64[QD.quantics_to_origcoord(grid, r)[1] for r in rindex]\n",
    "\n",
    "function fx(x)\n",
    "    res = exp(-10 * x) + 1.0/(x+1.0)\n",
    "    for r in rpoint\n",
    "        res += abs(x - r) < δ ? 2 * abstol : 0.0\n",
    "    end\n",
    "    res\n",
    "end\n",
    "\n",
    "localdims = fill(2, R)\n",
    "firstpivot = ones(Int, R)\n",
    "tci, ranks, errors = crossinterpolate2(\n",
    "    Float64,\n",
    "    f,\n",
    "    localdims,\n",
    "    [firstpivot];\n",
    "    tolerance=abstol,\n",
    "    maxbonddim=1000,\n",
    "    maxiter=20,\n",
    "    loginterval=1,\n",
    "    verbosity=1,\n",
    "    normalizeerror=false,\n",
    "    pivotsearch=pivotsearch,\n",
    "    nsearchglobalpivot=0\n",
    ")"
   ]
  },
  {
   "cell_type": "code",
   "execution_count": null,
   "metadata": {},
   "outputs": [],
   "source": [
    "TCI.addglobalpivots2sitesweep!(tci, f, rindex; fillsitetensors=false, verbosity=4)"
   ]
  },
  {
   "cell_type": "code",
   "execution_count": null,
   "metadata": {},
   "outputs": [],
   "source": [
    "for b in 1:length(tci)-1\n",
    "    @show length(tci.Iset[b+1]), length(tci.Jset[b])\n",
    "end"
   ]
  },
  {
   "cell_type": "code",
   "execution_count": null,
   "metadata": {},
   "outputs": [],
   "source": [
    "TCI.fillsitetensors!(tci, f)"
   ]
  },
  {
   "cell_type": "code",
   "execution_count": null,
   "metadata": {},
   "outputs": [],
   "source": [
    "length(tci.globalpivots)"
   ]
  },
  {
   "cell_type": "code",
   "execution_count": null,
   "metadata": {},
   "outputs": [],
   "source": [
    "tt = TCI.TensorTrain(tci)\n",
    "@show TCI.linkdims(tt)\n",
    "TCI.compress!(tt, :SVD; tolerance=1e-14)\n",
    "@show TCI.linkdims(tt)"
   ]
  },
  {
   "cell_type": "code",
   "execution_count": null,
   "metadata": {},
   "outputs": [],
   "source": [
    "@test sum(abs.([TCI.evaluate(tci, r) - f(r) for r in rindex]) .> abstol) == 0\n",
    "\n",
    "rindex_test = [rand(1:2, R) for _ in 1:100]\n",
    "\n",
    "@test sum(abs.([TCI.evaluate(tci, r) - f(r) for r in rindex_test]) .> abstol) == 0"
   ]
  },
  {
   "cell_type": "code",
   "execution_count": null,
   "metadata": {},
   "outputs": [],
   "source": []
  }
 ],
 "metadata": {
  "kernelspec": {
   "display_name": "Julia 1.10.4",
   "language": "julia",
   "name": "julia-1.10"
  },
  "language_info": {
   "file_extension": ".jl",
   "mimetype": "application/julia",
   "name": "julia",
   "version": "1.10.4"
  },
  "orig_nbformat": 4
 },
 "nbformat": 4,
 "nbformat_minor": 2
}
