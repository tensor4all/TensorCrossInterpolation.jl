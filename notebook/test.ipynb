{
 "cells": [
  {
   "cell_type": "code",
   "execution_count": 1,
   "metadata": {},
   "outputs": [],
   "source": [
    "using Revise\n",
    "\n",
    "using Test\n",
    "import TensorCrossInterpolation as TCI\n",
    "import Random"
   ]
  },
  {
   "cell_type": "code",
   "execution_count": 2,
   "metadata": {},
   "outputs": [
    {
     "name": "stderr",
     "output_type": "stream",
     "text": [
      "WARNING: could not import TensorCrossInterpolation.addglobalpivots1sitesweep! into Main\n"
     ]
    }
   ],
   "source": [
    "using Test\n",
    "import TensorCrossInterpolation as TCI\n",
    "import TensorCrossInterpolation: rank, linkdims, TensorCI2, updatepivots!, addglobalpivots1sitesweep!, MultiIndex, evaluate, crossinterpolate2, pivoterror, tensortrain\n",
    "import Random\n",
    "import QuanticsGrids as QD"
   ]
  },
  {
   "cell_type": "code",
   "execution_count": 3,
   "metadata": {},
   "outputs": [],
   "source": [
    "import TensorCrossInterpolation as TCI\n",
    "using TensorCrossInterpolation\n",
    "using Random\n",
    "using Test"
   ]
  },
  {
   "cell_type": "code",
   "execution_count": 28,
   "metadata": {},
   "outputs": [
    {
     "ename": "MethodError",
     "evalue": "MethodError: no method matching sweep2site!(::TensorCI2{Float64}, ::typeof(f), ::Int64; iter1::Int64, abstol::Float64, maxbonddim::Int64, pivotsearch::Symbol, strictlynested::Bool, verbosity::Int64, sweepstrategy::Symbol, fillsitetensors::Bool)\n\nClosest candidates are:\n  sweep2site!(::TensorCI2{ValueType}, ::Any, ::Int64; iter1, abstol, maxbonddim, sweepstrategy, pivotsearch, verbosity, fillsitetensors) where ValueType got unsupported keyword argument \"strictlynested\"\n   @ TensorCrossInterpolation ~/git/TensorCrossInterpolation.jl/src/tensorci2.jl:808\n",
     "output_type": "error",
     "traceback": [
      "MethodError: no method matching sweep2site!(::TensorCI2{Float64}, ::typeof(f), ::Int64; iter1::Int64, abstol::Float64, maxbonddim::Int64, pivotsearch::Symbol, strictlynested::Bool, verbosity::Int64, sweepstrategy::Symbol, fillsitetensors::Bool)\n",
      "\n",
      "Closest candidates are:\n",
      "  sweep2site!(::TensorCI2{ValueType}, ::Any, ::Int64; iter1, abstol, maxbonddim, sweepstrategy, pivotsearch, verbosity, fillsitetensors) where ValueType got unsupported keyword argument \"strictlynested\"\n",
      "   @ TensorCrossInterpolation ~/git/TensorCrossInterpolation.jl/src/tensorci2.jl:808\n",
      "\n",
      "\n",
      "Stacktrace:\n",
      " [1] kwerr(::@NamedTuple{iter1::Int64, abstol::Float64, maxbonddim::Int64, pivotsearch::Symbol, strictlynested::Bool, verbosity::Int64, sweepstrategy::Symbol, fillsitetensors::Bool}, ::Function, ::Function, ::Function, ::Int64)\n",
      "   @ Base ./error.jl:165\n",
      " [2] optimize!(tci::TensorCI2{Float64}, f::typeof(f); tolerance::Float64, pivottolerance::Float64, maxbonddim::Int64, maxiter::Int64, sweepstrategy::Symbol, pivotsearch::Symbol, verbosity::Int64, loginterval::Int64, normalizeerror::Bool, ncheckhistory::Int64, maxnglobalpivot::Int64, nsearchglobalpivot::Int64, tolmarginglobalsearch::Float64, strictlynested::Bool, checkbatchevaluatable::Bool)\n",
      "   @ TensorCrossInterpolation ~/git/TensorCrossInterpolation.jl/src/tensorci2.jl:731\n",
      " [3] crossinterpolate2(::Type{Float64}, f::Function, localdims::Vector{Int64}, initialpivots::Vector{Vector{Int64}}; kwargs::@Kwargs{tolerance::Float64, maxbonddim::Int64, maxiter::Int64, loginterval::Int64, verbosity::Int64, normalizeerror::Bool, pivotsearch::Symbol})\n",
      "   @ TensorCrossInterpolation ~/git/TensorCrossInterpolation.jl/src/tensorci2.jl:938\n",
      " [4] top-level scope\n",
      "   @ ~/git/TensorCrossInterpolation.jl/notebook/jl_notebook_cell_df34fa98e69747e1a8f8a730347b8e2f_W3sZmlsZQ==.jl:27"
     ]
    }
   ],
   "source": [
    "pivotsearch = :full\n",
    "seed = 123\n",
    "strictlynested = false\n",
    "\n",
    "Random.seed!(seed)\n",
    "\n",
    "R = 20\n",
    "abstol = 1e-4\n",
    "δ = 10.0 / 2^R # Peaks are wider than 1/2^R.\n",
    "grid = QD.DiscretizedGrid{1}(R, (0.0,), (1.0,))\n",
    "\n",
    "rindex = [rand(1:2, R) for _ in 1:100]\n",
    "\n",
    "f(bitlist) = any(bitlist .> 2) ? 0.0 : fx(QD.quantics_to_origcoord(grid, bitlist)[1])\n",
    "rpoint = Float64[QD.quantics_to_origcoord(grid, r)[1] for r in rindex]\n",
    "\n",
    "function fx(x)\n",
    "    res = exp(-10 * x)\n",
    "    for r in rpoint\n",
    "        res += abs(x - r) < δ ? 2 * abstol : 0.0\n",
    "    end\n",
    "    res\n",
    "end\n",
    "\n",
    "localdims = fill(2, R)\n",
    "firstpivot = ones(Int, R)\n",
    "tci, ranks, errors = crossinterpolate2(\n",
    "    Float64,\n",
    "    f,\n",
    "    localdims,\n",
    "    [firstpivot];\n",
    "    tolerance=abstol,\n",
    "    maxbonddim=1000,\n",
    "    maxiter=20,\n",
    "    loginterval=1,\n",
    "    verbosity=0,\n",
    "    normalizeerror=false,\n",
    "    pivotsearch=pivotsearch,\n",
    ")"
   ]
  },
  {
   "cell_type": "code",
   "execution_count": 24,
   "metadata": {},
   "outputs": [],
   "source": [
    "TCI.addglobalpivots2sitesweep!(tci, f, rindex; fillsitetensors=false)\n",
    "#TCI.sweep2site!(tci, f, 2; abstol=abstol)"
   ]
  },
  {
   "cell_type": "code",
   "execution_count": 25,
   "metadata": {},
   "outputs": [],
   "source": [
    "TCI.fillsitetensors!(tci, f)"
   ]
  },
  {
   "cell_type": "code",
   "execution_count": 26,
   "metadata": {},
   "outputs": [
    {
     "data": {
      "text/plain": [
       "\u001b[32m\u001b[1mTest Passed\u001b[22m\u001b[39m"
      ]
     },
     "metadata": {},
     "output_type": "display_data"
    }
   ],
   "source": [
    "@test sum(abs.([TCI.evaluate(tci, r) - f(r) for r in rindex]) .> abstol) == 0\n",
    "\n",
    "rindex_test = [rand(1:2, R) for _ in 1:100]\n",
    "\n",
    "@test sum(abs.([TCI.evaluate(tci, r) - f(r) for r in rindex_test]) .> abstol) == 0"
   ]
  },
  {
   "cell_type": "code",
   "execution_count": null,
   "metadata": {},
   "outputs": [],
   "source": []
  }
 ],
 "metadata": {
  "kernelspec": {
   "display_name": "Julia 1.10.4",
   "language": "julia",
   "name": "julia-1.10"
  },
  "language_info": {
   "file_extension": ".jl",
   "mimetype": "application/julia",
   "name": "julia",
   "version": "1.10.4"
  },
  "orig_nbformat": 4
 },
 "nbformat": 4,
 "nbformat_minor": 2
}
