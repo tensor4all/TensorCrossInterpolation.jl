{
 "cells": [
  {
   "cell_type": "code",
   "execution_count": 3,
   "metadata": {},
   "outputs": [],
   "source": [
    "using Revise\n",
    "\n",
    "using Test\n",
    "import TensorCrossInterpolation as TCI\n",
    "import Random"
   ]
  },
  {
   "cell_type": "code",
   "execution_count": 4,
   "metadata": {},
   "outputs": [],
   "source": [
    "using Test\n",
    "import TensorCrossInterpolation as TCI\n",
    "import TensorCrossInterpolation: rank, linkdims, TensorCI2, MultiIndex, evaluate, crossinterpolate2, pivoterror, tensortrain\n",
    "import Random\n",
    "import QuanticsGrids as QD"
   ]
  },
  {
   "cell_type": "code",
   "execution_count": 5,
   "metadata": {},
   "outputs": [
    {
     "data": {
      "text/plain": [
       "14"
      ]
     },
     "metadata": {},
     "output_type": "display_data"
    }
   ],
   "source": [
    "import TensorCrossInterpolation as TCI\n",
    "using TensorCrossInterpolation\n",
    "using Random\n",
    "using Test\n",
    "using ITensors\n",
    "ITensors.disable_warn_order()"
   ]
  },
  {
   "cell_type": "code",
   "execution_count": 7,
   "metadata": {},
   "outputs": [
    {
     "name": "stdout",
     "output_type": "stream",
     "text": [
      "iteration = 1, rank = 2, error= 7.560125703354181e-6, maxsamplevalue= 7.69618831338151, nglobalpivot=0\n",
      "iteration = 2, rank = 5, error= 7.585593870789299e-6, maxsamplevalue= 7.69618831338151, nglobalpivot=0\n",
      "iteration = 3, rank = 5, error= 9.765775984938753e-6, maxsamplevalue= 7.69618831338151, nglobalpivot=0\n",
      "iteration = 4, rank = 5, error= 7.560125665939665e-6, maxsamplevalue= 7.69618831338151, nglobalpivot=0\n",
      "abstol = 1.0e-5\n"
     ]
    },
    {
     "data": {
      "text/plain": [
       "1.0e-5"
      ]
     },
     "metadata": {},
     "output_type": "display_data"
    }
   ],
   "source": [
    "pivotsearch = :full\n",
    "seed = 124\n",
    "\n",
    "Random.seed!(seed)\n",
    "\n",
    "R = 30\n",
    "abstol = 1e-5\n",
    "grid = QD.DiscretizedGrid{1}(R, (0.0,), (1.0,))\n",
    "\n",
    "f(bitlist) = fx(QD.quantics_to_origcoord(grid, bitlist)[1])\n",
    "\n",
    "B = 2^(-30) # global variable\n",
    "\n",
    "nc = 1000\n",
    "coeffs = [randn() for _ in 1:nc]\n",
    "exps = 10 .* rand(nc)\n",
    "\n",
    "function fx(x)\n",
    "    sum(c * exp(- e * x^2) for (c, e) in zip(coeffs, exps))\n",
    "end\n",
    "\n",
    "localdims = fill(2, R)\n",
    "firstpivot = ones(Int, R)\n",
    "tci, ranks, errors = crossinterpolate2(\n",
    "    Float64,\n",
    "    f,\n",
    "    localdims,\n",
    "    [firstpivot];\n",
    "    tolerance=abstol,\n",
    "    maxbonddim=1000,\n",
    "    maxiter=20,\n",
    "    loginterval=1,\n",
    "    verbosity=1,\n",
    "    normalizeerror=false,\n",
    "    pivotsearch=pivotsearch,\n",
    ")\n",
    "@show abstol"
   ]
  },
  {
   "cell_type": "code",
   "execution_count": 9,
   "metadata": {},
   "outputs": [
    {
     "name": "stdout",
     "output_type": "stream",
     "text": [
      "Orthocenter: 1\n",
      "TCI.linkdims(tt) = [2, 4, 5, 5, 4, 4, 3, 3, 3, 3, 2, 2, 2, 2, 2, 2, 2, 2, 2, 2, 1, 1, 1, 1, 1, 1, 1, 1, 1]\n",
      "Error on pivots:\n",
      "1    4.5845932383770105e-7 false\n",
      "2    8.187634650269615e-7 false\n",
      "3    8.187634650269615e-7 false\n",
      "4    1.2965773361628408e-6 false\n",
      "5    1.0932180414258141e-6 false\n",
      "6    6.638858307539408e-7 false\n",
      "7    9.031265246761677e-8 false\n",
      "8    2.5303198922799197e-6 false\n",
      "9    1.6200759400675224e-6 false\n",
      "10    6.191414794187722e-7 false\n",
      "11    8.855831734599917e-8 false\n",
      "12    8.858004818534937e-8 false\n",
      "13    8.858809763534481e-8 false\n",
      "14    8.859172950792527e-8 false\n",
      "15    8.85935121930359e-8 false\n",
      "16    8.859439371011746e-8 false\n",
      "17    8.859480304934664e-8 false\n",
      "18    1.7208456881689926e-14 false\n",
      "19    1.7208456881689926e-14 false\n",
      "20    1.7208456881689926e-14 false\n",
      "21    4.440892098500626e-15 false\n",
      "22    4.440892098500626e-15 false\n",
      "23    4.440892098500626e-15 false\n",
      "24    4.440892098500626e-15 false\n",
      "25    4.440892098500626e-15 false\n",
      "26    4.440892098500626e-15 false\n",
      "27    4.440892098500626e-15 false\n",
      "28    4.440892098500626e-15 false\n",
      "29    4.440892098500626e-15 false\n",
      "Error on T:\n",
      "1    4.5845932383770105e-7 false\n",
      "2    8.187634650269615e-7 false\n",
      "3    8.187634650269615e-7 false\n",
      "4    1.2965773361628408e-6 false\n",
      "5    1.0932180414258141e-6 false\n",
      "6    6.638858307539408e-7 false\n",
      "7    9.031265246761677e-8 false\n",
      "8    2.5303198922799197e-6 false\n",
      "9    1.620133947000113e-6 false\n",
      "10    6.191933978882957e-7 false\n",
      "11    8.855831734599917e-8 false\n",
      "12    8.858004818534937e-8 false\n",
      "13    8.858809763534481e-8 false\n",
      "14    8.859172950792527e-8 false\n",
      "15    8.85935121930359e-8 false\n",
      "16    8.859439371011746e-8 false\n",
      "17    8.859480304934664e-8 false\n",
      "18    1.7208456881689926e-14 false\n",
      "19    1.8762769116165146e-14 false\n",
      "20    1.7208456881689926e-14 false\n",
      "21    1.7208456881689926e-14 false\n",
      "22    4.440892098500626e-15 false\n",
      "23    4.440892098500626e-15 false\n",
      "24    4.440892098500626e-15 false\n",
      "25    4.440892098500626e-15 false\n",
      "26    4.440892098500626e-15 false\n",
      "27    4.440892098500626e-15 false\n",
      "28    4.440892098500626e-15 false\n",
      "29    6.217248937900877e-15 false\n",
      "Error on Π:\n",
      "1    8.187634650269615e-7 false\n",
      "2    8.187634650269615e-7 false\n",
      "3    1.5809761642060494e-6 false\n",
      "4    1.1349379143155147e-6 false\n",
      "5    8.471487449313031e-7 false\n",
      "6    9.063060286279567e-8 false\n",
      "7    2.5303198922799197e-6 false\n",
      "8    1.620518684575245e-6 false\n",
      "9    6.192674231186857e-7 false\n",
      "10    8.855831734599917e-8 false\n",
      "11    2.5479040122178276e-6 false\n",
      "12    8.858809763534481e-8 false\n",
      "13    8.859172950792527e-8 false\n",
      "14    8.85935121930359e-8 false\n",
      "15    8.859439371011746e-8 false\n",
      "16    8.859480304934664e-8 false\n",
      "17    1.8762769116165146e-14 false\n",
      "18    3.9968028886505635e-14 false\n",
      "19    4.107825191113079e-14 false\n",
      "20    1.7208456881689926e-14 false\n",
      "21    7.560125649064275e-6 false\n",
      "22    5.272227099339943e-12 false\n",
      "23    1.2718714970105793e-12 false\n",
      "24    2.682298827494378e-13 false\n",
      "25    8.43769498715119e-14 false\n",
      "26    4.440892098500626e-15 false\n",
      "27    8.881784197001252e-15 false\n",
      "28    1.4210854715202004e-14 false\n",
      "29    1.3322676295501878e-14 false\n"
     ]
    }
   ],
   "source": [
    "#for orthocenter in [1, length(tci), length(tci) ÷ 2]\n",
    "for orthocenter in [1]\n",
    "    tt = TCI.TensorTrain(TCI.sitetensors(tci, f))\n",
    "    TCI.compress!(tt, :SVD; tolerance=1e-8)\n",
    "    println(\"Orthocenter: \", orthocenter)\n",
    "    @show TCI.linkdims(tt)\n",
    "    println(\"Error on pivots:\")\n",
    "    for b in 1:length(tci)-1\n",
    "        Iset = TCI.Iset(tci, b+1)\n",
    "        Jset = TCI.Jset(tci, b)\n",
    "        diff = maximum(abs, [TCI.evaluate(tt, vcat(i, j)) - f(vcat(i, j)) for i in Iset, j in Jset])\n",
    "        println(b, \"    \", diff, \" \", diff > abstol)\n",
    "    end\n",
    "    println(\"Error on T:\")\n",
    "    for l in 1:length(tci)-1\n",
    "        diff = [TCI.evaluate(tt, vcat(i, m, j)) - f(vcat(i, m, j)) for i in TCI.Iset(tci, l), j in TCI.Jset(tci, l), m in 1:localdims[l]]\n",
    "        println(l, \"    \", maximum(abs, diff), \" \", maximum(abs, diff) > abstol)\n",
    "    end\n",
    "\n",
    "    println(\"Error on Π:\")\n",
    "    for b in 1:length(tci)-1\n",
    "        Iset_b = TCI.Iset(tci, b)\n",
    "        Jset_bp1 = TCI.Jset(tci, b+1)\n",
    "        diff = [\n",
    "            TCI.evaluate(tt, vcat(i, i1, i2, j)) - f(vcat(i, i1, i2, j)) for i in Iset_b, j in Jset_bp1, i1 in 1:localdims[b], i2 in 1:localdims[b+1]]\n",
    "        println(b, \"    \", maximum(abs, diff), \" \", maximum(abs, diff) > abstol)\n",
    "    end\n",
    "end"
   ]
  },
  {
   "cell_type": "code",
   "execution_count": null,
   "metadata": {},
   "outputs": [],
   "source": [
    "tt = TCI.TensorTrain(TCI.sitetensors(tci, f))\n",
    "tt_old = TCI.TensorTrain(TCI.sitetensors_site0update(tci, f))\n",
    "\n",
    "@show TCI.linkdims(tt)\n",
    "@show TCI.linkdims(tt_old)"
   ]
  },
  {
   "cell_type": "code",
   "execution_count": null,
   "metadata": {},
   "outputs": [],
   "source": [
    "for l in 1:length(tci)\n",
    "    Iset = TCI.Iset(tci, l)\n",
    "    Jset = TCI.Jset(tci, l)\n",
    "    println(l, \"    \", maximum(abs, [TCI.evaluate(tt, vcat(i, l, j)) - f(vcat(i, l, j)) for i in Iset, j in Jset, l in 1:localdims[l]]))\n",
    "end"
   ]
  },
  {
   "cell_type": "code",
   "execution_count": null,
   "metadata": {},
   "outputs": [],
   "source": [
    "maximum([abs(TCI.evaluate(tt, p) - f(p)) for p in tci.globalpivots])"
   ]
  },
  {
   "cell_type": "code",
   "execution_count": null,
   "metadata": {},
   "outputs": [],
   "source": [
    "for b in 1:length(tci)-1\n",
    "    Iset = TCI.Iset(tci, b+1)\n",
    "    Jset = TCI.Jset(tci, b)\n",
    "    println(b, \"    \", maximum(abs, [TCI.evaluate(tt_old, vcat(i, j)) - f(vcat(i, j)) for i in Iset, j in Jset]))\n",
    "end\n",
    "\n",
    "maximum([abs(TCI.evaluate(tt_old, p) - f(p)) for p in tci.globalpivots])"
   ]
  },
  {
   "cell_type": "code",
   "execution_count": null,
   "metadata": {},
   "outputs": [],
   "source": [
    "using Plots\n",
    "\n",
    "p = plot(ylims=(0, 2))\n",
    "b = 5\n",
    "plot!(p, sort(vec(abs.(tt[b]))))\n",
    "plot!(p, sort(vec(abs.(tt_old[b]))))"
   ]
  },
  {
   "cell_type": "code",
   "execution_count": null,
   "metadata": {},
   "outputs": [],
   "source": [
    "length(tci.globalpivots)"
   ]
  },
  {
   "cell_type": "code",
   "execution_count": null,
   "metadata": {},
   "outputs": [],
   "source": []
  }
 ],
 "metadata": {
  "kernelspec": {
   "display_name": "Julia 1.10.4",
   "language": "julia",
   "name": "julia-1.10"
  },
  "language_info": {
   "file_extension": ".jl",
   "mimetype": "application/julia",
   "name": "julia",
   "version": "1.10.4"
  },
  "orig_nbformat": 4
 },
 "nbformat": 4,
 "nbformat_minor": 2
}
