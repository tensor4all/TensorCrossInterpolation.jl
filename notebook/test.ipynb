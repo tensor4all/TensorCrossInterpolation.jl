{
 "cells": [
  {
   "cell_type": "code",
   "execution_count": 1,
   "metadata": {},
   "outputs": [],
   "source": [
    "using Revise\n",
    "\n",
    "using Test\n",
    "import TensorCrossInterpolation as TCI\n",
    "import Random"
   ]
  },
  {
   "cell_type": "code",
   "execution_count": 2,
   "metadata": {},
   "outputs": [],
   "source": [
    "using Test\n",
    "import TensorCrossInterpolation as TCI\n",
    "import TensorCrossInterpolation: rank, linkdims, TensorCI2, MultiIndex, evaluate, crossinterpolate2, pivoterror, tensortrain\n",
    "import Random\n",
    "import QuanticsGrids as QD"
   ]
  },
  {
   "cell_type": "code",
   "execution_count": 3,
   "metadata": {},
   "outputs": [
    {
     "data": {
      "text/plain": [
       "14"
      ]
     },
     "metadata": {},
     "output_type": "display_data"
    }
   ],
   "source": [
    "import TensorCrossInterpolation as TCI\n",
    "using TensorCrossInterpolation\n",
    "using Random\n",
    "using Test\n",
    "using ITensors\n",
    "ITensors.disable_warn_order()"
   ]
  },
  {
   "cell_type": "code",
   "execution_count": 4,
   "metadata": {},
   "outputs": [
    {
     "name": "stdout",
     "output_type": "stream",
     "text": [
      "(bondindex, length(Iset)) = (1, 2)\n",
      "(bondindex, length(Iset)) = (2, 1)\n",
      "(bondindex, length(Iset)) = (3, 2)\n",
      "(bondindex, length(Iset)) = (4, 2)\n",
      "(bondindex, length(Iset)) = (5, 2)\n",
      "(bondindex, length(Iset)) = (6, 2)\n",
      "(bondindex, length(Iset)) = (7, 2)\n",
      "(bondindex, length(Iset)) = (8, 2)\n",
      "(bondindex, length(Iset)) = (9, 2)\n",
      "iteration = 1, rank = 12, error= 0.0007598560883149983, maxsamplevalue= 0.34207792474744125, nglobalpivot=0\n",
      "(bondindex, length(Iset)) = (1, 2)\n",
      "(bondindex, length(Iset)) = (2, 4)\n",
      "(bondindex, length(Iset)) = (3, 6)\n",
      "(bondindex, length(Iset)) = (4, 8)\n",
      "(bondindex, length(Iset)) = (5, 10)\n",
      "(bondindex, length(Iset)) = (6, 10)\n",
      "(bondindex, length(Iset)) = (7, 6)\n",
      "(bondindex, length(Iset)) = (8, 4)\n",
      "(bondindex, length(Iset)) = (9, 2)\n",
      "iteration = 2, rank = 37, error= 0.0, maxsamplevalue= 0.7670697949072186, nglobalpivot=0\n",
      "(bondindex, length(Iset)) = (1, 2)\n",
      "(bondindex, length(Iset)) = (2, 4)\n",
      "(bondindex, length(Iset)) = (3, 8)\n",
      "(bondindex, length(Iset)) = (4, 14)\n",
      "(bondindex, length(Iset)) = (5, 20)\n",
      "(bondindex, length(Iset)) = (6, 14)\n",
      "(bondindex, length(Iset)) = (7, 8)\n",
      "(bondindex, length(Iset)) = (8, 4)\n",
      "(bondindex, length(Iset)) = (9, 2)\n",
      "iteration = 3, rank = 52, error= 0.008107596562193382, maxsamplevalue= 1.0, nglobalpivot=0\n",
      "(bondindex, length(Iset)) = (1, 2)\n",
      "(bondindex, length(Iset)) = (2, 4)\n",
      "(bondindex, length(Iset)) = (3, 8)\n",
      "(bondindex, length(Iset)) = (4, 16)\n",
      "(bondindex, length(Iset)) = (5, 25)\n",
      "(bondindex, length(Iset)) = (6, 16)\n",
      "(bondindex, length(Iset)) = (7, 8)\n",
      "(bondindex, length(Iset)) = (8, 4)\n",
      "(bondindex, length(Iset)) = (9, 2)\n",
      "iteration = 4, rank = 62, error= 0.008920478516080792, maxsamplevalue= 1.0, nglobalpivot=0\n",
      "(bondindex, length(Iset)) = (1, 2)\n",
      "(bondindex, length(Iset)) = (2, 4)\n",
      "(bondindex, length(Iset)) = (3, 8)\n",
      "(bondindex, length(Iset)) = (4, 16)\n",
      "(bondindex, length(Iset)) = (5, 26)\n",
      "(bondindex, length(Iset)) = (6, 16)\n",
      "(bondindex, length(Iset)) = (7, 8)\n",
      "(bondindex, length(Iset)) = (8, 4)\n",
      "(bondindex, length(Iset)) = (9, 2)\n",
      "iteration = 5, rank = 65, error= 0.006575621006187969, maxsamplevalue= 1.0, nglobalpivot=0\n",
      "(bondindex, length(Iset)) = (1, 2)\n",
      "(bondindex, length(Iset)) = (2, 4)\n",
      "(bondindex, length(Iset)) = (3, 8)\n",
      "(bondindex, length(Iset)) = (4, 16)\n",
      "(bondindex, length(Iset)) = (5, 26)\n",
      "(bondindex, length(Iset)) = (6, 16)\n",
      "(bondindex, length(Iset)) = (7, 8)\n",
      "(bondindex, length(Iset)) = (8, 4)\n",
      "(bondindex, length(Iset)) = (9, 2)\n",
      "iteration = 6, rank = 64, error= 0.006575621006187969, maxsamplevalue= 1.0, nglobalpivot=0\n",
      "(bondindex, length(Iset)) = (1, 2)\n",
      "(bondindex, length(Iset)) = (2, 4)\n",
      "(bondindex, length(Iset)) = (3, 8)\n",
      "(bondindex, length(Iset)) = (4, 16)\n",
      "(bondindex, length(Iset)) = (5, 26)\n",
      "(bondindex, length(Iset)) = (6, 16)\n",
      "(bondindex, length(Iset)) = (7, 8)\n",
      "(bondindex, length(Iset)) = (8, 4)\n",
      "(bondindex, length(Iset)) = (9, 2)\n",
      "iteration = 7, rank = 64, error= 0.006575621006187969, maxsamplevalue= 1.0, nglobalpivot=0\n",
      "abstol = 0.01\n"
     ]
    },
    {
     "data": {
      "text/plain": [
       "0.01"
      ]
     },
     "metadata": {},
     "output_type": "display_data"
    }
   ],
   "source": [
    "pivotsearch = :full\n",
    "#seed = 12456\n",
    "#seed = 1245678\n",
    "seed = 124567890\n",
    "\n",
    "Random.seed!(seed)\n",
    "\n",
    "R = 10\n",
    "abstol = 1e-2\n",
    "sites = [Index(2, \"n=$n\") for n in 1:R]\n",
    "\n",
    "Ψ = random_mps(sites; linkdims=20)\n",
    "rindex = Set([rand(1:2, R) for _ in 1:20])\n",
    "\n",
    "tensor = Array(reduce(*, Ψ), reverse(sites))\n",
    "tensor = tensor ./ maximum(abs, tensor)\n",
    "\n",
    "function f(x)\n",
    "    res = tensor[x...]\n",
    "    if x in rindex\n",
    "        res += 1.01 * abstol\n",
    "    end\n",
    "    res\n",
    "end\n",
    "\n",
    "localdims = fill(2, R)\n",
    "firstpivot = ones(Int, R)\n",
    "tci, ranks, errors = crossinterpolate2(\n",
    "    Float64,\n",
    "    f,\n",
    "    localdims,\n",
    "    [firstpivot];\n",
    "    tolerance=abstol,\n",
    "    maxbonddim=1000,\n",
    "    maxiter=20,\n",
    "    loginterval=1,\n",
    "    verbosity=1,\n",
    "    normalizeerror=false,\n",
    "    pivotsearch=pivotsearch,\n",
    ")\n",
    "@show abstol"
   ]
  },
  {
   "cell_type": "code",
   "execution_count": 74,
   "metadata": {},
   "outputs": [
    {
     "name": "stdout",
     "output_type": "stream",
     "text": [
      "(bondindex, length(Iset)) = (1, 2)\n",
      "(bondindex, length(Iset)) = (2, 4)\n",
      "(bondindex, length(Iset)) = (3, 8)\n",
      "(bondindex, length(Iset)) = (4, 16)\n",
      "(bondindex, length(Iset)) = (5, 26)\n",
      "(bondindex, length(Iset)) = (6, 16)\n",
      "(bondindex, length(Iset)) = (7, 8)\n",
      "(bondindex, length(Iset)) = (8, 4)\n",
      "(bondindex, length(Iset)) = (9, 2)\n",
      "(bondindex, length(Iset)) = (1, 2)\n",
      "(bondindex, length(Iset)) = (2, 4)\n",
      "(bondindex, length(Iset)) = (3, 8)\n",
      "(bondindex, length(Iset)) = (4, 16)\n",
      "(bondindex, length(Iset)) = (5, 26)\n",
      "(bondindex, length(Iset)) = (6, 16)\n",
      "(bondindex, length(Iset)) = (7, 8)\n",
      "(bondindex, length(Iset)) = (8, 4)\n",
      "(bondindex, length(Iset)) = (9, 2)\n"
     ]
    }
   ],
   "source": [
    "TCI.addglobalpivots2sitesweep!(\n",
    "    tci, f, collect(rindex),\n",
    "    tolerance=abstol,\n",
    "    normalizeerror=false,\n",
    "    maxbonddim=typemax(Int),\n",
    "    pivotsearch=pivotsearch,\n",
    "    verbosity=1,\n",
    ")\n"
   ]
  },
  {
   "cell_type": "code",
   "execution_count": 75,
   "metadata": {},
   "outputs": [
    {
     "name": "stdout",
     "output_type": "stream",
     "text": [
      "orthocenter = 5\n"
     ]
    },
    {
     "data": {
      "text/plain": [
       "\u001b[32m\u001b[1mTest Passed\u001b[22m\u001b[39m"
      ]
     },
     "metadata": {},
     "output_type": "display_data"
    }
   ],
   "source": [
    "tt = TCI.TensorTrain(TCI.sitetensors(tci, f))\n",
    "@test sum(abs.([TCI.evaluate(tt, r) - f(r) for r in rindex]) .> abstol) == 0"
   ]
  },
  {
   "cell_type": "code",
   "execution_count": 76,
   "metadata": {},
   "outputs": [
    {
     "name": "stdout",
     "output_type": "stream",
     "text": [
      "(length(TCI.Iset(tci, b + 1)), length(TCI.Jset(tci, b))) = (2, 61)\n",
      "(length(TCI.Iset(tci, b + 1)), length(TCI.Jset(tci, b))) = (4, 59)\n",
      "(length(TCI.Iset(tci, b + 1)), length(TCI.Jset(tci, b))) = (8, 53)\n",
      "(length(TCI.Iset(tci, b + 1)), length(TCI.Jset(tci, b))) = (16, 44)\n",
      "(length(TCI.Iset(tci, b + 1)), length(TCI.Jset(tci, b))) = (27, 30)\n",
      "(length(TCI.Iset(tci, b + 1)), length(TCI.Jset(tci, b))) = (38, 16)\n",
      "(length(TCI.Iset(tci, b + 1)), length(TCI.Jset(tci, b))) = (53, 8)\n",
      "(length(TCI.Iset(tci, b + 1)), length(TCI.Jset(tci, b))) = (59, 4)\n",
      "(length(TCI.Iset(tci, b + 1)), length(TCI.Jset(tci, b))) = (62, 2)\n"
     ]
    }
   ],
   "source": [
    "for b in 1:length(tci)-1\n",
    "    @show length(TCI.Iset(tci, b+1)), length(TCI.Jset(tci, b))\n",
    "end"
   ]
  },
  {
   "cell_type": "code",
   "execution_count": 77,
   "metadata": {},
   "outputs": [
    {
     "name": "stdout",
     "output_type": "stream",
     "text": [
      "orthocenter = 1\n",
      "Orthocenter: 1\n",
      "TCI.linkdims(tt) = [2, 4, 8, 16, 27, 16, 8, 4, 2]\n",
      "Error on pivots:\n",
      "1    0.0008948753827201783 false\n",
      "2    0.0008948753827201783 false\n",
      "3    0.0008948753827201783 false\n",
      "4    0.0009328600859791897 false\n",
      "5    4.385380947269368e-15 false\n",
      "6    4.385380947269368e-15 false\n",
      "7    4.385380947269368e-15 false\n",
      "8    4.385380947269368e-15 false\n",
      "9    4.218847493575595e-15 false\n",
      "Error on T:\n",
      "1    0.0008948753827201783 false\n",
      "2    0.0008948753827201783 false\n",
      "3    0.0008948753827201783 false\n",
      "4    0.0009328600859791897 false\n",
      "5    0.0016763381370814012 false\n",
      "6    4.385380947269368e-15 false\n",
      "7    4.385380947269368e-15 false\n",
      "8    4.385380947269368e-15 false\n",
      "9    4.385380947269368e-15 false\n",
      "Error on Π:\n",
      "1    0.0008948753827201783 false\n",
      "2    0.0008948753827201783 false\n",
      "3    0.0009328600859791897 false\n",
      "4    0.0016763381370814012 false\n",
      "5    0.0028238063684213888 false\n",
      "6    4.385380947269368e-15 false\n",
      "7    4.385380947269368e-15 false\n",
      "8    4.385380947269368e-15 false\n",
      "9    4.385380947269368e-15 false\n",
      "error on global pivots: 3.9968028886505635e-15\n",
      "orthocenter = 5\n",
      "Orthocenter: 5\n",
      "TCI.linkdims(tt) = [2, 4, 8, 16, 27, 16, 8, 4, 2]\n",
      "Error on pivots:\n",
      "1    0.0008948753827191236 false\n",
      "2    0.0008948753827191236 false\n",
      "3    0.0008948753827191236 false\n",
      "4    0.0009328600859781488 false\n",
      "5    4.9960036108132044e-15 false\n",
      "6    4.9682480351975755e-15 false\n",
      "7    4.9682480351975755e-15 false\n",
      "8    4.773959005888173e-15 false\n",
      "9    4.773959005888173e-15 false\n",
      "Error on T:\n",
      "1    0.0008948753827191236 false\n",
      "2    0.0008948753827191236 false\n",
      "3    0.0008948753827191236 false\n",
      "4    0.0009328600859781488 false\n",
      "5    0.001676338137081762 false\n",
      "6    4.9960036108132044e-15 false\n",
      "7    4.9682480351975755e-15 false\n",
      "8    4.9682480351975755e-15 false\n",
      "9    4.773959005888173e-15 false\n",
      "Error on Π:\n",
      "1    0.0008948753827191236 false\n",
      "2    0.0008948753827191236 false\n",
      "3    0.0009328600859781488 false\n",
      "4    0.001676338137081762 false\n",
      "5    0.002823806368420473 false\n",
      "6    4.9960036108132044e-15 false\n",
      "7    4.9682480351975755e-15 false\n",
      "8    4.9682480351975755e-15 false\n",
      "9    4.773959005888173e-15 false\n",
      "error on global pivots: 4.440892098500626e-15\n"
     ]
    }
   ],
   "source": [
    "for orthocenter in [1, length(tci) ÷ 2]\n",
    "#for orthocenter in [1]\n",
    "    tt = TCI.TensorTrain(TCI.sitetensors(tci, f; orthocenter=orthocenter))\n",
    "    TCI.compress!(tt, :SVD; tolerance=1e-10)\n",
    "    println(\"Orthocenter: \", orthocenter)\n",
    "    @show TCI.linkdims(tt)\n",
    "    println(\"Error on pivots:\")\n",
    "    for b in 1:length(tci)-1\n",
    "        Iset = TCI.Iset(tci, b+1)\n",
    "        Jset = TCI.Jset(tci, b)\n",
    "        diff = maximum(abs, [TCI.evaluate(tt, vcat(i, j)) - f(vcat(i, j)) for i in Iset, j in Jset])\n",
    "        println(b, \"    \", diff, \" \", diff > abstol)\n",
    "    end\n",
    "    println(\"Error on T:\")\n",
    "    for l in 1:length(tci)-1\n",
    "        diff = [TCI.evaluate(tt, vcat(i, m, j)) - f(vcat(i, m, j)) for i in TCI.Iset(tci, l), j in TCI.Jset(tci, l), m in 1:localdims[l]]\n",
    "        println(l, \"    \", maximum(abs, diff), \" \", maximum(abs, diff) > abstol)\n",
    "    end\n",
    "\n",
    "    println(\"Error on Π:\")\n",
    "    for b in 1:length(tci)-1\n",
    "        Iset_b = TCI.Iset(tci, b)\n",
    "        Jset_bp1 = TCI.Jset(tci, b+1)\n",
    "        diff = [\n",
    "            TCI.evaluate(tt, vcat(i, i1, i2, j)) - f(vcat(i, i1, i2, j)) for i in Iset_b, j in Jset_bp1, i1 in 1:localdims[b], i2 in 1:localdims[b+1]]\n",
    "        println(b, \"    \", maximum(abs, diff), \" \", maximum(abs, diff) > abstol)\n",
    "    end\n",
    "\n",
    "    println(\"error on global pivots: \", maximum([abs(TCI.evaluate(tt, p) - f(p)) for p in tci.globalpivots]))\n",
    "end"
   ]
  },
  {
   "cell_type": "code",
   "execution_count": 55,
   "metadata": {},
   "outputs": [
    {
     "name": "stdout",
     "output_type": "stream",
     "text": [
      "orthocenter = 5\n",
      "TCI.linkdims(tt) = [2, 4, 8, 16, 28, 16, 8, 4, 2]\n",
      "TCI.linkdims(tt_old) = [2, 4, 8, 16, 27, 16, 8, 4, 2]\n"
     ]
    },
    {
     "data": {
      "text/plain": [
       "9-element Vector{Int64}:\n",
       "  2\n",
       "  4\n",
       "  8\n",
       " 16\n",
       " 27\n",
       " 16\n",
       "  8\n",
       "  4\n",
       "  2"
      ]
     },
     "metadata": {},
     "output_type": "display_data"
    }
   ],
   "source": [
    "tt = TCI.TensorTrain(TCI.sitetensors(tci, f))\n",
    "tt_old = TCI.TensorTrain(TCI.sitetensors_site0update(tci, f))\n",
    "\n",
    "@show TCI.linkdims(tt)\n",
    "@show TCI.linkdims(tt_old)"
   ]
  },
  {
   "cell_type": "code",
   "execution_count": 56,
   "metadata": {},
   "outputs": [
    {
     "name": "stdout",
     "output_type": "stream",
     "text": [
      "1    0.0013252755901388205\n",
      "2    0.0013252755901388205\n",
      "3    0.0013252755901388205\n",
      "4    0.0014761629393269804\n",
      "5    0.0015415748986997782\n",
      "6    1.4432899320127035e-15\n",
      "7    1.4432899320127035e-15\n",
      "8    1.3322676295501878e-15\n",
      "9    1.3322676295501878e-15\n",
      "10    1.3322676295501878e-15\n"
     ]
    }
   ],
   "source": [
    "for l in 1:length(tci)\n",
    "    Iset = TCI.Iset(tci, l)\n",
    "    Jset = TCI.Jset(tci, l)\n",
    "    println(l, \"    \", maximum(abs, [TCI.evaluate(tt, vcat(i, l, j)) - f(vcat(i, l, j)) for i in Iset, j in Jset, l in 1:localdims[l]]))\n",
    "end"
   ]
  },
  {
   "cell_type": "code",
   "execution_count": 57,
   "metadata": {},
   "outputs": [
    {
     "data": {
      "text/plain": [
       "1.3322676295501878e-15"
      ]
     },
     "metadata": {},
     "output_type": "display_data"
    }
   ],
   "source": [
    "maximum([abs(TCI.evaluate(tt, p) - f(p)) for p in tci.globalpivots])"
   ]
  },
  {
   "cell_type": "code",
   "execution_count": 42,
   "metadata": {},
   "outputs": [],
   "source": []
  },
  {
   "cell_type": "code",
   "execution_count": null,
   "metadata": {},
   "outputs": [],
   "source": []
  }
 ],
 "metadata": {
  "kernelspec": {
   "display_name": "Julia 1.10.4",
   "language": "julia",
   "name": "julia-1.10"
  },
  "language_info": {
   "file_extension": ".jl",
   "mimetype": "application/julia",
   "name": "julia",
   "version": "1.10.4"
  },
  "orig_nbformat": 4
 },
 "nbformat": 4,
 "nbformat_minor": 2
}
