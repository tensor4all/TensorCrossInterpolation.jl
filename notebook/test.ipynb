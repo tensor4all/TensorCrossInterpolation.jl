{
 "cells": [
  {
   "cell_type": "code",
   "execution_count": null,
   "metadata": {},
   "outputs": [],
   "source": [
    "using Revise\n",
    "\n",
    "using Test\n",
    "import TensorCrossInterpolation as TCI\n",
    "import Random"
   ]
  },
  {
   "cell_type": "code",
   "execution_count": null,
   "metadata": {},
   "outputs": [],
   "source": [
    "using Test\n",
    "import TensorCrossInterpolation as TCI\n",
    "import TensorCrossInterpolation: rank, linkdims, TensorCI2, updatepivots!, addglobalpivots1sitesweep!, MultiIndex, evaluate, crossinterpolate2, pivoterror, tensortrain\n",
    "import Random\n",
    "import QuanticsGrids as QD"
   ]
  },
  {
   "cell_type": "code",
   "execution_count": null,
   "metadata": {},
   "outputs": [],
   "source": [
    "import TensorCrossInterpolation as TCI\n",
    "using TensorCrossInterpolation\n",
    "using Random\n",
    "using Test"
   ]
  },
  {
   "cell_type": "code",
   "execution_count": null,
   "metadata": {},
   "outputs": [],
   "source": [
    "pivotsearch = :full\n",
    "seed = 123\n",
    "\n",
    "Random.seed!(seed)\n",
    "\n",
    "R = 10\n",
    "abstol = 1e-4\n",
    "grid = QD.DiscretizedGrid{1}(R, (0.0,), (log(20.),))\n",
    "\n",
    "rindex = [rand(1:2, R) for _ in 1:100]\n",
    "\n",
    "f(bitlist) = any(bitlist .> 2) ? 0.0 : fx(QD.quantics_to_origcoord(grid, bitlist)[1])\n",
    "rpoint = Float64[QD.quantics_to_origcoord(grid, r)[1] for r in rindex]\n",
    "\n",
    "B = 2^(-30) # global variable\n",
    "\n",
    "function fx(x)\n",
    "    return cos(x / B) * cos(x / (4 * sqrt(5) * B)) * exp(-x^2) + 2 * exp(-x)\n",
    "end\n",
    "\n",
    "localdims = fill(2, R)\n",
    "firstpivot = ones(Int, R)\n",
    "tci, ranks, errors = crossinterpolate2(\n",
    "    Float64,\n",
    "    f,\n",
    "    localdims,\n",
    "    [firstpivot];\n",
    "    tolerance=abstol,\n",
    "    maxbonddim=1000,\n",
    "    maxiter=20,\n",
    "    loginterval=1,\n",
    "    verbosity=1,\n",
    "    normalizeerror=false,\n",
    "    pivotsearch=pivotsearch,\n",
    ")\n",
    "@show abstol"
   ]
  },
  {
   "cell_type": "code",
   "execution_count": null,
   "metadata": {},
   "outputs": [],
   "source": [
    "for b in 1:length(tci)-1\n",
    "    @show length(TCI.Iset(tci, b+1)), length(TCI.Jset(tci, b))\n",
    "end"
   ]
  },
  {
   "cell_type": "code",
   "execution_count": null,
   "metadata": {},
   "outputs": [],
   "source": [
    "tt = TCI.TensorTrain(TCI.sitetensors(tci, f))"
   ]
  },
  {
   "cell_type": "code",
   "execution_count": null,
   "metadata": {},
   "outputs": [],
   "source": [
    "for b in 1:length(tci)-1\n",
    "    Iset = TCI.Iset(tci, b+1)\n",
    "    Jset = TCI.Jset(tci, b)\n",
    "    println(b, \"    \", maximum(abs, [TCI.evaluate(tt, vcat(i, j)) - f(vcat(i, j)) for i in Iset, j in Jset]))\n",
    "end"
   ]
  },
  {
   "cell_type": "code",
   "execution_count": null,
   "metadata": {},
   "outputs": [],
   "source": [
    "maximum([abs(TCI.evaluate(tt, p) - f(p)) for p in tci.globalpivots])"
   ]
  },
  {
   "cell_type": "code",
   "execution_count": null,
   "metadata": {},
   "outputs": [],
   "source": [
    "tt_old = TCI.TensorTrain(TCI.sitetensors_site0update(tci, f))\n",
    "\n",
    "for b in 1:length(tci)-1\n",
    "    Iset = TCI.Iset(tci, b+1)\n",
    "    Jset = TCI.Jset(tci, b)\n",
    "    println(b, \"    \", maximum(abs, [TCI.evaluate(tt_old, vcat(i, j)) - f(vcat(i, j)) for i in Iset, j in Jset]))\n",
    "end\n",
    "\n",
    "maximum([abs(TCI.evaluate(tt_old, p) - f(p)) for p in tci.globalpivots])"
   ]
  },
  {
   "cell_type": "code",
   "execution_count": null,
   "metadata": {},
   "outputs": [],
   "source": [
    "#TCI.fillsitetensors!(tci, f)"
   ]
  },
  {
   "cell_type": "code",
   "execution_count": null,
   "metadata": {},
   "outputs": [],
   "source": [
    "length(tci.globalpivots)"
   ]
  }
 ],
 "metadata": {
  "kernelspec": {
   "display_name": "Julia 1.10.4",
   "language": "julia",
   "name": "julia-1.10"
  },
  "language_info": {
   "file_extension": ".jl",
   "mimetype": "application/julia",
   "name": "julia",
   "version": "1.10.4"
  },
  "orig_nbformat": 4
 },
 "nbformat": 4,
 "nbformat_minor": 2
}
