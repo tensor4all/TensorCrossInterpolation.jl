{
 "cells": [
  {
   "cell_type": "code",
   "execution_count": 1,
   "metadata": {},
   "outputs": [],
   "source": [
    "using Revise\n",
    "\n",
    "using Test\n",
    "import TensorCrossInterpolation as TCI\n",
    "import Random"
   ]
  },
  {
   "cell_type": "code",
   "execution_count": 2,
   "metadata": {},
   "outputs": [],
   "source": [
    "using Test\n",
    "import TensorCrossInterpolation as TCI\n",
    "import TensorCrossInterpolation: rank, linkdims, TensorCI2, MultiIndex, evaluate, crossinterpolate2, pivoterror, tensortrain\n",
    "import Random\n",
    "import QuanticsGrids as QD"
   ]
  },
  {
   "cell_type": "code",
   "execution_count": 3,
   "metadata": {},
   "outputs": [
    {
     "data": {
      "text/plain": [
       "14"
      ]
     },
     "metadata": {},
     "output_type": "display_data"
    }
   ],
   "source": [
    "import TensorCrossInterpolation as TCI\n",
    "using TensorCrossInterpolation\n",
    "using Random\n",
    "using Test\n",
    "using ITensors\n",
    "ITensors.disable_warn_order()"
   ]
  },
  {
   "cell_type": "code",
   "execution_count": 4,
   "metadata": {},
   "outputs": [
    {
     "name": "stdout",
     "output_type": "stream",
     "text": [
      "iteration = 1, rank = 10, error= 0.0, maxsamplevalue= 0.8233588094296722, nglobalpivot=5\n",
      "  Rejected 5 global pivots added in the previous iteration, errors are [2.220446049250313e-16, 1.6653345369377348e-16, 4.440892098500626e-16, 0.0, 1.1102230246251565e-16]\n",
      "iteration = 2, rank = 26, error= 0.006575621006188141, maxsamplevalue= 1.0, nglobalpivot=0\n",
      "iteration = 3, rank = 26, error= 0.006575621006188141, maxsamplevalue= 1.0, nglobalpivot=0\n",
      "iteration = 4, rank = 26, error= 0.006575621006188141, maxsamplevalue= 1.0, nglobalpivot=0\n",
      "abstol = 0.01\n"
     ]
    },
    {
     "data": {
      "text/plain": [
       "0.01"
      ]
     },
     "metadata": {},
     "output_type": "display_data"
    }
   ],
   "source": [
    "pivotsearch = :full\n",
    "#seed = 12456\n",
    "#seed = 1245678\n",
    "seed = 124567890\n",
    "\n",
    "Random.seed!(seed)\n",
    "\n",
    "R = 10\n",
    "abstol = 1e-2\n",
    "sites = [Index(2, \"n=$n\") for n in 1:R]\n",
    "\n",
    "Ψ = random_mps(sites; linkdims=20)\n",
    "rindex = Set([rand(1:2, R) for _ in 1:20])\n",
    "\n",
    "tensor = Array(reduce(*, Ψ), reverse(sites))\n",
    "tensor = tensor ./ maximum(abs, tensor)\n",
    "\n",
    "function f(x)\n",
    "    res = tensor[x...]\n",
    "    if x in rindex\n",
    "        res += 1.01 * abstol\n",
    "    end\n",
    "    res\n",
    "end\n",
    "\n",
    "localdims = fill(2, R)\n",
    "firstpivot = ones(Int, R)\n",
    "tci, ranks, errors = crossinterpolate2(\n",
    "    Float64,\n",
    "    f,\n",
    "    localdims,\n",
    "    [firstpivot];\n",
    "    tolerance=abstol,\n",
    "    maxbonddim=1000,\n",
    "    maxiter=20,\n",
    "    loginterval=1,\n",
    "    verbosity=1,\n",
    "    normalizeerror=false,\n",
    "    pivotsearch=pivotsearch,\n",
    ")\n",
    "@show abstol"
   ]
  },
  {
   "cell_type": "code",
   "execution_count": 5,
   "metadata": {},
   "outputs": [
    {
     "name": "stdout",
     "output_type": "stream",
     "text": [
      "Trying to add 19 global pivots, 0 still remain.\n"
     ]
    },
    {
     "data": {
      "text/plain": [
       "0"
      ]
     },
     "metadata": {},
     "output_type": "display_data"
    }
   ],
   "source": [
    "TCI.addglobalpivots2sitesweep!(\n",
    "    tci, f, collect(rindex),\n",
    "    tolerance=abstol,\n",
    "    normalizeerror=false,\n",
    "    maxbonddim=typemax(Int),\n",
    "    pivotsearch=pivotsearch,\n",
    "    verbosity=1,\n",
    ")\n"
   ]
  },
  {
   "cell_type": "code",
   "execution_count": 7,
   "metadata": {},
   "outputs": [
    {
     "data": {
      "text/plain": [
       "\u001b[32m\u001b[1mTest Passed\u001b[22m\u001b[39m"
      ]
     },
     "metadata": {},
     "output_type": "display_data"
    }
   ],
   "source": [
    "tt = TCI.TensorTrain(tci)\n",
    "@test sum(abs.([TCI.evaluate(tt, r) - f(r) for r in rindex]) .> abstol) == 0"
   ]
  },
  {
   "cell_type": "code",
   "execution_count": 12,
   "metadata": {},
   "outputs": [
    {
     "name": "stdout",
     "output_type": "stream",
     "text": [
      "TCI.linkdims(tt) = [2, 4, 8, 16, 26, 16, 8, 4, 2]\n",
      "Error on pivots:\n",
      "1    1.2323475573339238e-14 false\n",
      "2    1.2323475573339238e-14 false\n",
      "3    1.2323475573339238e-14 false\n",
      "4    1.2323475573339238e-14 false\n",
      "5    1.4765966227514582e-14 false\n",
      "6    1.4765966227514582e-14 false\n",
      "7    1.2323475573339238e-14 false\n",
      "8    1.2323475573339238e-14 false\n",
      "9    4.440892098500626e-15 false\n",
      "Error on T:\n",
      "1    1.2323475573339238e-14 false\n",
      "2    1.2323475573339238e-14 false\n",
      "3    1.2323475573339238e-14 false\n",
      "4    1.2323475573339238e-14 false\n",
      "5    1.4765966227514582e-14 false\n",
      "6    1.4765966227514582e-14 false\n",
      "7    1.4765966227514582e-14 false\n",
      "8    1.2323475573339238e-14 false\n",
      "9    1.2323475573339238e-14 false\n"
     ]
    }
   ],
   "source": [
    "tt = TCI.TensorTrain(tci)\n",
    "TCI.compress!(tt, :SVD; tolerance=1e-10)\n",
    "\n",
    "@show TCI.linkdims(tt)\n",
    "\n",
    "println(\"Error on pivots:\")\n",
    "for b in 1:length(tci)-1\n",
    "    Iset = tci.Iset[b+1]\n",
    "    Jset = tci.Jset[b]\n",
    "    diff = maximum(abs, [TCI.evaluate(tt, vcat(i, j)) - f(vcat(i, j)) for i in Iset, j in Jset])\n",
    "    println(b, \"    \", diff, \" \", diff > abstol)\n",
    "end\n",
    "println(\"Error on T:\")\n",
    "for l in 1:length(tci)-1\n",
    "    diff = [TCI.evaluate(tt, vcat(i, m, j)) - f(vcat(i, m, j)) for i in tci.Iset[l], j in tci.Jset[l], m in 1:localdims[l]]\n",
    "    println(l, \"    \", maximum(abs, diff), \" \", maximum(abs, diff) > abstol)\n",
    "end"
   ]
  }
 ],
 "metadata": {
  "kernelspec": {
   "display_name": "Julia 1.10.4",
   "language": "julia",
   "name": "julia-1.10"
  },
  "language_info": {
   "file_extension": ".jl",
   "mimetype": "application/julia",
   "name": "julia",
   "version": "1.10.4"
  },
  "orig_nbformat": 4
 },
 "nbformat": 4,
 "nbformat_minor": 2
}
