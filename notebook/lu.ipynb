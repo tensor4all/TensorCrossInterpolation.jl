{
 "cells": [
  {
   "cell_type": "code",
   "execution_count": 5,
   "metadata": {},
   "outputs": [],
   "source": [
    "using Revise\n",
    "using Test\n",
    "using Random\n",
    "import TensorCrossInterpolation as TCI\n",
    "import TensorCrossInterpolation: TensorCI2, AtimesBinv, tensortrain, sitedims\n",
    "\n",
    "import LinearAlgebra as LA"
   ]
  },
  {
   "cell_type": "code",
   "execution_count": 2,
   "metadata": {},
   "outputs": [
    {
     "data": {
      "text/plain": [
       "#9 (generic function with 1 method)"
      ]
     },
     "metadata": {},
     "output_type": "display_data"
    }
   ],
   "source": [
    "g = v -> exp(exp(1im * sum(v)))"
   ]
  },
  {
   "cell_type": "code",
   "execution_count": 10,
   "metadata": {},
   "outputs": [
    {
     "data": {
      "text/plain": [
       "_reconst_tt (generic function with 1 method)"
      ]
     },
     "metadata": {},
     "output_type": "display_data"
    }
   ],
   "source": [
    "function _reconst_tt(tt)\n",
    "    sitedims_ = sitedims(tt)\n",
    "    localdims = collect(prod.(sitedims_))\n",
    "    r = [tt(collect(Tuple(i))) for i in CartesianIndices(Tuple(localdims))]\n",
    "    returnsize = collect(Iterators.flatten(sitedims_))\n",
    "    return reshape(r, returnsize...)\n",
    "end\n",
    "#\n",
    "#_reconst_tt(tt)"
   ]
  },
  {
   "cell_type": "code",
   "execution_count": 33,
   "metadata": {},
   "outputs": [
    {
     "name": "stdout",
     "output_type": "stream",
     "text": [
      "TCI.norm(tt - tt) = 3.321893407454324e-27\n",
      "LA.norm(tt - tt) = 3.321893407454324e-27\n",
      "TCI.norm(tt) = 2952.595315384516\n"
     ]
    }
   ],
   "source": [
    "localdims = (6, 6, 6, 6)\n",
    "tolerance = 1e-8\n",
    "allindices = CartesianIndices(localdims)\n",
    "\n",
    "tci, ranks, errors = TCI.crossinterpolate1(ComplexF64, g, localdims; tolerance=tolerance)\n",
    "tt = TCI.TensorTrain(tci)\n",
    "ttr = TCI.reverse(tt)\n",
    "@test TCI.rank(tci) == TCI.rank(tt)\n",
    "@test TCI.rank(tci) == TCI.rank(ttr)\n",
    "@test TCI.linkdims(tci) == TCI.linkdims(tt)\n",
    "@test TCI.linkdims(tci) == reverse(TCI.linkdims(ttr))\n",
    "gsum = ComplexF64(0.0)\n",
    "for i in allindices\n",
    "    @test TCI.evaluate(tci, i) ≈ TCI.evaluate(tt, i)\n",
    "    @test TCI.evaluate(tci, i) ≈ TCI.evaluate(ttr, reverse(Tuple(i)))\n",
    "    @test tt(i) == TCI.evaluate(tt, i)\n",
    "    @test tt(i) ≈ TCI.evaluate(tt, reverse(Tuple(i)))\n",
    "    functionvalue = g(Tuple(i))\n",
    "    @test abs(TCI.evaluate(tt, i) - functionvalue) < tolerance\n",
    "    @test abs(TCI.evaluate(ttr, reverse(Tuple(i))) - functionvalue) < tolerance\n",
    "    gsum += functionvalue\n",
    "end\n",
    "@test gsum ≈ TCI.sum(tt)\n",
    "@test gsum ≈ TCI.sum(ttr)\n",
    "\n",
    "using LinearAlgebra\n",
    "LA.norm(tt)\n",
    "\n",
    "for method in [:SVD]\n",
    "    ttcompressed = deepcopy(tt)\n",
    "    TCI.compress!(ttcompressed, method; tolerance=0.0)\n",
    "    #@show TCI.norm(ttcompressed - tt)\n",
    "    @show TCI.norm(tt - tt)\n",
    "    @show LA.norm(tt - tt)\n",
    "    @show TCI.norm(tt)\n",
    "    #@test TCI.rank(ttcompressed) <= 5\n",
    "end\n",
    "\n",
    "#for method in [:LU, :CI, :SVD]\n",
    "    #ttcompressed = deepcopy(tt)\n",
    "    #TCI.compress!(ttcompressed, method; tolerance=1.0)\n",
    "    #@test TCI.rank(ttcompressed) <= TCI.rank(tt)\n",
    "#end"
   ]
  },
  {
   "cell_type": "code",
   "execution_count": 114,
   "metadata": {},
   "outputs": [
    {
     "name": "stdout",
     "output_type": "stream",
     "text": [
      "bonddims = [1, 10, 10, 10, 10, 10, 10, 10, 10, 10, 1]\n",
      "sqrt(LA.norm2(tt - tt_compressed) / LA.norm2(tt)) < sqrt(N) * tol = true\n",
      "LA.norm(tt) * tol = 121572.37351022812\n",
      "sqrt(LA.norm2(tt - tt_compressed) / LA.norm2(tt)) < sqrt(N) * tol = true\n"
     ]
    },
    {
     "data": {
      "text/plain": [
       "true"
      ]
     },
     "metadata": {},
     "output_type": "display_data"
    }
   ],
   "source": [
    "using Random\n",
    "Random.seed!(1234)\n",
    "T = Float64\n",
    "N = 10\n",
    "sitedims_ = [[2] for _ in 1:N]\n",
    "χ = 10\n",
    "\n",
    "tol = 0.1\n",
    "bonddims = vcat(1, χ * ones(Int, N - 1), 1)\n",
    "@show bonddims\n",
    "\n",
    "tt = TCI.TensorTrain([\n",
    "    randn(bonddims[n], sitedims_[n]..., bonddims[n + 1]) for n in 1:N\n",
    "])\n",
    "\n",
    "tt_compressed = deepcopy(tt)\n",
    "TCI.compress!(tt_compressed, :SVD; tolerance=tol)\n",
    "@show sqrt(LA.norm2(tt - tt_compressed)/LA.norm2(tt)) < sqrt(N) * tol\n",
    "\n",
    "tt_compressed = deepcopy(tt)\n",
    "TCI.compress!(tt_compressed, :SVD; tolerance=LA.norm(tt) * tol, normalizeerror=false)\n",
    "@show sqrt(LA.norm2(tt - tt_compressed)/LA.norm2(tt)) < sqrt(N) * tol"
   ]
  },
  {
   "cell_type": "code",
   "execution_count": 46,
   "metadata": {},
   "outputs": [
    {
     "data": {
      "text/plain": [
       "2.4494897427831783"
      ]
     },
     "metadata": {},
     "output_type": "display_data"
    }
   ],
   "source": [
    "LA.norm2(tt)"
   ]
  },
  {
   "cell_type": "code",
   "execution_count": 25,
   "metadata": {},
   "outputs": [
    {
     "name": "stdout",
     "output_type": "stream",
     "text": [
      "  0.265198 seconds (327.06 k allocations: 18.486 MiB, 99.99% compilation time)\n"
     ]
    },
    {
     "data": {
      "text/plain": [
       "2×1 Matrix{Float64}:\n",
       " 0.8267624667662581\n",
       " 0.0"
      ]
     },
     "metadata": {},
     "output_type": "display_data"
    }
   ],
   "source": [
    "import TensorCrossInterpolation: rrLU, left, right\n",
    "\n",
    "\"\"\"\n",
    "Solve (LU) x = b\n",
    "\n",
    "L: lower triangular matrix\n",
    "U: upper triangular matrix\n",
    "b: right-hand side vector\n",
    "\n",
    "Return x\n",
    "\"\"\"\n",
    "function solve(L::Matrix{T}, U::Matrix{T}, b::Matrix{T}) where{T}\n",
    "    N1, N2, N3 = size(L, 1), size(L, 2), size(U, 2)\n",
    "    M = size(b, 2)\n",
    "\n",
    "    all(triu(L, 1) .== 0) || error(\"L is not lower triangular\")\n",
    "    all(tril(U, -1) .== 0) || error(\"U is not upper triangular\")\n",
    "    \n",
    "    # Solve Ly = b\n",
    "    y = zeros(T, N2, M)\n",
    "    for i in 1:N2\n",
    "        y[i, :] .= b[i, :]\n",
    "        for j = 1:i-1\n",
    "            y[i, :] .-= L[i, j] .* y[j, :]\n",
    "        end\n",
    "        y[i, :] ./= L[i, i]\n",
    "    end\n",
    "\n",
    "    # Solve Ux = y\n",
    "    x = zeros(T, N3, M)\n",
    "    #for i in N3:-1:1\n",
    "    for revi in 1:min(N3, N2)\n",
    "        x[N3 - revi + 1, :] .= y[N2 - revi + 1, :]\n",
    "        for j in N3-revi+2:N3\n",
    "            x[N3 - revi + 1, :] .-= U[N2 - revi + 1, j] .* x[j, :]\n",
    "        end\n",
    "        x[N3 - revi + 1, :] ./= U[N2 - revi + 1, N3 - revi + 1]\n",
    "    end\n",
    "\n",
    "    return x\n",
    "end\n",
    "\n",
    "function Base.:\\(A::rrLU{T}, b::AbstractMatrix{T}) where{T}\n",
    "    b_perm = b[A.rowpermutation, :]\n",
    "    x_perm = solve(A.L, A.U, b_perm)\n",
    "    x = similar(x_perm)\n",
    "    for i in 1:size(x, 1)\n",
    "        x[A.colpermutation[i], :] .= x_perm[i, :]\n",
    "    end\n",
    "    return x\n",
    "end\n",
    "\n",
    "#@show lua.rowpermutation\n",
    "#@show lua.colpermutation\n",
    "@time lua \\ b\n",
    "#@show A \\ b\n",
    "#@test A * (lua \\ b)  ≈ b\n",
    "\n",
    "#@code_warntype solve(L, U, b)"
   ]
  },
  {
   "cell_type": "code",
   "execution_count": 11,
   "metadata": {},
   "outputs": [
    {
     "data": {
      "text/plain": [
       "true"
      ]
     },
     "metadata": {},
     "output_type": "display_data"
    }
   ],
   "source": [
    "function Base.transpose(A::rrLU{T}) where{T}\n",
    "    return rrLU(\n",
    "        A.colpermutation, A.rowpermutation,\n",
    "        Matrix(transpose(A.U)), Matrix(transpose(A.L)), !A.leftorthogonal, A.npivot, A.error)\n",
    "end\n",
    "\n",
    "tlua = transpose(lua)\n",
    "\n",
    "TCI.left(tlua) * TCI.right(tlua) ≈ transpose(A)"
   ]
  },
  {
   "cell_type": "code",
   "execution_count": 14,
   "metadata": {},
   "outputs": [
    {
     "data": {
      "text/plain": [
       "\u001b[32m\u001b[1mTest Passed\u001b[22m\u001b[39m"
      ]
     },
     "metadata": {},
     "output_type": "display_data"
    }
   ],
   "source": [
    "Random.seed!(1234)\n",
    "N1, N2, N3 = 100, 100, 100\n",
    "A = rand(N1, N2)\n",
    "\n",
    "tlu = transpose(TCI.rrlu(A))\n",
    "\n",
    "@test TCI.left(tlu) * TCI.right(tlu) ≈ A'"
   ]
  },
  {
   "cell_type": "code",
   "execution_count": 80,
   "metadata": {},
   "outputs": [
    {
     "name": "stdout",
     "output_type": "stream",
     "text": [
      "TCI.left(lua) * TCI.right(lua) ≈ A = true\n",
      "lua.rowpermutation = [2, 1]\n",
      "lua.colpermutation = [2, 1]\n"
     ]
    },
    {
     "data": {
      "text/plain": [
       "2-element Vector{Int64}:\n",
       " 2\n",
       " 1"
      ]
     },
     "metadata": {},
     "output_type": "display_data"
    }
   ],
   "source": [
    "A = L * U\n",
    "lua = TCI.rrlu(A)\n",
    "@show TCI.left(lua) * TCI.right(lua) ≈ A\n",
    "@show lua.rowpermutation\n",
    "@show lua.colpermutation"
   ]
  },
  {
   "cell_type": "code",
   "execution_count": 81,
   "metadata": {},
   "outputs": [
    {
     "name": "stdout",
     "output_type": "stream",
     "text": [
      "A = [0.016551426583781177 0.08767964216628267; 0.05493752065675756 0.359912199470381]\n"
     ]
    },
    {
     "data": {
      "text/plain": [
       "2×2 Matrix{Float64}:\n",
       " 0.0165514  0.0876796\n",
       " 0.0549375  0.359912"
      ]
     },
     "metadata": {},
     "output_type": "display_data"
    }
   ],
   "source": [
    "@show A"
   ]
  },
  {
   "cell_type": "code",
   "execution_count": 86,
   "metadata": {},
   "outputs": [
    {
     "data": {
      "text/plain": [
       "true"
      ]
     },
     "metadata": {},
     "output_type": "display_data"
    }
   ],
   "source": [
    "import TensorCrossInterpolation: rrLU, left, right\n",
    "\n",
    "function solve(A::rrLU{T}, b::AbstractMatrix{T}) where{T}\n",
    "    b_perm = b[A.rowpermutation, :]\n",
    "    x_perm = solve(A.L, A.U, b_perm)\n",
    "    return x_perm[A.colpermutation, :]\n",
    "end\n",
    "\n",
    "solve(lua, b) ≈ A \\ b\n"
   ]
  },
  {
   "cell_type": "code",
   "execution_count": null,
   "metadata": {},
   "outputs": [],
   "source": []
  }
 ],
 "metadata": {
  "kernelspec": {
   "display_name": "Julia 1.10.4",
   "language": "julia",
   "name": "julia-1.10"
  },
  "language_info": {
   "file_extension": ".jl",
   "mimetype": "application/julia",
   "name": "julia",
   "version": "1.10.4"
  },
  "orig_nbformat": 4
 },
 "nbformat": 4,
 "nbformat_minor": 2
}
