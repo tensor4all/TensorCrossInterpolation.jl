{
 "cells": [
  {
   "cell_type": "code",
   "execution_count": 49,
   "metadata": {},
   "outputs": [],
   "source": [
    "using Revise\n",
    "\n",
    "using Test\n",
    "import TensorCrossInterpolation as TCI\n",
    "import Random"
   ]
  },
  {
   "cell_type": "code",
   "execution_count": 50,
   "metadata": {},
   "outputs": [],
   "source": [
    "using Test\n",
    "import TensorCrossInterpolation as TCI\n",
    "import TensorCrossInterpolation: rank, linkdims, TensorCI2, MultiIndex, evaluate, crossinterpolate2, pivoterror, tensortrain\n",
    "import Random\n",
    "import QuanticsGrids as QD"
   ]
  },
  {
   "cell_type": "code",
   "execution_count": 51,
   "metadata": {},
   "outputs": [],
   "source": [
    "import TensorCrossInterpolation as TCI\n",
    "using TensorCrossInterpolation\n",
    "using Random\n",
    "using Test\n",
    "using ITensors\n",
    "ITensors.disable_warn_order()"
   ]
  },
  {
   "cell_type": "code",
   "execution_count": 52,
   "metadata": {},
   "outputs": [
    {
     "data": {
      "text/plain": [
       "TensorCI2{Float64}([[2, 2, 2, 2, 1, 1, 1, 1], [1, 1, 2, 2, 2, 1, 2, 1], [1, 1, 1, 2, 1, 1, 2, 1], [1, 2, 1, 2, 1, 1, 1, 1], [2, 1, 1, 1, 2, 2, 2, 1], [2, 1, 1, 2, 2, 2, 1, 2], [1, 2, 2, 2, 2, 1, 1, 1], [1, 2, 2, 1, 1, 1, 1, 1], [2, 1, 2, 2, 2, 2, 1, 1], [2, 2, 2, 2, 1, 1, 2, 2]  …  [2, 2, 1, 1, 1, 1, 2, 2], [1, 1, 2, 2, 1, 1, 1, 2], [2, 2, 1, 1, 2, 1, 1, 1], [2, 2, 2, 2, 2, 1, 1, 1], [2, 1, 2, 1, 1, 2, 1, 1], [2, 2, 2, 2, 1, 2, 2, 1], [1, 1, 2, 2, 1, 2, 1, 2], [2, 1, 2, 2, 2, 1, 1, 2], [2, 1, 1, 2, 1, 1, 2, 1], [1, 1, 1, 1, 1, 2, 2, 2]], [2, 2, 2, 2, 2, 2, 2, 2], Float64[], [0.0, 0.0, 0.0, 0.0, 0.0, 0.0, 0.0], 0.9123429030511683)"
      ]
     },
     "metadata": {},
     "output_type": "display_data"
    }
   ],
   "source": [
    "seed = 124567890\n",
    "\n",
    "Random.seed!(seed)\n",
    "\n",
    "R = 8\n",
    "sites = [Index(2, \"n=$n\") for n in 1:R]\n",
    "\n",
    "Ψ = random_mps(sites; linkdims=20)\n",
    "rindex = Set([rand(1:2, R) for _ in 1:20])\n",
    "\n",
    "tensor = Array(reduce(*, Ψ), reverse(sites))\n",
    "tensor = tensor ./ maximum(abs, tensor)\n",
    "\n",
    "f(x) = tensor[x...]\n",
    "\n",
    "localdims = fill(2, R)\n",
    "initialpivots = MultiIndex[]\n",
    "for _ in 1:100\n",
    "    push!(initialpivots, [rand(1:d) for d in localdims])\n",
    "end\n",
    "#push!(initialpivots, [1, 1, 1, 1])\n",
    "#push!(initialpivots, [2, 1, 1, 1])\n",
    "#push!(initialpivots, [2, 1, 1, 1])\n",
    "#push!(initialpivots, [2, 2, 1, 1])\n",
    "\n",
    "tci = TensorCI2{Float64}(f, localdims, initialpivots)"
   ]
  },
  {
   "cell_type": "code",
   "execution_count": 53,
   "metadata": {},
   "outputs": [
    {
     "data": {
      "text/plain": [
       "(::TensorTrain{Float64, 3}) (generic function with 1 method)"
      ]
     },
     "metadata": {},
     "output_type": "display_data"
    }
   ],
   "source": [
    "sitetensors, Iset, Jset = TCI.sitetensors_site0update(tci, f)\n",
    "tt = TCI.TensorTrain(sitetensors)"
   ]
  },
  {
   "cell_type": "code",
   "execution_count": 54,
   "metadata": {},
   "outputs": [
    {
     "data": {
      "text/plain": [
       "checknesting (generic function with 1 method)"
      ]
     },
     "metadata": {},
     "output_type": "display_data"
    }
   ],
   "source": [
    "function checknesting(L, Iset, Jset, pivot)\n",
    "    leftnested = fill(false, L-1)\n",
    "    rightnested = fill(false, L-1)\n",
    "    for b in 1:L-1\n",
    "        if pivot[1:b] ∈ Iset[b+1]\n",
    "            leftnested[b] = true\n",
    "        else\n",
    "            break\n",
    "        end\n",
    "    end\n",
    "    for b in reverse(1:L-1)\n",
    "        if pivot[b+1:end] ∈ Jset[b]\n",
    "            rightnested[b] = true\n",
    "        else\n",
    "            break\n",
    "        end\n",
    "    end\n",
    "\n",
    "    fullnestedbond = Int[]\n",
    "    for b in 1:L-1\n",
    "        if leftnested[b] && rightnested[b]\n",
    "            push!(fullnestedbond, b)\n",
    "        end\n",
    "    end\n",
    "    return fullnestedbond\n",
    "end"
   ]
  },
  {
   "cell_type": "code",
   "execution_count": 55,
   "metadata": {},
   "outputs": [
    {
     "name": "stdout",
     "output_type": "stream",
     "text": [
      "[2, 2, 2, 2, 1, 1, 1, 1] [4, 5]\n",
      "[1, 1, 2, 2, 2, 1, 2, 1] [4, 5, 6]\n",
      "[1, 1, 1, 2, 1, 1, 2, 1] [3, 4]\n",
      "[1, 2, 1, 2, 1, 1, 1, 1] [4, 5]\n",
      "[2, 1, 1, 1, 2, 2, 2, 1] [4]\n",
      "[2, 1, 1, 2, 2, 2, 1, 2] [4]\n",
      "[1, 2, 2, 2, 2, 1, 1, 1] [4]\n",
      "[1, 2, 2, 1, 1, 1, 1, 1] [4, 5, 6, 7]\n",
      "[2, 1, 2, 2, 2, 2, 1, 1] [4]\n",
      "[2, 2, 2, 2, 1, 1, 2, 2] [3, 4, 5]\n",
      "[1, 2, 1, 2, 2, 2, 2, 1] [4]\n",
      "[2, 2, 1, 2, 2, 2, 2, 1] [4]\n",
      "[2, 1, 2, 1, 2, 2, 2, 1] [4]\n",
      "[1, 2, 1, 2, 1, 2, 1, 2] [4, 5]\n",
      "[2, 2, 2, 1, 2, 1, 2, 1] [4]\n",
      "[2, 1, 2, 1, 2, 1, 2, 1] [4]\n",
      "[1, 1, 1, 1, 1, 1, 2, 1] [4]\n",
      "[1, 2, 1, 2, 2, 1, 1, 1] [4]\n",
      "[1, 2, 2, 1, 2, 1, 2, 1] [4]\n",
      "[2, 2, 2, 1, 1, 1, 2, 2] [3, 4, 5]\n",
      "[1, 2, 1, 2, 2, 2, 1, 1] [4]\n",
      "[1, 2, 1, 1, 2, 2, 2, 2] [4]\n",
      "[2, 1, 2, 2, 2, 1, 2, 2] [4]\n",
      "[1, 1, 2, 1, 2, 1, 2, 1] [4]\n",
      "[2, 1, 1, 1, 2, 2, 1, 1] [4]\n",
      "[2, 1, 2, 1, 2, 1, 1, 2] [1, 2, 3, 4]\n",
      "[1, 2, 1, 1, 2, 1, 1, 1] [4]\n",
      "[2, 2, 2, 1, 1, 1, 1, 1] [4, 5]\n",
      "[2, 2, 2, 1, 1, 1, 2, 1] [4, 5]\n",
      "[2, 1, 1, 1, 1, 1, 2, 1] [4]\n",
      "[2, 1, 1, 2, 1, 2, 2, 1] [4]\n",
      "[1, 2, 2, 1, 1, 2, 1, 2] [4, 5]\n",
      "[2, 1, 1, 2, 1, 2, 1, 1] [4]\n",
      "[2, 1, 2, 1, 2, 1, 1, 2] [1, 2, 3, 4]\n",
      "[2, 2, 1, 1, 1, 2, 2, 2] [4]\n",
      "[2, 2, 1, 2, 2, 1, 1, 2] [4]\n",
      "[1, 2, 2, 1, 1, 1, 1, 1] [4, 5, 6, 7]\n",
      "[2, 2, 1, 1, 2, 1, 2, 2] [4, 5]\n",
      "[1, 2, 1, 1, 1, 2, 1, 2] [4]\n",
      "[1, 2, 2, 1, 1, 1, 2, 2] [3, 4, 5, 6]\n",
      "[1, 1, 2, 2, 1, 1, 1, 1] [4]\n",
      "[2, 2, 2, 2, 1, 2, 1, 1] [4, 5, 6]\n",
      "[1, 1, 2, 1, 1, 2, 1, 1] [2, 3, 4, 5]\n",
      "[1, 2, 2, 2, 1, 2, 1, 1] [4]\n",
      "[1, 1, 2, 1, 1, 1, 1, 1] [4, 5]\n",
      "[1, 1, 2, 2, 2, 1, 1, 2] [4, 5, 6]\n",
      "[2, 2, 1, 1, 2, 1, 2, 1] [4, 5]\n",
      "[1, 1, 2, 2, 2, 2, 2, 2] [3, 4, 5]\n",
      "[2, 2, 1, 2, 2, 1, 2, 2] [4]\n",
      "[2, 1, 1, 1, 1, 1, 1, 1] [4]\n",
      "[1, 1, 1, 1, 1, 1, 1, 2] [3, 4]\n",
      "[2, 1, 2, 1, 2, 1, 1, 2] [1, 2, 3, 4]\n",
      "[1, 2, 2, 2, 2, 1, 1, 1] [4]\n",
      "[1, 2, 1, 2, 2, 1, 1, 2] [4]\n",
      "[2, 1, 2, 1, 1, 1, 2, 2] [3, 4]\n",
      "[2, 2, 1, 2, 2, 2, 2, 2] [2, 3, 4]\n",
      "[1, 1, 1, 1, 2, 2, 2, 1] [4]\n",
      "[2, 2, 2, 1, 2, 1, 1, 2] [2, 3, 4]\n",
      "[2, 1, 1, 1, 2, 2, 1, 1] [4]\n",
      "[2, 1, 1, 1, 1, 2, 2, 2] [4]\n",
      "[2, 1, 1, 2, 2, 1, 1, 1] [4]\n",
      "[2, 2, 2, 2, 1, 2, 1, 2] [4, 5, 6]\n",
      "[1, 1, 2, 1, 2, 1, 2, 2] [4]\n",
      "[1, 1, 2, 1, 2, 2, 1, 2] [4]\n",
      "[1, 1, 2, 1, 1, 2, 1, 1] [2, 3, 4, 5]\n",
      "[1, 1, 2, 1, 1, 2, 1, 2] [4, 5]\n",
      "[2, 1, 2, 2, 1, 1, 2, 2] [3, 4]\n",
      "[2, 2, 1, 1, 1, 2, 2, 1] [4]\n",
      "[1, 1, 2, 1, 2, 2, 1, 1] [4]\n",
      "[2, 1, 2, 1, 2, 1, 1, 1] [4]\n",
      "[1, 2, 2, 2, 2, 2, 1, 2] [4]\n",
      "[2, 2, 1, 2, 2, 1, 1, 2] [4]\n",
      "[1, 1, 1, 2, 2, 1, 2, 1] [4]\n",
      "[1, 2, 1, 2, 1, 2, 2, 1] [4, 5]\n",
      "[2, 1, 2, 2, 1, 2, 1, 1] [4]\n",
      "[2, 2, 1, 2, 2, 2, 1, 2] [4]\n",
      "[2, 2, 2, 1, 1, 2, 1, 1] [1, 2, 3, 4, 5, 6, 7]\n",
      "[1, 2, 1, 1, 1, 1, 1, 1] [4]\n",
      "[1, 1, 1, 1, 1, 1, 1, 1] [4]\n",
      "[2, 1, 1, 2, 2, 2, 1, 2] [4]\n",
      "[2, 1, 1, 2, 2, 1, 1, 2] [4]\n",
      "[2, 2, 1, 2, 2, 2, 2, 1] [4]\n",
      "[2, 2, 2, 1, 2, 1, 1, 1] [4]\n",
      "[2, 1, 2, 2, 2, 2, 2, 1] [4]\n",
      "[2, 2, 1, 2, 1, 1, 1, 2] [3, 4, 5]\n",
      "[2, 2, 1, 1, 1, 1, 2, 2] [3, 4]\n",
      "[2, 1, 2, 1, 2, 2, 2, 1] [4]\n",
      "[1, 1, 2, 2, 1, 1, 1, 2] [3, 4]\n",
      "[2, 2, 1, 1, 2, 1, 1, 1] [4, 5]\n",
      "[2, 2, 2, 2, 2, 1, 1, 1] [4]\n",
      "[2, 1, 2, 1, 1, 2, 1, 1] [2, 3, 4]\n",
      "[1, 1, 2, 2, 2, 1, 1, 2] [4, 5, 6]\n",
      "[2, 2, 2, 2, 1, 2, 2, 1] [4, 5, 6]\n",
      "[1, 1, 2, 2, 1, 2, 1, 2] [4]\n",
      "[2, 1, 2, 1, 2, 2, 2, 1] [4]\n",
      "[2, 1, 2, 2, 2, 1, 1, 2] [4]\n",
      "[2, 1, 1, 2, 1, 1, 2, 1] [3, 4]\n",
      "[1, 1, 1, 1, 1, 2, 2, 2] [4]\n",
      "[1, 1, 1, 1, 1, 1, 1, 1] [4]\n",
      "[2, 2, 2, 2, 1, 2, 2, 1] [4, 5, 6]\n"
     ]
    }
   ],
   "source": [
    "for p in initialpivots\n",
    "    bs = checknesting(R, Iset, Jset, p)\n",
    "    println(\"$p $bs\")\n",
    "    if isempty(bs)\n",
    "        @error \"$p is not full nested at any bond!\"\n",
    "    end\n",
    "end"
   ]
  },
  {
   "cell_type": "code",
   "execution_count": 56,
   "metadata": {},
   "outputs": [
    {
     "name": "stdout",
     "output_type": "stream",
     "text": [
      "b = 1\n",
      "Iset[b + 1] = [[2], [1]]\n",
      "Jset[b] = [[2, 2, 1, 1, 2, 1, 1], [1, 2, 1, 2, 1, 1, 2]]\n",
      "\n",
      "b = 2\n",
      "Iset[b + 1] = [[2, 2], [1, 1], [2, 1], [1, 2]]\n",
      "Jset[b] = [[2, 1, 1, 2, 1, 1], [2, 1, 2, 1, 1, 2], [1, 1, 2, 1, 2, 1], [1, 2, 2, 2, 2, 2]]\n",
      "\n",
      "b = 3\n",
      "Iset[b + 1] = [[1, 2, 2], [2, 2, 2], [1, 1, 2], [1, 2, 1], [2, 1, 1], [1, 1, 1], [2, 2, 1], [2, 1, 2]]\n",
      "Jset[b] = [[1, 1, 1, 1, 2], [1, 1, 2, 1, 1], [1, 2, 1, 1, 2], [2, 2, 2, 2, 2], [1, 1, 1, 2, 2], [2, 1, 1, 1, 2], [2, 1, 1, 2, 2], [2, 1, 1, 2, 1]]\n",
      "\n",
      "b = 4\n",
      "Iset[b + 1] = [[1, 2, 2, 1], [1, 1, 1, 2], [1, 1, 2, 1], [2, 2, 2, 1], [2, 1, 2, 2], [2, 2, 2, 2], [2, 2, 1, 2], [1, 2, 1, 2], [2, 2, 1, 1], [2, 1, 2, 1], [2, 1, 1, 1], [1, 2, 1, 1], [1, 1, 2, 2], [1, 2, 2, 2], [1, 1, 1, 1], [2, 1, 1, 2]]\n",
      "Jset[b] = [[1, 1, 1, 2], [2, 1, 1, 2], [1, 2, 1, 1], [2, 1, 2, 2], [1, 1, 2, 1], [1, 1, 1, 1], [1, 1, 2, 2], [2, 2, 2, 2], [1, 2, 2, 2], [2, 2, 1, 1], [2, 1, 2, 1], [1, 2, 2, 1], [2, 2, 1, 2], [1, 2, 1, 2], [2, 2, 2, 1], [2, 1, 1, 1]]\n",
      "\n",
      "b = 5\n",
      "Iset[b + 1] = [[1, 2, 2, 1, 1], [2, 2, 2, 1, 1], [1, 1, 2, 2, 2], [2, 2, 1, 1, 2], [1, 1, 2, 1, 1], [1, 2, 1, 2, 1], [2, 2, 2, 2, 1], [2, 2, 1, 2, 1]]\n",
      "Jset[b] = [[1, 1, 2], [2, 1, 1], [1, 2, 2], [2, 2, 2], [1, 1, 1], [1, 2, 1], [2, 1, 2], [2, 2, 1]]\n",
      "\n",
      "b = 6\n",
      "Iset[b + 1] = [[1, 2, 2, 1, 1, 1], [2, 2, 2, 1, 1, 2], [1, 1, 2, 2, 2, 1], [2, 2, 2, 2, 1, 2]]\n",
      "Jset[b] = [[1, 2], [1, 1], [2, 2], [2, 1]]\n",
      "\n",
      "b = 7\n",
      "Iset[b + 1] = [[1, 2, 2, 1, 1, 1, 1], [2, 2, 2, 1, 1, 2, 1]]\n",
      "Jset[b] = [[2], [1]]\n",
      "\n"
     ]
    }
   ],
   "source": [
    "for b in 1:length(tci)-1\n",
    "    @show b\n",
    "    @show Iset[b+1]\n",
    "    @show Jset[b]\n",
    "    println(\"\")\n",
    "end"
   ]
  },
  {
   "cell_type": "code",
   "execution_count": 57,
   "metadata": {},
   "outputs": [
    {
     "name": "stdout",
     "output_type": "stream",
     "text": [
      "size(t) = (1, 2)\n",
      "size(t) = (2, 4)\n",
      "size(t) = (4, 8)\n",
      "size(t) = (8, 16)\n"
     ]
    }
   ],
   "source": [
    "#pivot = [2, 2, 1, 1]\n",
    "pivot = [1, 1, 1, 1]\n",
    "sitetensors_p = [t[:, p, :] for (p, t) in zip(pivot, tt)]\n",
    "for t in sitetensors_p\n",
    "    @show size(t)\n",
    "end"
   ]
  }
 ],
 "metadata": {
  "kernelspec": {
   "display_name": "Julia 1.10.4",
   "language": "julia",
   "name": "julia-1.10"
  },
  "language_info": {
   "file_extension": ".jl",
   "mimetype": "application/julia",
   "name": "julia",
   "version": "1.10.4"
  },
  "orig_nbformat": 4
 },
 "nbformat": 4,
 "nbformat_minor": 2
}
